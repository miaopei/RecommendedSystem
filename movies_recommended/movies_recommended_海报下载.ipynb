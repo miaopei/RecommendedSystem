{
 "cells": [
  {
   "cell_type": "code",
   "execution_count": null,
   "metadata": {
    "collapsed": true
   },
   "outputs": [],
   "source": [
    "from IPython.display import Image\n",
    "from IPython.display import display\n",
    "import requests\n",
    "import json\n",
    "import re\n",
    "import csv\n",
    "import pandas as pd\n",
    "\n",
    "def save_img(img_url, file_name, file_path='./image'):\n",
    "    #保存图片到磁盘文件夹 file_path 中，默认为当前脚本运行目录下的 ./image 文件夹\n",
    "    try:\n",
    "        if not os.path.exists(file_path):\n",
    "            print('文件夹',file_path,'不存在，重新建立')\n",
    "            #os.mkdir(file_path)\n",
    "            os.makedirs(file_path)\n",
    "            \n",
    "        #获得图片后缀\n",
    "        file_suffix = os.path.splitext(img_url)[1]\n",
    "        #拼接图片名（包含路径）\n",
    "        filename = '{}{}{}{}'.format(file_path,os.sep,file_name,file_suffix)\n",
    "        #下载图片，并保存到文件夹中\n",
    "        urllib.urlretrieve(img_url, filename=filename)\n",
    "    except IOError as e:\n",
    "        print('文件操作失败',e) \n",
    "    except Exception as e:\n",
    "        print('错误 ：',e) \n",
    "\n",
    "\n",
    "def writer_csv(csv_path, data):\n",
    "    \"\"\"\n",
    "    :type csv_path: str\n",
    "    :type data: dict\n",
    "    :rtype: None\n",
    "    \"\"\"\n",
    "    with open(csv_path, 'w') as csv_file:\n",
    "        writer = csv.writer(csv_file)\n",
    "        for key, value in data.items():\n",
    "            writer.writerow([key, value])\n",
    "\n",
    "def writer_csv_1(csv_path, data):\n",
    "    '''\n",
    "    #任意的多组列表\n",
    "    a = [1,2,3]\n",
    "    b = [4,5,6]    \n",
    "\n",
    "    #字典中的key值即为csv中列名\n",
    "    dataframe = pd.DataFrame({'a_name':a,'b_name':b})\n",
    "\n",
    "    #将DataFrame存储为csv,index表示是否显示行名，default=True\n",
    "    dataframe.to_csv(\"test.csv\",index=False,sep=',')    \n",
    "    '''\n",
    "    pass\n",
    "\n",
    "            \n",
    "def readr_csv(csv_path):\n",
    "    \"\"\"\n",
    "    :type cav_path: str\n",
    "    :rtpye: dict\n",
    "    \"\"\"\n",
    "    with open(csv_path, 'r') as csv_file:\n",
    "        reader = csv.reader(csv_file)\n",
    "        return dict(reader)\n",
    "    \n",
    "def create_movies_url_csv():\n",
    "    pass\n",
    "\n",
    "def get_poster(recom_item):\n",
    "    posters = []\n",
    "    titles = recom_item.title\n",
    "    imdbIds = pd.merge(recom_item, links).imdbId\n",
    "    for imdbId in imdbIds:\n",
    "        #Get posters from Movie Database by API\n",
    "        headers = {'Accept':'application/json'}\n",
    "        payload = {'api_key':'20047cd838219fb54d1f8fc32c45cda4'}\n",
    "        response = requests.get('http://api.themoviedb.org/3/configuration', params=payload, headers=headers)\n",
    "        response = json.loads(response.text)\n",
    "\n",
    "        base_url = response['images']['base_url'] + 'w185'\n",
    "        \n",
    "        #query themovie.org API for movie poster path.\n",
    "        imdb_id = 'tt0{0}'.format(imdbId)\n",
    "        movie_url = 'http://api.themoviedb.org/3/movie/{:}/images'.format(imdb_id)\n",
    "        response = requests.get(movie_url, params=payload, headers=headers)\n",
    "        try:\n",
    "            file_path = json.loads(response.text)['posters'][0]['file_path']\n",
    "        except:\n",
    "            print('Something wrong, cannot get the poster for imdb id: {0}!'.format(imdb))\n",
    "        \n",
    "        url = base_url + file_path\n",
    "        #posters.append(Image(url=url))\n",
    "        \n"
   ]
  },
  {
   "cell_type": "code",
   "execution_count": null,
   "metadata": {
    "collapsed": true
   },
   "outputs": [],
   "source": [
    "get_poster(movies.sort_values('rating sum', ascending=False))"
   ]
  },
  {
   "cell_type": "code",
   "execution_count": null,
   "metadata": {
    "collapsed": true
   },
   "outputs": [],
   "source": []
  }
 ],
 "metadata": {
  "kernelspec": {
   "display_name": "Python 3",
   "language": "python",
   "name": "python3"
  },
  "language_info": {
   "codemirror_mode": {
    "name": "ipython",
    "version": 3
   },
   "file_extension": ".py",
   "mimetype": "text/x-python",
   "name": "python",
   "nbconvert_exporter": "python",
   "pygments_lexer": "ipython3",
   "version": "3.5.4"
  }
 },
 "nbformat": 4,
 "nbformat_minor": 1
}
