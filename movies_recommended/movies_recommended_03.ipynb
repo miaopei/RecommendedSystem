{
 "cells": [
  {
   "cell_type": "markdown",
   "metadata": {},
   "source": [
    "###### P\n",
    "\n",
    "> [W1_017陈佳豪](https://www.kesci.com/home/project/5a73e21659774204c69f2559)\n",
    "\n",
    "# <center>目录索引</center>\n",
    "\n",
    "# 一、准备\n",
    "\n",
    "## 1、项目准备\n",
    "- 数据清洗\n",
    "- 为了让结果显得更美好，这里使用爬虫，在推荐的结果显示了海报，**这是最主要的**，因为用户能看到真实的样子，才会知道自己会不会去看，而不是简单的文字。这是一个很优雅的地方。\n",
    "\n",
    "## 2、数据整合和变量的初始化\n",
    "\n",
    "## 3、思路\n",
    "在实现MF中，因为搜索的空间太大了，这里使用了user-user来转化，但是为了避免大量的计算，这里我自己重写了核心代码，基本思想和CF类似，但是实现方式有所不同。\n",
    "\n",
    "# 二、代码重构\n",
    "\n",
    "## 1、函数定义\n",
    "\n",
    "### 1.1、参数说明\n",
    "- **userId:**需要推荐的用户Id,0则表示未知用户\n",
    "- **top:**推荐多少部电影\n",
    "- **poster:**是否显示推荐电影的海报\n",
    "- **show:**是否显示结果\n",
    "\n",
    "### 1.2、具体函数\n",
    "\n",
    "```python\n",
    "def always_most_popular_recommendation(userId=0,top=10,poster=False,show=True):\n",
    "    pass\n",
    "def content_based_exact_knn_recommendation(userId=1,top=10,poster=False,show=True):\n",
    "    pass\n",
    "def content_based_approximate_knn_recommendation(userId=1,top=10,poster=False,show=True):\n",
    "    pass\n",
    "def user_to_User_cf_recommendation(userId=1,top=10,poster=False,show=True):\n",
    "    pass\n",
    "def item_to_item_cf_recommendation(userId=1,top=10,poster=False,show=True):\n",
    "    pass\n",
    "def mf_recommendation(userId=1,top=10,poster=False,show=True):\n",
    "```\n",
    "## 2、函数实现\n",
    "\n",
    "### 2.0 [Always recommend the most popular item](#Always-recommend-the-most-popular-item)\n",
    "\n",
    "### 2.1 [Content based recommendation by using exact KNN search](###Content-based-recommendation-by-using-exact-KNN-search)\n",
    "### 2.2 Content based approximate knn Recommendation (未能实现faiss)\n",
    "### 2.3 [User to User CF Recommendation](#User-to-User-CF-Recommendation)\n",
    "### 2.4 [Item to Item CF Recommendation](#Item-to-Item-CF-Recommendation)\n",
    "### 2.5 [Matrix Factorization Recommendation](#Matrix-Factorization-Recommendation)\n",
    "\n",
    "\n",
    "# 三、改进算法\n",
    "\n",
    "- 1、多指标可以改进\n",
    "- 2、在对用户评分>=4.5的电影中，按照流派排名的前五的占到用户其它流派的**75%**，用流派可能会有好的结果\n",
    "- 3、总体的评分对于用户具体的电影影响不是最大的因素（谁说烂片没人看了~）\n",
    "- 4、我觉得这里有很多指标，但是应该找个办法去度量所有指标的办法，来找到top指标来综合考虑，这应该是最好的方案了。时间和能力有限，今天能做多少做多少吧！\n",
    "\n",
    "# 四、误差估计\n",
    "\n",
    "最好的召回率是28%（KNN）但是感觉还是不很满足，这是很低！多维度是一个方向\n",
    "\n",
    "# 五、推荐结果 [优雅的显示](#推荐结果)"
   ]
  },
  {
   "cell_type": "markdown",
   "metadata": {},
   "source": [
    "## 1. 项目准备"
   ]
  },
  {
   "cell_type": "code",
   "execution_count": null,
   "metadata": {
    "collapsed": true
   },
   "outputs": [],
   "source": [
    "#关闭警告信息\n",
    "import warnings\n",
    "warnings.filterwarnings('ignore')"
   ]
  },
  {
   "cell_type": "code",
   "execution_count": null,
   "metadata": {
    "collapsed": false
   },
   "outputs": [],
   "source": [
    "# 查看当前挂载的数据集目录\n",
    "!ls ml-20m/"
   ]
  },
  {
   "cell_type": "markdown",
   "metadata": {},
   "source": [
    "### 1.1 加载数据分析常用库"
   ]
  },
  {
   "cell_type": "code",
   "execution_count": null,
   "metadata": {
    "collapsed": true
   },
   "outputs": [],
   "source": [
    "import pandas as pd\n",
    "import numpy as np\n",
    "import matplotlib.pyplot as plt\n",
    "% matplotlib inline"
   ]
  },
  {
   "cell_type": "markdown",
   "metadata": {},
   "source": [
    "### 1.2 设置显示选项"
   ]
  },
  {
   "cell_type": "code",
   "execution_count": null,
   "metadata": {
    "collapsed": true
   },
   "outputs": [],
   "source": [
    "pd.set_option('display.max_columns', 8)\n",
    "pd.set_option('display.max_rows', 8)"
   ]
  },
  {
   "cell_type": "markdown",
   "metadata": {},
   "source": [
    "### 1.3 加载数据"
   ]
  },
  {
   "cell_type": "code",
   "execution_count": null,
   "metadata": {
    "collapsed": false
   },
   "outputs": [],
   "source": [
    "ratings = pd.read_csv('ml-20m/ratings.csv')\n",
    "movies = pd.read_csv('ml-20m/movies.csv')\n",
    "links = pd.read_csv('ml-20m/links.csv')\n",
    "genome_tags = pd.read_csv('ml-20m/genome-tags.csv')\n",
    "tags = pd.read_csv('ml-20m/tags.csv')\n",
    "genome_scores = pd.read_csv('ml-20m/genome-scores.csv')"
   ]
  },
  {
   "cell_type": "markdown",
   "metadata": {},
   "source": [
    "### 1.4 选取部分数据进行分析\n",
    "\n",
    "**变量**\n",
    "\n",
    "- **users_num**: `userId`小于等于`users_num`的评分\n",
    "- **movies_num**: `movieId`小于等于`movies_num`的电影"
   ]
  },
  {
   "cell_type": "code",
   "execution_count": null,
   "metadata": {
    "collapsed": true
   },
   "outputs": [],
   "source": [
    "users_num = 500\n",
    "movies_num = 3000\n",
    "\n",
    "ratings = ratings[(ratings.movieId <= movies_num) & (ratings.userId <= users_num)]\n",
    "genome_scores = genome_scores[genome_scores.movieId <= movies_num]\n",
    "tags = tags[tags.movieId <= movies_num]\n",
    "tagIds_num = genome_tags.index.size\n",
    "movies = movies[movies.movieId <= movies_num]\n",
    "links = links[links.movieId <= movies_num]"
   ]
  },
  {
   "cell_type": "markdown",
   "metadata": {},
   "source": [
    "## 2. 数据整合和变量的初始化\n",
    "\n",
    ">将后面常用的数据整合到一张表中\n",
    "\n",
    "### 2.1 变量\n",
    "\n",
    "- **rating_count**: 每一部电影评分的人数\n",
    "- **rating_sum**: 每一部电影获得评分的总数\n",
    "- **n_users**: 总用户数\n",
    "- **n_items**: 总电影数"
   ]
  },
  {
   "cell_type": "code",
   "execution_count": null,
   "metadata": {
    "collapsed": true
   },
   "outputs": [],
   "source": [
    "# 每一部电影评分的人数\n",
    "rating_count = pd.merge(movies, ratings, on='movieId', how='right').groupby('movieId').size()\n",
    "rating_count = pd.DataFrame({'rating count':rating_count.values, \"movieId\":rating_count.index})\n",
    "# rating_count\n",
    "# 每一部电影获得评分的总数\n",
    "rating_sum = pd.merge(movies, ratings, on='movieId', how='left').groupby('movieId').sum()\n",
    "rating_sum = pd.DataFrame({'rating sum':rating_sum.rating, \"movieId\":rating_sum.index})\n",
    "# rating_sum"
   ]
  },
  {
   "cell_type": "code",
   "execution_count": null,
   "metadata": {
    "collapsed": true
   },
   "outputs": [],
   "source": [
    "# 融合电影表\n",
    "movies = pd.merge(movies, rating_count, on='movieId', how='left')\n",
    "movies = pd.merge(movies, rating_sum, on='movieId', how='left')\n",
    "movies = movies.fillna(0)\n",
    "movies"
   ]
  },
  {
   "cell_type": "code",
   "execution_count": null,
   "metadata": {
    "collapsed": true
   },
   "outputs": [],
   "source": [
    "## 统计数据中的用户量和电影量\n",
    "n_users = ratings.userId.unique().shape[0]\n",
    "n_items = ratings.movieId.unique().shape[0]\n",
    "print (str(n_users) + ' users')\n",
    "print (str(n_items) + ' movies')"
   ]
  },
  {
   "cell_type": "markdown",
   "metadata": {},
   "source": [
    "### 2.2 relevance 矩阵"
   ]
  },
  {
   "cell_type": "code",
   "execution_count": null,
   "metadata": {
    "collapsed": true
   },
   "outputs": [],
   "source": [
    "relevance = np.zeros((movies_num, tagIds_num))\n",
    "relevance[genome_scores.movieId.as_matrix() - 1, genome_scores.tagId.as_matrix() - 1] = \\\n",
    "        genome_scores.relevance.as_matrix()\n",
    "relevance.shape"
   ]
  },
  {
   "cell_type": "code",
   "execution_count": null,
   "metadata": {
    "collapsed": true
   },
   "outputs": [],
   "source": [
    "# 将用户打的标签改成标签的 tagId 来方便做相似度计算\n",
    "tags = pd.merge(tags, genome_tags, on='tag', how='left')"
   ]
  },
  {
   "cell_type": "markdown",
   "metadata": {},
   "source": [
    "### 2.3 构建标签矩阵, 对应电影有该 tag 标记为 1"
   ]
  },
  {
   "cell_type": "code",
   "execution_count": null,
   "metadata": {
    "collapsed": true
   },
   "outputs": [],
   "source": [
    "tag_mat = np.zeros((movies_num, tagIds_num), dtype=np.int0) #这里数据类型改成 np.int0 可以减少内存的消耗\n",
    "#去除tagId中的NAN\n",
    "tags_new = tags[tags.tagId.isnull().values == False].copy()\n",
    "tags_new[['tagId']] = tags_new[['tagId']].astype(np.int16)\n",
    "tag_mat[tags_new.movieId.as_matrix() - 1, tags_new.tagId.as_matrix() - 1] = 1"
   ]
  },
  {
   "cell_type": "markdown",
   "metadata": {},
   "source": [
    "### 2.4 构建 IDF 矩阵"
   ]
  },
  {
   "cell_type": "code",
   "execution_count": null,
   "metadata": {
    "collapsed": true
   },
   "outputs": [],
   "source": [
    "# tag_num 表示每个 tag 共出现在多少部电影中\n",
    "tag_num = tag_mat.sum(axis=0) + 0.01\n",
    "IDF_mat = np.log(movies_num / tag_num)\n",
    "TF_IDF_mat = relevance * IDF_mat\n",
    "TF_IDF_mat"
   ]
  },
  {
   "cell_type": "markdown",
   "metadata": {},
   "source": [
    "### 2.5 显示电影海报"
   ]
  },
  {
   "cell_type": "code",
   "execution_count": null,
   "metadata": {
    "collapsed": true
   },
   "outputs": [],
   "source": [
    "#!pip install requests\n",
    "\n",
    "from IPython.display import Image\n",
    "from IPython.display import display\n",
    "import requests\n",
    "import re\n",
    "\n",
    "def get_poster(recom_item):\n",
    "    posters = []\n",
    "    titles = recom_item.title\n",
    "    imdbIds = pd.merge(recom_item, links).imdbId\n",
    "    #print(imdbIds)\n",
    "    for imdbId in imdbIds:\n",
    "        url = \"http://www.imdb.com/title/tt{:0>7}/\".format(imdbId)\n",
    "        host = \"https://images-na.ssl-images-amazon.com/images/M/\"\n",
    "        pattern = r\"https://images-na.ssl-images-amazon.com/images/M/[\\S]*?jpg\"\n",
    "        #print(url)\n",
    "        wb_data = requests.get(url)\n",
    "        #print(wb_data.text)\n",
    "        urls = re.findall(pattern, wb_data.text)\n",
    "        #print(urls)\n",
    "        url = urls[0].split('/')[5].split('.')\n",
    "        url = host+url[0]+'._V1_UX182_CR0,0,182,268_AL_.jpg'\n",
    "        posters.append(Image(url=url))\n",
    "        \n",
    "    for index, poster, title in zip(range(len(posters)), posters, titles):\n",
    "        print(str(index + 1) + '、' + title)\n",
    "        display(poster)"
   ]
  },
  {
   "cell_type": "markdown",
   "metadata": {},
   "source": [
    "### 2.6 输出推荐的结果"
   ]
  },
  {
   "cell_type": "code",
   "execution_count": null,
   "metadata": {
    "collapsed": true
   },
   "outputs": [],
   "source": [
    "def show_user_movies(recom_movies, poster=False):\n",
    "    if(poster):\n",
    "        get_poster(recom_movies)\n",
    "    else:\n",
    "        titles = recom_movies.title\n",
    "        for index, title in zip(range(titles.size), titles):\n",
    "            print(str(index + 1) + '、' + title)"
   ]
  },
  {
   "cell_type": "markdown",
   "metadata": {},
   "source": [
    "[返回索引](#P)"
   ]
  },
  {
   "cell_type": "markdown",
   "metadata": {},
   "source": [
    "### 2.7 Always-recommend-the-most-popular-item"
   ]
  },
  {
   "cell_type": "code",
   "execution_count": null,
   "metadata": {
    "collapsed": true
   },
   "outputs": [],
   "source": [
    "def always_most_popular_recommendation(userId=0, top=10, poster=False, show=True):\n",
    "    recom_movies=movies.sort_values('rating sum', ascending=False)[0:top]\n",
    "    if(show):\n",
    "        show_user_movies(recom_movies, poster)\n",
    "    return recom_movies"
   ]
  },
  {
   "cell_type": "markdown",
   "metadata": {},
   "source": [
    "[返回索引](#P)"
   ]
  },
  {
   "cell_type": "markdown",
   "metadata": {},
   "source": [
    "### 2.8 Content-based-recommendation-by-using-exact-KNN-search"
   ]
  },
  {
   "cell_type": "code",
   "execution_count": null,
   "metadata": {
    "collapsed": true
   },
   "outputs": [],
   "source": [
    "#先得到ratings矩阵\n",
    "user_ratings = np.zeros((users_num, movies_num))\n",
    "user_ratings[ratings.userId.as_matrix() - 1, ratings.movieId.as_matrix() - 1] = ratings.rating.as_matrix()\n",
    "new_ratings = np.zeros((users_num, movies_num))\n",
    "for i in range(user_ratings.shape[0]):\n",
    "    average = np.mean(user_ratings[i,:][user_ratings[i,:].nonzero()])\n",
    "    where = user_ratings[i,:].nonzero()\n",
    "    if len(where[0]) > 0:\n",
    "        ##每个人的ratings[i,:][where]-average和为0，+1/len(where)使他们的加权和为1\n",
    "        new_ratings[i,:][where] = user_ratings[i,:][where] - average + 1 / len(where[0]) "
   ]
  },
  {
   "cell_type": "markdown",
   "metadata": {},
   "source": [
    "#### 2.8.1 进行矩阵运算，计算出 user_tag 矩阵(各用户‘最喜爱的电影’应具备的标签)"
   ]
  },
  {
   "cell_type": "code",
   "execution_count": null,
   "metadata": {
    "collapsed": true
   },
   "outputs": [],
   "source": [
    "user_tag_mat = new_ratings.dot(TF_IDF_mat)\n",
    "user_tag_mat[0:4,0:4]"
   ]
  },
  {
   "cell_type": "code",
   "execution_count": null,
   "metadata": {
    "collapsed": true
   },
   "outputs": [],
   "source": [
    "def content_based_exact_knn_recommendation(userId=1, top=10, poster=False, show=True):\n",
    "    from sklearn.neighbors import NearestNeighbors\n",
    "    user_tag = user_tag_mat[userId,:]\n",
    "    nbrs = NearestNeighbors(n_neighbors=top, algorithm='ball_tree').fit(TF_IDF_mat)\n",
    "    distances, indices = nbrs.kneighbors(user_tag)\n",
    "    recom_movies = pd.DataFrame({'movieId':indices[0] + 1})\n",
    "    recom_movies = pd.merge(recom_movies, movies, how='left', on='movieId')\n",
    "    \n",
    "    if(show):\n",
    "        show_user_movies(recom_movies, poster)\n",
    "    return recom_movies"
   ]
  },
  {
   "cell_type": "markdown",
   "metadata": {},
   "source": [
    "#### 2.8.2 CF（3，4）算法准备\n",
    "\n",
    "映射数据，因为电影的id和电影的比例很大，所以全部有点浪费"
   ]
  },
  {
   "cell_type": "code",
   "execution_count": null,
   "metadata": {
    "collapsed": true
   },
   "outputs": [],
   "source": [
    "new_rating = ratings.copy()\n",
    "new_n_users = users_num\n",
    "new_n_items = new_rating.movieId.unique().shape[0]\n",
    "movie_map = pd.Series(index=new_rating.movieId.unique(), data=range(new_n_items))\n",
    "\n",
    "new_rating.movieId = movie_map[new_rating.movieId.values].values\n",
    "new_rating.movieId.describe()\n",
    "new_rating.head()"
   ]
  },
  {
   "cell_type": "markdown",
   "metadata": {},
   "source": [
    "#### 2.8.3 计算评分矩阵"
   ]
  },
  {
   "cell_type": "code",
   "execution_count": null,
   "metadata": {
    "collapsed": true
   },
   "outputs": [],
   "source": [
    "rating_matrix = np.zeros((new_n_users, new_n_items))\n",
    "for row in new_rating.itertuples():\n",
    "    rating_matrix[row[1] - 1, row[2] - 1] = row[3]\n",
    "    \n",
    "rating_matrix[0:4, 0:4]"
   ]
  },
  {
   "cell_type": "code",
   "execution_count": null,
   "metadata": {
    "collapsed": true
   },
   "outputs": [],
   "source": [
    "sparsity = float(len(rating_matrix.nonzero()[0]))\n",
    "sparsity /= (rating_matrix.shape[0] * rating_matrix.shape[1])\n",
    "sparsity *= 100\n",
    "print ('Sparsity: {:4.2f}%'.format(sparsity))"
   ]
  },
  {
   "cell_type": "code",
   "execution_count": null,
   "metadata": {
    "collapsed": true
   },
   "outputs": [],
   "source": [
    "def similarity(new_rating, kind='user', epsilon=1e-9):\n",
    "    # epsilon -> small number for handling dived-by-zero errors\n",
    "    if kind == 'user':\n",
    "        sim = new_rating.dot(new_rating.T) + epsilon\n",
    "    elif kind == 'item':\n",
    "        sim = new_rating.T.dot(new_rating) + epsilon\n",
    "    norms = np.array([np.sqrt(np.diagonal(sim))])\n",
    "    return (sim / norms / norms.T)"
   ]
  },
  {
   "cell_type": "markdown",
   "metadata": {},
   "source": [
    "#### 2.8.3 计算 user-user 和 item-item 相似矩阵"
   ]
  },
  {
   "cell_type": "code",
   "execution_count": null,
   "metadata": {
    "collapsed": true
   },
   "outputs": [],
   "source": [
    "user_similarity = similarity(rating_matrix, kind='user')\n",
    "item_similarity = similarity(rating_matrix, kind='item')"
   ]
  },
  {
   "cell_type": "markdown",
   "metadata": {},
   "source": [
    "[返回索引](#P)"
   ]
  },
  {
   "cell_type": "markdown",
   "metadata": {},
   "source": [
    "### 2.9 User-to-User-CF-Recommendation"
   ]
  },
  {
   "cell_type": "code",
   "execution_count": null,
   "metadata": {
    "collapsed": true
   },
   "outputs": [],
   "source": [
    "def user_to_User_cf_recommendation(userId=1, top=10, poster=False, show=True):\n",
    "    #1、获取和用户相似度高的用户\n",
    "    similar_user = np.argsort(user_similarity[userId,:])[:-k-1:-1].flatten()\n",
    "    similar_user = pd.DataFrame({\"userId\":similar_user})\n",
    "    similar_user_movies = pd.merge(similar_user, ratings, on='userId')\n",
    "    \n",
    "    #2、获取待推荐的电影\n",
    "    similar_user_movies = similar_user_movies[similar_user_movies.rating >= 3.5]\n",
    "    recom_movie_ids = similar_user_movies.groupby('movieId').size().sort_values(ascending=False)[0:top].index\n",
    "    recom_movies = pd.DataFrame({'movieId':recom_movie_ids})\n",
    "    recom_movies = pd.merge(recom_movies, movies, how='left', on='movieId')\n",
    "    \n",
    "    #3、是否显示\n",
    "    if(show):\n",
    "        show_user_movies(recom_movies, poster)\n",
    "    return recom_movies"
   ]
  },
  {
   "cell_type": "markdown",
   "metadata": {},
   "source": [
    "[返回索引](#P)"
   ]
  },
  {
   "cell_type": "markdown",
   "metadata": {},
   "source": [
    "### 2.10 Item-to-Item-CF-Recommendation"
   ]
  },
  {
   "cell_type": "code",
   "execution_count": null,
   "metadata": {
    "collapsed": true
   },
   "outputs": [],
   "source": [
    "def item_to_item_cf_recommendation(userId=1, top=10, poster=False, show=True):\n",
    "    #1、获取用户的电影id\n",
    "    user_love_movie_ids = new_rating[(new_rating.userId == userId) & (new_rating.rating >= 4.5)].movieId\n",
    "    \n",
    "    #2、通过相似矩阵来获得相近的电影\n",
    "    recom_movie_ids = np.argsort(item_similarity[user_love_movie_ids,:])[:,:-k-1:-1].flatten()\n",
    "    recom_movie_ids = pd.value_counts(c)[0:k].index\n",
    "    recom_movie_ids = list(movie_map.iloc[recom_movie_ids].index)\n",
    "    recom_movies = pd.DataFrame({'movieId':recom_movie_ids})\n",
    "    recom_movies = pd.merge(recom_movies, movies, how='left', on='movieId')\n",
    "    \n",
    "    #3、是否显示\n",
    "    if(show):\n",
    "        show_user_movies(recom_movies,poster)\n",
    "    return recom_movies"
   ]
  },
  {
   "cell_type": "markdown",
   "metadata": {},
   "source": [
    "[返回索引](#P)"
   ]
  },
  {
   "cell_type": "markdown",
   "metadata": {},
   "source": [
    "### 2.11 Matrix-Factorization-Recommendation\n",
    "\n",
    "#### 2.11.1 Matrix Factorization"
   ]
  },
  {
   "cell_type": "code",
   "execution_count": null,
   "metadata": {
    "collapsed": true
   },
   "outputs": [],
   "source": [
    "def matrix_factorization(R, P, Q, K, steps=5000, alpha=0.0002, beta=0.02):\n",
    "    Q = Q.T\n",
    "    for step in range(steps):\n",
    "        for i in range(len(R)):\n",
    "            for j in range(len(R[i])):\n",
    "                if R[i][j] > 0:\n",
    "                    eij = R[i][j] - np.dot(P[i,:],Q[:,j])\n",
    "                    for k in range(K):\n",
    "                        P[i][k] = P[i][k] + alpha * (2 * eij * Q[k][j] - beta * P[i][k])\n",
    "                        Q[k][j] = Q[k][j] + alpha * (2 * eij * P[i][k] - beta * Q[k][j])\n",
    "        eR = np.dot(P,Q)\n",
    "        e = 0\n",
    "        for i in range(len(R)):\n",
    "            for j in range(len(R[i])):\n",
    "                if R[i][j] > 0:\n",
    "                    e = e + pow(R[i][j] - np.dot(P[i,:],Q[:,j]), 2)\n",
    "                    for k in range(K):\n",
    "                        e = e + (beta/2) * (pow(P[i][k],2) + pow(Q[k][j],2))\n",
    "        if e < 0.001:\n",
    "            break\n",
    "    return P, Q.T"
   ]
  },
  {
   "cell_type": "code",
   "execution_count": null,
   "metadata": {
    "collapsed": true
   },
   "outputs": [],
   "source": [
    "def user_to_User_cf_recommendation(userId=1,top=10,poster=False,show=True):\n",
    "    #1、 用户1评分大于等于4的电影\n",
    "    user_high_score_movies=ratings[(ratings.userId==userId) &  (ratings.rating>=4)]\n",
    "    user_high_score=pd.DataFrame({\"movieId\":user_high_score_movies.movieId})\n",
    "    #2、 在评分中寻找，看过上面电影，并打分超过4.5的项目\n",
    "    find_similar=pd.merge(user_high_score,ratings,on='movieId')\n",
    "    find_similar=find_similar[(find_similar.userId != userId) & (find_similar.rating>=4.5)]\n",
    "    #3、 寻找和用户最相似的十个人\n",
    "    similar_users=find_similar.groupby('userId').apply(lambda x:len(x['movieId'].unique())).sort_values(ascending=False)[0:10]\n",
    "    similar_users=pd.DataFrame({\"userId\":similar_users.index})\n",
    "    #4、 筛选对十个人看的所有电影中打分超过4.5的电影\n",
    "    similar_users_movies=pd.merge(similar_users,ratings,on='userId')\n",
    "    similar_users_movies=similar_users_movies[similar_users_movies.rating>=4.5]\n",
    "    #5、 按照十个人中看的数目排名取前50\n",
    "    similar_users_movies=similar_users_movies.groupby('movieId').apply(lambda x:len(x['userId'].unique()))\n",
    "    similar_users_movies=similar_users_movies.sort_values(ascending=False)[0:50]\n",
    "    similar_users_movies=pd.DataFrame({\"movieId\":similar_users_movies.index})\n",
    "    #6、 用户映射向量表\n",
    "    similar_users.loc[10,]=userId\n",
    "    #7、 融合电影和评分\n",
    "    c=pd.merge(similar_users,ratings,on='userId',how='left')\n",
    "    c=pd.merge(similar_users_movies,c,on='movieId',how='left')\n",
    "    c=c.loc[:,['movieId','userId','rating']]\n",
    "    #8、 user-item 矩阵\n",
    "    R=np.zeros((11,50))\n",
    "    for i in range(11):\n",
    "        for j in range(50):\n",
    "            temp_i,temp_j=similar_users.iloc[i,0],similar_users_movies.iloc[j,0]\n",
    "            rate=c[(c.movieId==temp_j) & (c.userId==temp_i)]\n",
    "            if(rate.size==0):\n",
    "                R[i][j]=0\n",
    "            else:\n",
    "                R[i][j]=rate.iloc[0,2]\n",
    "    #9、 MF计算50部电影中缺少的评分，并取前\n",
    "    N ,M= len(R),len(R[0])\n",
    "    K = 2\n",
    "    P = np.random.rand(N,K)\n",
    "    Q = np.random.rand(M,K)\n",
    "    nP, nQ = matrix_factorization(R, P, Q, K,300)\n",
    "    nR = np.dot(nP, nQ.T)\n",
    "    #10、 计算对应用户1评分高的电影，取前十\n",
    "    result=pd.DataFrame(nR).loc[[10]].T.sort(10,ascending=False)[0:10]\n",
    "    recom_movie_ids=list(similar_users_movies.loc[list(result.index),].movieId)\n",
    "    recom_movies=pd.DataFrame({'movieId':recom_movie_ids})\n",
    "    recom_movies=pd.merge(recom_movies,movies,how='left',on='movieId')\n",
    "    #11、是否显示\n",
    "    if(show):\n",
    "        show_user_movies(recom_movies,poster)\n",
    "    return recom_movies"
   ]
  },
  {
   "cell_type": "markdown",
   "metadata": {},
   "source": [
    "[返回索引](#P)"
   ]
  },
  {
   "cell_type": "markdown",
   "metadata": {},
   "source": [
    "## 3. 推荐结果"
   ]
  },
  {
   "cell_type": "code",
   "execution_count": null,
   "metadata": {
    "collapsed": true
   },
   "outputs": [],
   "source": [
    "movies = always_most_popular_recommendation(top=5, poster=True)"
   ]
  },
  {
   "cell_type": "code",
   "execution_count": null,
   "metadata": {
    "collapsed": true
   },
   "outputs": [],
   "source": []
  },
  {
   "cell_type": "code",
   "execution_count": null,
   "metadata": {
    "collapsed": true
   },
   "outputs": [],
   "source": []
  },
  {
   "cell_type": "code",
   "execution_count": null,
   "metadata": {
    "collapsed": true
   },
   "outputs": [],
   "source": []
  }
 ],
 "metadata": {
  "kernelspec": {
   "display_name": "Python 3",
   "language": "python",
   "name": "python3"
  },
  "language_info": {
   "codemirror_mode": {
    "name": "ipython",
    "version": 3
   },
   "file_extension": ".py",
   "mimetype": "text/x-python",
   "name": "python",
   "nbconvert_exporter": "python",
   "pygments_lexer": "ipython3",
   "version": "3.5.4"
  }
 },
 "nbformat": 4,
 "nbformat_minor": 1
}
