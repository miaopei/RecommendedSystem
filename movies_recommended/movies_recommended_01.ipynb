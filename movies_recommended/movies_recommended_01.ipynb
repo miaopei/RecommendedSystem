{
 "cells": [
  {
   "cell_type": "markdown",
   "metadata": {
    "collapsed": true
   },
   "source": [
    "## 电影推荐系统\n",
    "\n",
    "> [https://cloud.tencent.com/developer/article/1058235](https://cloud.tencent.com/developer/article/1058235)\n",
    "\n",
    "> [当推荐系统遇上深度学习](https://blog.csdn.net/somTian/article/details/71516613)\n",
    "\n",
    "> [鉴于IMDB电影ID，我如何以编程方式获取其海报图像？](https://oomake.com/question/17663)\n",
    "\n",
    "> [W1_017陈佳豪](https://www.kesci.com/home/project/5a73e21659774204c69f2559) -- 有实现获取海报的代码\n",
    "\n",
    "> [TMDB电影数据分析](https://www.kesci.com/home/project/5afa3eaf3878b214d9ca9fff)\n",
    "\n",
    "> [趣味项目 episode 2——IMDB电影数据分析](https://www.kesci.com/home/project/5ad5a5687238515d80b55cba)\n",
    "\n",
    "> [一个电影推荐系统，毕业设计](https://github.com/JaniceWuo/MovieRecommend)\n",
    "\n",
    "> [电影推荐实例--基于协同过滤和DL特征提取的比较](https://blog.csdn.net/qq_32453673/article/details/72593675)\n",
    "\n",
    "> [TF-IDF与余弦相似性的应用（一）：自动提取关键词](http://www.ruanyifeng.com/blog/2013/03/tf-idf.html)\n",
    "\n",
    "> [Python Numpy计算各类距离](https://blog.csdn.net/qq_19707521/article/details/78479532)\n",
    "\n",
    "> [推荐系统算法学习（一）——协同过滤(CF) MF FM FFM](https://blog.csdn.net/qq_23269761/article/details/81355383)\n",
    "\n",
    "GitHub：\n",
    "\n",
    "> [yjm930504/Recommender-System](https://github.com/yjm930504/Recommender-System)\n",
    "\n",
    "> [用MovieLens数据集做推荐](https://github.com/m-L-0/18a-RecSys-zhouhaiyang-2018)\n",
    "\n",
    "> [爬取豆瓣 48233 条数据, 与 movielens ml-latest 数据集取交集获取共同数据 15752 条](https://github.com/jlshix/movielens-douban-dataset)\n",
    "\n",
    "> [jadianes/spark-movie-lens](https://github.com/jadianes/spark-movie-lens/tree/c161b9305e5df0c41aed62f7aa883c47e1960481)"
   ]
  },
  {
   "cell_type": "markdown",
   "metadata": {},
   "source": [
    "# 项目准备\n",
    "\n",
    "1、项目准备\n",
    "\n",
    "- 数据清洗\n",
    "\n",
    "- 为了让结果显得更美好，这里使用爬虫，在推荐的结果显示了海报，这是最主要的，因为用户能看到真实的样子，才会知道自己会不会去看，而不是简单的文字。这是一个很优雅的地方。\n",
    "\n",
    "2、数据整合和变量初始化\n",
    "\n",
    "3、思路\n",
    "\n",
    "- 在实现 MF 中，因为搜索的空间太大了，这里使用了 user-user 来转化，但是为了避免大量的计算，这里我自己重写了核心代码，基本思想和 CF 类似，但是实现方式有所不同。\n",
    "\n",
    "4、参数说明\n",
    "\n",
    "- userId：需要推荐的用户 Id,0 则表示未知用户\n",
    "- top：推荐多少部电影\n",
    "- poster：是否显示推荐电影的海报\n",
    "- show：是否显示结果\n",
    "\n",
    "5、具体函数\n",
    "\n",
    "    def always_most_popular_recommendation(userId=0,top=10,poster=False,show=True):\n",
    "        pass\n",
    "    def content_based_exact_knn_recommendation(userId=1,top=10,poster=False,show=True):\n",
    "        pass\n",
    "    def content_based_approximate_knn_recommendation(userId=1,top=10,poster=False,show=True):(未能实现faiss)\n",
    "        pass\n",
    "    def user_to_User_cf_recommendation(userId=1,top=10,poster=False,show=True):\n",
    "        pass\n",
    "    def item_to_item_cf_recommendation(userId=1,top=10,poster=False,show=True):\n",
    "        pass\n",
    "    def mf_recommendation(userId=1,top=10,poster=False,show=True):\n",
    "        pass\n",
    "\n",
    "6、改进算法\n",
    "\n",
    "- 多指标可以改进\n",
    "\n",
    "- 在对用户评分 >=4.5 的电影中，按照流派排名的前五的占到用户其它流派的 75%，用流派可能会有好的结果\n",
    "\n",
    "- 总体的评分对于用户具体的电影影响不是最大的因素（谁说烂片没人看了~）\n",
    "\n",
    "- 我觉得这里有很多指标，但是应该找个办法去度量所有指标的办法，来找到 top 指标来综合考虑，这应该是最好的方案了。时间和能力有限，今天能做多少做多少吧！\n",
    "\n",
    "7、误差估计\n",
    "\n",
    "最好的召回率是 28%（KNN）但是感觉还是不很满足，这是很低！多维度是一个方向\n",
    "\n"
   ]
  },
  {
   "cell_type": "code",
   "execution_count": 1,
   "metadata": {
    "collapsed": true
   },
   "outputs": [],
   "source": [
    "import pandas as pd\n",
    "from sklearn.model_selection import train_test_split\n",
    "import numpy as np\n",
    "from collections import Counter\n",
    "import tensorflow as tf\n",
    "\n",
    "import os\n",
    "import pickle\n",
    "import re\n",
    "from tensorflow.python.ops import math_ops\n",
    "\n",
    "from matplotlib import pyplot as plt\n",
    "import seaborn as sns\n",
    "\n",
    "%matplotlib inline"
   ]
  },
  {
   "cell_type": "code",
   "execution_count": 2,
   "metadata": {
    "collapsed": true
   },
   "outputs": [],
   "source": [
    "from urllib.request import urlretrieve\n",
    "from os.path import isfile, isdir\n",
    "from tqdm import tqdm\n",
    "import zipfile\n",
    "import hashlib\n",
    "\n",
    "\n",
    "class DLProgress(tqdm):\n",
    "    \"\"\"\n",
    "    Handle Progress Bar while Downloading\n",
    "    \"\"\"\n",
    "    last_block = 0\n",
    "\n",
    "    def hook(self, block_num=1, block_size=1, total_size=None):\n",
    "        \"\"\"\n",
    "        A hook function that will be called once on establishment of the network connection and\n",
    "        once after each block read thereafter.\n",
    "        :param block_num: A count of blocks transferred so far\n",
    "        :param block_size: Block size in bytes\n",
    "        :param total_size: The total size of the file. This may be -1 on older FTP servers which do not return\n",
    "                            a file size in response to a retrieval request.\n",
    "        \"\"\"\n",
    "        self.total = total_size\n",
    "        self.update((block_num - self.last_block) * block_size)\n",
    "        self.last_block = block_num\n",
    "\n",
    "def _unzip(save_path, _, database_name, data_path):\n",
    "    \"\"\"\n",
    "    Unzip wrapper with the same interface as _ungzip\n",
    "    :param save_path: The path of the gzip files\n",
    "    :param database_name: Name of database\n",
    "    :param data_path: Path to extract to\n",
    "    :param _: HACK - Used to have to same interface as _ungzip\n",
    "    \"\"\"\n",
    "    print('Extracting {}...'.format(database_name))\n",
    "    with zipfile.ZipFile(save_path) as zf:\n",
    "        zf.extractall(data_path)\n",
    "\n",
    "def download_extract(database_name, data_path):\n",
    "    \"\"\"\n",
    "    Download and extract database\n",
    "    :param database_name: Database name\n",
    "    \"\"\"\n",
    "    DATASET_ML1M = database_name\n",
    "\n",
    "    if database_name == DATASET_ML1M:\n",
    "        url = 'http://files.grouplens.org/datasets/movielens/ml-20m.zip'\n",
    "        hash_code = 'cd245b17a1ae2cc31bb14903e1204af3'\n",
    "        extract_path = os.path.join(data_path, database_name)\n",
    "        save_path = os.path.join(data_path, database_name + '.zip')\n",
    "        extract_fn = _unzip\n",
    "\n",
    "    if os.path.exists(extract_path):\n",
    "        print('Found {} Data'.format(database_name))\n",
    "        return\n",
    "\n",
    "    if not os.path.exists(data_path):\n",
    "        os.makedirs(data_path)\n",
    "\n",
    "    if not os.path.exists(save_path):\n",
    "        with DLProgress(unit='B', unit_scale=True, miniters=1, desc='Downloading {}'.format(database_name)) as pbar:\n",
    "            urlretrieve(\n",
    "                url,\n",
    "                save_path,\n",
    "                pbar.hook)\n",
    "\n",
    "    assert hashlib.md5(open(save_path, 'rb').read()).hexdigest() == hash_code, \\\n",
    "        '{} file is corrupted.  Remove the file and try again.'.format(save_path)\n",
    "\n",
    "    os.makedirs(extract_path)\n",
    "    try:\n",
    "        extract_fn(save_path, extract_path, database_name, data_path)\n",
    "    except Exception as err:\n",
    "        shutil.rmtree(extract_path)  # Remove extraction folder if there is an error\n",
    "        raise err\n",
    "\n",
    "    print('Done.')\n",
    "    # Remove compressed data\n",
    "    os.remove(save_path)"
   ]
  },
  {
   "cell_type": "code",
   "execution_count": 3,
   "metadata": {
    "collapsed": false
   },
   "outputs": [
    {
     "name": "stdout",
     "output_type": "stream",
     "text": [
      "Found ml-20m Data\n"
     ]
    }
   ],
   "source": [
    "data_dir = './'\n",
    "download_extract('ml-20m', data_dir)"
   ]
  },
  {
   "cell_type": "markdown",
   "metadata": {},
   "source": [
    "## 1. 数据来源\n",
    "\n",
    "[MovieLens ml-20m](https://grouplens.org/datasets/movielens/20m/)\n",
    "\n",
    "MovieLens 20M数据集\n",
    "\n",
    "\n",
    "由138,000名用户向27,000部电影应用了2000万个评级和465,000个标签应用程序。包括标签基因组数据，在1,100个标签上有1200万个相关性分数。"
   ]
  },
  {
   "cell_type": "code",
   "execution_count": 4,
   "metadata": {
    "collapsed": true
   },
   "outputs": [],
   "source": [
    "# 项目准备\n",
    "\n",
    "# 关闭警告信息\n",
    "import warnings\n",
    "warnings.filterwarnings('ignore')"
   ]
  },
  {
   "cell_type": "code",
   "execution_count": 5,
   "metadata": {
    "collapsed": false
   },
   "outputs": [
    {
     "name": "stdout",
     "output_type": "stream",
     "text": [
      "genome-scores.csv  links.csv   ratings.csv  tags.csv\r\n",
      "genome-tags.csv    movies.csv  README.txt\r\n"
     ]
    }
   ],
   "source": [
    "# 查看当前挂载的数据集目录\n",
    "!ls ml-20m/"
   ]
  },
  {
   "cell_type": "code",
   "execution_count": 6,
   "metadata": {
    "collapsed": true
   },
   "outputs": [],
   "source": [
    "# 加载数据分析常用库\n",
    "import pandas as pd\n",
    "import numpy as np\n",
    "import matplotlib.pyplot as plt\n",
    "% matplotlib inline\n",
    "\n",
    "# 设置显示选项\n",
    "pd.set_option('display.max_columns', 8)\n",
    "pd.set_option('display.max_rows', 8)"
   ]
  },
  {
   "cell_type": "code",
   "execution_count": 7,
   "metadata": {
    "collapsed": true
   },
   "outputs": [],
   "source": [
    "ratings = pd.read_csv('ml-20m/ratings.csv')\n",
    "movies = pd.read_csv('ml-20m/movies.csv')\n",
    "links = pd.read_csv('ml-20m/links.csv')\n",
    "genome_tags = pd.read_csv('ml-20m/genome-tags.csv')\n",
    "tags = pd.read_csv('ml-20m/tags.csv')\n",
    "genome_scores = pd.read_csv('ml-20m/genome-scores.csv')"
   ]
  },
  {
   "cell_type": "markdown",
   "metadata": {},
   "source": [
    "### 1.1 选取部分数据进行分析\n",
    "\n",
    "变量\n",
    "\n",
    "- users_num: userId小于等于users_num的评分\n",
    "- movies_num: movieId小于等于movies_num的电影"
   ]
  },
  {
   "cell_type": "code",
   "execution_count": 8,
   "metadata": {
    "collapsed": true
   },
   "outputs": [],
   "source": [
    "users_num=500\n",
    "movies_num=3000\n",
    "\n",
    "ratings = ratings[(ratings.movieId <= movies_num) & (ratings.userId <= users_num)]\n",
    "genome_scores = genome_scores[genome_scores.movieId <= movies_num]\n",
    "tags = tags[tags.movieId <= movies_num]\n",
    "tagIds_num = genome_tags.index.size\n",
    "movies = movies[movies.movieId <= movies_num]\n",
    "links = links[links.movieId <= movies_num]"
   ]
  },
  {
   "cell_type": "code",
   "execution_count": 9,
   "metadata": {
    "collapsed": false
   },
   "outputs": [
    {
     "data": {
      "text/html": [
       "<div>\n",
       "<style scoped>\n",
       "    .dataframe tbody tr th:only-of-type {\n",
       "        vertical-align: middle;\n",
       "    }\n",
       "\n",
       "    .dataframe tbody tr th {\n",
       "        vertical-align: top;\n",
       "    }\n",
       "\n",
       "    .dataframe thead th {\n",
       "        text-align: right;\n",
       "    }\n",
       "</style>\n",
       "<table border=\"1\" class=\"dataframe\">\n",
       "  <thead>\n",
       "    <tr style=\"text-align: right;\">\n",
       "      <th></th>\n",
       "      <th>userId</th>\n",
       "      <th>movieId</th>\n",
       "      <th>rating</th>\n",
       "      <th>timestamp</th>\n",
       "    </tr>\n",
       "  </thead>\n",
       "  <tbody>\n",
       "    <tr>\n",
       "      <th>0</th>\n",
       "      <td>1</td>\n",
       "      <td>2</td>\n",
       "      <td>3.5</td>\n",
       "      <td>1112486027</td>\n",
       "    </tr>\n",
       "    <tr>\n",
       "      <th>1</th>\n",
       "      <td>1</td>\n",
       "      <td>29</td>\n",
       "      <td>3.5</td>\n",
       "      <td>1112484676</td>\n",
       "    </tr>\n",
       "    <tr>\n",
       "      <th>2</th>\n",
       "      <td>1</td>\n",
       "      <td>32</td>\n",
       "      <td>3.5</td>\n",
       "      <td>1112484819</td>\n",
       "    </tr>\n",
       "    <tr>\n",
       "      <th>3</th>\n",
       "      <td>1</td>\n",
       "      <td>47</td>\n",
       "      <td>3.5</td>\n",
       "      <td>1112484727</td>\n",
       "    </tr>\n",
       "    <tr>\n",
       "      <th>...</th>\n",
       "      <td>...</td>\n",
       "      <td>...</td>\n",
       "      <td>...</td>\n",
       "      <td>...</td>\n",
       "    </tr>\n",
       "    <tr>\n",
       "      <th>71505</th>\n",
       "      <td>500</td>\n",
       "      <td>2858</td>\n",
       "      <td>4.5</td>\n",
       "      <td>1337181077</td>\n",
       "    </tr>\n",
       "    <tr>\n",
       "      <th>71506</th>\n",
       "      <td>500</td>\n",
       "      <td>2881</td>\n",
       "      <td>3.0</td>\n",
       "      <td>1337179627</td>\n",
       "    </tr>\n",
       "    <tr>\n",
       "      <th>71507</th>\n",
       "      <td>500</td>\n",
       "      <td>2959</td>\n",
       "      <td>4.5</td>\n",
       "      <td>1337180948</td>\n",
       "    </tr>\n",
       "    <tr>\n",
       "      <th>71508</th>\n",
       "      <td>500</td>\n",
       "      <td>3000</td>\n",
       "      <td>4.5</td>\n",
       "      <td>1337181745</td>\n",
       "    </tr>\n",
       "  </tbody>\n",
       "</table>\n",
       "<p>45187 rows × 4 columns</p>\n",
       "</div>"
      ],
      "text/plain": [
       "       userId  movieId  rating   timestamp\n",
       "0           1        2     3.5  1112486027\n",
       "1           1       29     3.5  1112484676\n",
       "2           1       32     3.5  1112484819\n",
       "3           1       47     3.5  1112484727\n",
       "...       ...      ...     ...         ...\n",
       "71505     500     2858     4.5  1337181077\n",
       "71506     500     2881     3.0  1337179627\n",
       "71507     500     2959     4.5  1337180948\n",
       "71508     500     3000     4.5  1337181745\n",
       "\n",
       "[45187 rows x 4 columns]"
      ]
     },
     "execution_count": 9,
     "metadata": {},
     "output_type": "execute_result"
    }
   ],
   "source": [
    "ratings"
   ]
  },
  {
   "cell_type": "code",
   "execution_count": 10,
   "metadata": {
    "collapsed": false
   },
   "outputs": [
    {
     "data": {
      "text/html": [
       "<div>\n",
       "<style scoped>\n",
       "    .dataframe tbody tr th:only-of-type {\n",
       "        vertical-align: middle;\n",
       "    }\n",
       "\n",
       "    .dataframe tbody tr th {\n",
       "        vertical-align: top;\n",
       "    }\n",
       "\n",
       "    .dataframe thead th {\n",
       "        text-align: right;\n",
       "    }\n",
       "</style>\n",
       "<table border=\"1\" class=\"dataframe\">\n",
       "  <thead>\n",
       "    <tr style=\"text-align: right;\">\n",
       "      <th></th>\n",
       "      <th>movieId</th>\n",
       "      <th>title</th>\n",
       "      <th>genres</th>\n",
       "    </tr>\n",
       "  </thead>\n",
       "  <tbody>\n",
       "    <tr>\n",
       "      <th>0</th>\n",
       "      <td>1</td>\n",
       "      <td>Toy Story (1995)</td>\n",
       "      <td>Adventure|Animation|Children|Comedy|Fantasy</td>\n",
       "    </tr>\n",
       "    <tr>\n",
       "      <th>1</th>\n",
       "      <td>2</td>\n",
       "      <td>Jumanji (1995)</td>\n",
       "      <td>Adventure|Children|Fantasy</td>\n",
       "    </tr>\n",
       "    <tr>\n",
       "      <th>2</th>\n",
       "      <td>3</td>\n",
       "      <td>Grumpier Old Men (1995)</td>\n",
       "      <td>Comedy|Romance</td>\n",
       "    </tr>\n",
       "    <tr>\n",
       "      <th>3</th>\n",
       "      <td>4</td>\n",
       "      <td>Waiting to Exhale (1995)</td>\n",
       "      <td>Comedy|Drama|Romance</td>\n",
       "    </tr>\n",
       "    <tr>\n",
       "      <th>...</th>\n",
       "      <td>...</td>\n",
       "      <td>...</td>\n",
       "      <td>...</td>\n",
       "    </tr>\n",
       "    <tr>\n",
       "      <th>2911</th>\n",
       "      <td>2997</td>\n",
       "      <td>Being John Malkovich (1999)</td>\n",
       "      <td>Comedy|Drama|Fantasy</td>\n",
       "    </tr>\n",
       "    <tr>\n",
       "      <th>2912</th>\n",
       "      <td>2998</td>\n",
       "      <td>Dreaming of Joseph Lees (1999)</td>\n",
       "      <td>Drama|Romance</td>\n",
       "    </tr>\n",
       "    <tr>\n",
       "      <th>2913</th>\n",
       "      <td>2999</td>\n",
       "      <td>Man of the Century (1999)</td>\n",
       "      <td>Comedy</td>\n",
       "    </tr>\n",
       "    <tr>\n",
       "      <th>2914</th>\n",
       "      <td>3000</td>\n",
       "      <td>Princess Mononoke (Mononoke-hime) (1997)</td>\n",
       "      <td>Action|Adventure|Animation|Drama|Fantasy</td>\n",
       "    </tr>\n",
       "  </tbody>\n",
       "</table>\n",
       "<p>2915 rows × 3 columns</p>\n",
       "</div>"
      ],
      "text/plain": [
       "      movieId                                     title  \\\n",
       "0           1                          Toy Story (1995)   \n",
       "1           2                            Jumanji (1995)   \n",
       "2           3                   Grumpier Old Men (1995)   \n",
       "3           4                  Waiting to Exhale (1995)   \n",
       "...       ...                                       ...   \n",
       "2911     2997               Being John Malkovich (1999)   \n",
       "2912     2998            Dreaming of Joseph Lees (1999)   \n",
       "2913     2999                 Man of the Century (1999)   \n",
       "2914     3000  Princess Mononoke (Mononoke-hime) (1997)   \n",
       "\n",
       "                                           genres  \n",
       "0     Adventure|Animation|Children|Comedy|Fantasy  \n",
       "1                      Adventure|Children|Fantasy  \n",
       "2                                  Comedy|Romance  \n",
       "3                            Comedy|Drama|Romance  \n",
       "...                                           ...  \n",
       "2911                         Comedy|Drama|Fantasy  \n",
       "2912                                Drama|Romance  \n",
       "2913                                       Comedy  \n",
       "2914     Action|Adventure|Animation|Drama|Fantasy  \n",
       "\n",
       "[2915 rows x 3 columns]"
      ]
     },
     "execution_count": 10,
     "metadata": {},
     "output_type": "execute_result"
    }
   ],
   "source": [
    "movies"
   ]
  },
  {
   "cell_type": "code",
   "execution_count": 11,
   "metadata": {
    "collapsed": false,
    "scrolled": true
   },
   "outputs": [
    {
     "data": {
      "text/html": [
       "<div>\n",
       "<style scoped>\n",
       "    .dataframe tbody tr th:only-of-type {\n",
       "        vertical-align: middle;\n",
       "    }\n",
       "\n",
       "    .dataframe tbody tr th {\n",
       "        vertical-align: top;\n",
       "    }\n",
       "\n",
       "    .dataframe thead th {\n",
       "        text-align: right;\n",
       "    }\n",
       "</style>\n",
       "<table border=\"1\" class=\"dataframe\">\n",
       "  <thead>\n",
       "    <tr style=\"text-align: right;\">\n",
       "      <th></th>\n",
       "      <th>movieId</th>\n",
       "      <th>imdbId</th>\n",
       "      <th>tmdbId</th>\n",
       "    </tr>\n",
       "  </thead>\n",
       "  <tbody>\n",
       "    <tr>\n",
       "      <th>0</th>\n",
       "      <td>1</td>\n",
       "      <td>114709</td>\n",
       "      <td>862.0</td>\n",
       "    </tr>\n",
       "    <tr>\n",
       "      <th>1</th>\n",
       "      <td>2</td>\n",
       "      <td>113497</td>\n",
       "      <td>8844.0</td>\n",
       "    </tr>\n",
       "    <tr>\n",
       "      <th>2</th>\n",
       "      <td>3</td>\n",
       "      <td>113228</td>\n",
       "      <td>15602.0</td>\n",
       "    </tr>\n",
       "    <tr>\n",
       "      <th>3</th>\n",
       "      <td>4</td>\n",
       "      <td>114885</td>\n",
       "      <td>31357.0</td>\n",
       "    </tr>\n",
       "    <tr>\n",
       "      <th>...</th>\n",
       "      <td>...</td>\n",
       "      <td>...</td>\n",
       "      <td>...</td>\n",
       "    </tr>\n",
       "    <tr>\n",
       "      <th>2911</th>\n",
       "      <td>2997</td>\n",
       "      <td>120601</td>\n",
       "      <td>492.0</td>\n",
       "    </tr>\n",
       "    <tr>\n",
       "      <th>2912</th>\n",
       "      <td>2998</td>\n",
       "      <td>144178</td>\n",
       "      <td>108346.0</td>\n",
       "    </tr>\n",
       "    <tr>\n",
       "      <th>2913</th>\n",
       "      <td>2999</td>\n",
       "      <td>154827</td>\n",
       "      <td>98480.0</td>\n",
       "    </tr>\n",
       "    <tr>\n",
       "      <th>2914</th>\n",
       "      <td>3000</td>\n",
       "      <td>119698</td>\n",
       "      <td>128.0</td>\n",
       "    </tr>\n",
       "  </tbody>\n",
       "</table>\n",
       "<p>2915 rows × 3 columns</p>\n",
       "</div>"
      ],
      "text/plain": [
       "      movieId  imdbId    tmdbId\n",
       "0           1  114709     862.0\n",
       "1           2  113497    8844.0\n",
       "2           3  113228   15602.0\n",
       "3           4  114885   31357.0\n",
       "...       ...     ...       ...\n",
       "2911     2997  120601     492.0\n",
       "2912     2998  144178  108346.0\n",
       "2913     2999  154827   98480.0\n",
       "2914     3000  119698     128.0\n",
       "\n",
       "[2915 rows x 3 columns]"
      ]
     },
     "execution_count": 11,
     "metadata": {},
     "output_type": "execute_result"
    }
   ],
   "source": [
    "links"
   ]
  },
  {
   "cell_type": "code",
   "execution_count": 12,
   "metadata": {
    "collapsed": false
   },
   "outputs": [
    {
     "data": {
      "text/html": [
       "<div>\n",
       "<style scoped>\n",
       "    .dataframe tbody tr th:only-of-type {\n",
       "        vertical-align: middle;\n",
       "    }\n",
       "\n",
       "    .dataframe tbody tr th {\n",
       "        vertical-align: top;\n",
       "    }\n",
       "\n",
       "    .dataframe thead th {\n",
       "        text-align: right;\n",
       "    }\n",
       "</style>\n",
       "<table border=\"1\" class=\"dataframe\">\n",
       "  <thead>\n",
       "    <tr style=\"text-align: right;\">\n",
       "      <th></th>\n",
       "      <th>tagId</th>\n",
       "      <th>tag</th>\n",
       "    </tr>\n",
       "  </thead>\n",
       "  <tbody>\n",
       "    <tr>\n",
       "      <th>0</th>\n",
       "      <td>1</td>\n",
       "      <td>007</td>\n",
       "    </tr>\n",
       "    <tr>\n",
       "      <th>1</th>\n",
       "      <td>2</td>\n",
       "      <td>007 (series)</td>\n",
       "    </tr>\n",
       "    <tr>\n",
       "      <th>2</th>\n",
       "      <td>3</td>\n",
       "      <td>18th century</td>\n",
       "    </tr>\n",
       "    <tr>\n",
       "      <th>3</th>\n",
       "      <td>4</td>\n",
       "      <td>1920s</td>\n",
       "    </tr>\n",
       "    <tr>\n",
       "      <th>...</th>\n",
       "      <td>...</td>\n",
       "      <td>...</td>\n",
       "    </tr>\n",
       "    <tr>\n",
       "      <th>1124</th>\n",
       "      <td>1125</td>\n",
       "      <td>wuxia</td>\n",
       "    </tr>\n",
       "    <tr>\n",
       "      <th>1125</th>\n",
       "      <td>1126</td>\n",
       "      <td>wwii</td>\n",
       "    </tr>\n",
       "    <tr>\n",
       "      <th>1126</th>\n",
       "      <td>1127</td>\n",
       "      <td>zombie</td>\n",
       "    </tr>\n",
       "    <tr>\n",
       "      <th>1127</th>\n",
       "      <td>1128</td>\n",
       "      <td>zombies</td>\n",
       "    </tr>\n",
       "  </tbody>\n",
       "</table>\n",
       "<p>1128 rows × 2 columns</p>\n",
       "</div>"
      ],
      "text/plain": [
       "      tagId           tag\n",
       "0         1           007\n",
       "1         2  007 (series)\n",
       "2         3  18th century\n",
       "3         4         1920s\n",
       "...     ...           ...\n",
       "1124   1125         wuxia\n",
       "1125   1126          wwii\n",
       "1126   1127        zombie\n",
       "1127   1128       zombies\n",
       "\n",
       "[1128 rows x 2 columns]"
      ]
     },
     "execution_count": 12,
     "metadata": {},
     "output_type": "execute_result"
    }
   ],
   "source": [
    "genome_tags"
   ]
  },
  {
   "cell_type": "code",
   "execution_count": 13,
   "metadata": {
    "collapsed": false
   },
   "outputs": [
    {
     "data": {
      "text/html": [
       "<div>\n",
       "<style scoped>\n",
       "    .dataframe tbody tr th:only-of-type {\n",
       "        vertical-align: middle;\n",
       "    }\n",
       "\n",
       "    .dataframe tbody tr th {\n",
       "        vertical-align: top;\n",
       "    }\n",
       "\n",
       "    .dataframe thead th {\n",
       "        text-align: right;\n",
       "    }\n",
       "</style>\n",
       "<table border=\"1\" class=\"dataframe\">\n",
       "  <thead>\n",
       "    <tr style=\"text-align: right;\">\n",
       "      <th></th>\n",
       "      <th>userId</th>\n",
       "      <th>movieId</th>\n",
       "      <th>tag</th>\n",
       "      <th>timestamp</th>\n",
       "    </tr>\n",
       "  </thead>\n",
       "  <tbody>\n",
       "    <tr>\n",
       "      <th>1</th>\n",
       "      <td>65</td>\n",
       "      <td>208</td>\n",
       "      <td>dark hero</td>\n",
       "      <td>1368150078</td>\n",
       "    </tr>\n",
       "    <tr>\n",
       "      <th>2</th>\n",
       "      <td>65</td>\n",
       "      <td>353</td>\n",
       "      <td>dark hero</td>\n",
       "      <td>1368150079</td>\n",
       "    </tr>\n",
       "    <tr>\n",
       "      <th>3</th>\n",
       "      <td>65</td>\n",
       "      <td>521</td>\n",
       "      <td>noir thriller</td>\n",
       "      <td>1368149983</td>\n",
       "    </tr>\n",
       "    <tr>\n",
       "      <th>4</th>\n",
       "      <td>65</td>\n",
       "      <td>592</td>\n",
       "      <td>dark hero</td>\n",
       "      <td>1368150078</td>\n",
       "    </tr>\n",
       "    <tr>\n",
       "      <th>...</th>\n",
       "      <td>...</td>\n",
       "      <td>...</td>\n",
       "      <td>...</td>\n",
       "      <td>...</td>\n",
       "    </tr>\n",
       "    <tr>\n",
       "      <th>465545</th>\n",
       "      <td>138446</td>\n",
       "      <td>918</td>\n",
       "      <td>halloween scene</td>\n",
       "      <td>1358984062</td>\n",
       "    </tr>\n",
       "    <tr>\n",
       "      <th>465546</th>\n",
       "      <td>138446</td>\n",
       "      <td>918</td>\n",
       "      <td>quirky</td>\n",
       "      <td>1358984051</td>\n",
       "    </tr>\n",
       "    <tr>\n",
       "      <th>465547</th>\n",
       "      <td>138446</td>\n",
       "      <td>2396</td>\n",
       "      <td>topless scene</td>\n",
       "      <td>1358973995</td>\n",
       "    </tr>\n",
       "    <tr>\n",
       "      <th>465563</th>\n",
       "      <td>138472</td>\n",
       "      <td>923</td>\n",
       "      <td>rise to power</td>\n",
       "      <td>1194037967</td>\n",
       "    </tr>\n",
       "  </tbody>\n",
       "</table>\n",
       "<p>133705 rows × 4 columns</p>\n",
       "</div>"
      ],
      "text/plain": [
       "        userId  movieId              tag   timestamp\n",
       "1           65      208        dark hero  1368150078\n",
       "2           65      353        dark hero  1368150079\n",
       "3           65      521    noir thriller  1368149983\n",
       "4           65      592        dark hero  1368150078\n",
       "...        ...      ...              ...         ...\n",
       "465545  138446      918  halloween scene  1358984062\n",
       "465546  138446      918           quirky  1358984051\n",
       "465547  138446     2396    topless scene  1358973995\n",
       "465563  138472      923    rise to power  1194037967\n",
       "\n",
       "[133705 rows x 4 columns]"
      ]
     },
     "execution_count": 13,
     "metadata": {},
     "output_type": "execute_result"
    }
   ],
   "source": [
    "tags"
   ]
  },
  {
   "cell_type": "code",
   "execution_count": 14,
   "metadata": {
    "collapsed": false
   },
   "outputs": [
    {
     "data": {
      "text/html": [
       "<div>\n",
       "<style scoped>\n",
       "    .dataframe tbody tr th:only-of-type {\n",
       "        vertical-align: middle;\n",
       "    }\n",
       "\n",
       "    .dataframe tbody tr th {\n",
       "        vertical-align: top;\n",
       "    }\n",
       "\n",
       "    .dataframe thead th {\n",
       "        text-align: right;\n",
       "    }\n",
       "</style>\n",
       "<table border=\"1\" class=\"dataframe\">\n",
       "  <thead>\n",
       "    <tr style=\"text-align: right;\">\n",
       "      <th></th>\n",
       "      <th>movieId</th>\n",
       "      <th>tagId</th>\n",
       "      <th>relevance</th>\n",
       "    </tr>\n",
       "  </thead>\n",
       "  <tbody>\n",
       "    <tr>\n",
       "      <th>0</th>\n",
       "      <td>1</td>\n",
       "      <td>1</td>\n",
       "      <td>0.02500</td>\n",
       "    </tr>\n",
       "    <tr>\n",
       "      <th>1</th>\n",
       "      <td>1</td>\n",
       "      <td>2</td>\n",
       "      <td>0.02500</td>\n",
       "    </tr>\n",
       "    <tr>\n",
       "      <th>2</th>\n",
       "      <td>1</td>\n",
       "      <td>3</td>\n",
       "      <td>0.05775</td>\n",
       "    </tr>\n",
       "    <tr>\n",
       "      <th>3</th>\n",
       "      <td>1</td>\n",
       "      <td>4</td>\n",
       "      <td>0.09675</td>\n",
       "    </tr>\n",
       "    <tr>\n",
       "      <th>...</th>\n",
       "      <td>...</td>\n",
       "      <td>...</td>\n",
       "      <td>...</td>\n",
       "    </tr>\n",
       "    <tr>\n",
       "      <th>3004988</th>\n",
       "      <td>3000</td>\n",
       "      <td>1125</td>\n",
       "      <td>0.04050</td>\n",
       "    </tr>\n",
       "    <tr>\n",
       "      <th>3004989</th>\n",
       "      <td>3000</td>\n",
       "      <td>1126</td>\n",
       "      <td>0.04525</td>\n",
       "    </tr>\n",
       "    <tr>\n",
       "      <th>3004990</th>\n",
       "      <td>3000</td>\n",
       "      <td>1127</td>\n",
       "      <td>0.08525</td>\n",
       "    </tr>\n",
       "    <tr>\n",
       "      <th>3004991</th>\n",
       "      <td>3000</td>\n",
       "      <td>1128</td>\n",
       "      <td>0.02475</td>\n",
       "    </tr>\n",
       "  </tbody>\n",
       "</table>\n",
       "<p>3004992 rows × 3 columns</p>\n",
       "</div>"
      ],
      "text/plain": [
       "         movieId  tagId  relevance\n",
       "0              1      1    0.02500\n",
       "1              1      2    0.02500\n",
       "2              1      3    0.05775\n",
       "3              1      4    0.09675\n",
       "...          ...    ...        ...\n",
       "3004988     3000   1125    0.04050\n",
       "3004989     3000   1126    0.04525\n",
       "3004990     3000   1127    0.08525\n",
       "3004991     3000   1128    0.02475\n",
       "\n",
       "[3004992 rows x 3 columns]"
      ]
     },
     "execution_count": 14,
     "metadata": {},
     "output_type": "execute_result"
    }
   ],
   "source": [
    "genome_scores"
   ]
  },
  {
   "cell_type": "markdown",
   "metadata": {},
   "source": [
    "## 2. 理论背景\n",
    "\n",
    "粗略地说，推荐系统有三种类型（不包括简单的评级方法）：\n",
    "\n",
    "- 基于内容的推荐\n",
    "\n",
    "- 协同过滤\n",
    "\n",
    "- 混合模型\n",
    "\n",
    "“基于内容的推荐”是一个回归问题，我们把电影内容作为特征，对用户对电影的评分做预测。\n",
    "\n",
    "“协同过滤”中，一般无法提前获得内容特征。是通过用户之间的相似度（用户们给了用一个电影相同的评级）和电影之间的相似度（有相似用户评级的电影）来学习潜在特征，同时预测用户对电影的评分。在学习了电影的特征之后，我们便可以衡量电影之间的相似度，并根据用户历史观影信息，向他/她推荐最相似的电影。\n",
    "\n",
    "“基于内容的推荐”和“协同过滤”是10多年前最先进的技术。很显然，现在有很多模型和算法可以提高预测效果。比如，针对事先缺乏用户电影评分信息的情况，可以使用隐式矩阵分解，用偏好和置信度取代用户电影打分——比如用户对电影推荐有多少次点击，以此进行协同过滤。另外，我们还可以将“内容推荐”与“协同过滤”的方法结合起来，将内容作为侧面信息来提高预测精度。这种混合方法，可以用“学习进行排序”（”Learning to Rank” ）算法来实现。\n",
    "\n",
    "在该项目中，采用的方法是“协同过滤”。首先，用电影和用户相似度来找出相似度最高的海报，并基于相似度做电影推荐。然后，我将讨论如何Deep Learning学习潜在特征、做电影推荐。最后会谈谈如何在推荐系统中使用深度学习。\n",
    "\n",
    "## 3. 数据整合和变量的初始化\n",
    "\n",
    "> 将后面常用的数据整合到一张表中\n",
    "\n",
    "变量\n",
    "\n",
    "- rating_count: 每一部电影评分的人数\n",
    "- rating_sum: 每一部电影获得评分的总数\n",
    "- n_users: 总用户数\n",
    "- n_items: 总电影数"
   ]
  },
  {
   "cell_type": "code",
   "execution_count": 15,
   "metadata": {
    "collapsed": false
   },
   "outputs": [
    {
     "data": {
      "text/html": [
       "<div>\n",
       "<style scoped>\n",
       "    .dataframe tbody tr th:only-of-type {\n",
       "        vertical-align: middle;\n",
       "    }\n",
       "\n",
       "    .dataframe tbody tr th {\n",
       "        vertical-align: top;\n",
       "    }\n",
       "\n",
       "    .dataframe thead th {\n",
       "        text-align: right;\n",
       "    }\n",
       "</style>\n",
       "<table border=\"1\" class=\"dataframe\">\n",
       "  <thead>\n",
       "    <tr style=\"text-align: right;\">\n",
       "      <th></th>\n",
       "      <th>movieId</th>\n",
       "      <th>rating count</th>\n",
       "    </tr>\n",
       "  </thead>\n",
       "  <tbody>\n",
       "    <tr>\n",
       "      <th>0</th>\n",
       "      <td>1</td>\n",
       "      <td>166</td>\n",
       "    </tr>\n",
       "    <tr>\n",
       "      <th>1</th>\n",
       "      <td>2</td>\n",
       "      <td>78</td>\n",
       "    </tr>\n",
       "    <tr>\n",
       "      <th>2</th>\n",
       "      <td>3</td>\n",
       "      <td>45</td>\n",
       "    </tr>\n",
       "    <tr>\n",
       "      <th>3</th>\n",
       "      <td>4</td>\n",
       "      <td>10</td>\n",
       "    </tr>\n",
       "    <tr>\n",
       "      <th>...</th>\n",
       "      <td>...</td>\n",
       "      <td>...</td>\n",
       "    </tr>\n",
       "    <tr>\n",
       "      <th>2393</th>\n",
       "      <td>2996</td>\n",
       "      <td>2</td>\n",
       "    </tr>\n",
       "    <tr>\n",
       "      <th>2394</th>\n",
       "      <td>2997</td>\n",
       "      <td>86</td>\n",
       "    </tr>\n",
       "    <tr>\n",
       "      <th>2395</th>\n",
       "      <td>2998</td>\n",
       "      <td>1</td>\n",
       "    </tr>\n",
       "    <tr>\n",
       "      <th>2396</th>\n",
       "      <td>3000</td>\n",
       "      <td>30</td>\n",
       "    </tr>\n",
       "  </tbody>\n",
       "</table>\n",
       "<p>2397 rows × 2 columns</p>\n",
       "</div>"
      ],
      "text/plain": [
       "      movieId  rating count\n",
       "0           1           166\n",
       "1           2            78\n",
       "2           3            45\n",
       "3           4            10\n",
       "...       ...           ...\n",
       "2393     2996             2\n",
       "2394     2997            86\n",
       "2395     2998             1\n",
       "2396     3000            30\n",
       "\n",
       "[2397 rows x 2 columns]"
      ]
     },
     "execution_count": 15,
     "metadata": {},
     "output_type": "execute_result"
    }
   ],
   "source": [
    "# 每一部电影评分的人数\n",
    "# how='right' 除了含两个表里都有的行，也会将第二个表中独有的行合并。\n",
    "# groupby() size跟count的区别： size计数时包含NaN值，而count不包含NaN值\n",
    "rating_count = pd.merge(movies, ratings, on='movieId', how='right').groupby('movieId').size()\n",
    "rating_count = pd.DataFrame({'rating count':rating_count.values, \"movieId\":rating_count.index})\n",
    "rating_count"
   ]
  },
  {
   "cell_type": "code",
   "execution_count": 16,
   "metadata": {
    "collapsed": false
   },
   "outputs": [
    {
     "data": {
      "text/html": [
       "<div>\n",
       "<style scoped>\n",
       "    .dataframe tbody tr th:only-of-type {\n",
       "        vertical-align: middle;\n",
       "    }\n",
       "\n",
       "    .dataframe tbody tr th {\n",
       "        vertical-align: top;\n",
       "    }\n",
       "\n",
       "    .dataframe thead th {\n",
       "        text-align: right;\n",
       "    }\n",
       "</style>\n",
       "<table border=\"1\" class=\"dataframe\">\n",
       "  <thead>\n",
       "    <tr style=\"text-align: right;\">\n",
       "      <th></th>\n",
       "      <th>movieId</th>\n",
       "      <th>rating sum</th>\n",
       "    </tr>\n",
       "    <tr>\n",
       "      <th>movieId</th>\n",
       "      <th></th>\n",
       "      <th></th>\n",
       "    </tr>\n",
       "  </thead>\n",
       "  <tbody>\n",
       "    <tr>\n",
       "      <th>1</th>\n",
       "      <td>1</td>\n",
       "      <td>663.5</td>\n",
       "    </tr>\n",
       "    <tr>\n",
       "      <th>2</th>\n",
       "      <td>2</td>\n",
       "      <td>251.0</td>\n",
       "    </tr>\n",
       "    <tr>\n",
       "      <th>3</th>\n",
       "      <td>3</td>\n",
       "      <td>147.5</td>\n",
       "    </tr>\n",
       "    <tr>\n",
       "      <th>4</th>\n",
       "      <td>4</td>\n",
       "      <td>30.0</td>\n",
       "    </tr>\n",
       "    <tr>\n",
       "      <th>...</th>\n",
       "      <td>...</td>\n",
       "      <td>...</td>\n",
       "    </tr>\n",
       "    <tr>\n",
       "      <th>2997</th>\n",
       "      <td>2997</td>\n",
       "      <td>347.0</td>\n",
       "    </tr>\n",
       "    <tr>\n",
       "      <th>2998</th>\n",
       "      <td>2998</td>\n",
       "      <td>4.0</td>\n",
       "    </tr>\n",
       "    <tr>\n",
       "      <th>2999</th>\n",
       "      <td>2999</td>\n",
       "      <td>0.0</td>\n",
       "    </tr>\n",
       "    <tr>\n",
       "      <th>3000</th>\n",
       "      <td>3000</td>\n",
       "      <td>118.0</td>\n",
       "    </tr>\n",
       "  </tbody>\n",
       "</table>\n",
       "<p>2915 rows × 2 columns</p>\n",
       "</div>"
      ],
      "text/plain": [
       "         movieId  rating sum\n",
       "movieId                     \n",
       "1              1       663.5\n",
       "2              2       251.0\n",
       "3              3       147.5\n",
       "4              4        30.0\n",
       "...          ...         ...\n",
       "2997        2997       347.0\n",
       "2998        2998         4.0\n",
       "2999        2999         0.0\n",
       "3000        3000       118.0\n",
       "\n",
       "[2915 rows x 2 columns]"
      ]
     },
     "execution_count": 16,
     "metadata": {},
     "output_type": "execute_result"
    }
   ],
   "source": [
    "# 每一部电影获得评分的总数\n",
    "# how='left' 除了含两个表里都有的行，也会将第一个表中独有的行合并。\n",
    "# groupby().sum -- 非NA值的和\n",
    "rating_sum = pd.merge(movies, ratings, on='movieId', how='left').groupby('movieId').sum()\n",
    "rating_sum = pd.DataFrame({'rating sum':rating_sum.rating, \"movieId\":rating_sum.index})\n",
    "rating_sum"
   ]
  },
  {
   "cell_type": "code",
   "execution_count": 17,
   "metadata": {
    "collapsed": false
   },
   "outputs": [
    {
     "data": {
      "text/html": [
       "<div>\n",
       "<style scoped>\n",
       "    .dataframe tbody tr th:only-of-type {\n",
       "        vertical-align: middle;\n",
       "    }\n",
       "\n",
       "    .dataframe tbody tr th {\n",
       "        vertical-align: top;\n",
       "    }\n",
       "\n",
       "    .dataframe thead th {\n",
       "        text-align: right;\n",
       "    }\n",
       "</style>\n",
       "<table border=\"1\" class=\"dataframe\">\n",
       "  <thead>\n",
       "    <tr style=\"text-align: right;\">\n",
       "      <th></th>\n",
       "      <th>movieId</th>\n",
       "      <th>title</th>\n",
       "      <th>genres</th>\n",
       "      <th>rating count</th>\n",
       "      <th>rating sum</th>\n",
       "    </tr>\n",
       "  </thead>\n",
       "  <tbody>\n",
       "    <tr>\n",
       "      <th>0</th>\n",
       "      <td>1</td>\n",
       "      <td>Toy Story (1995)</td>\n",
       "      <td>Adventure|Animation|Children|Comedy|Fantasy</td>\n",
       "      <td>166.0</td>\n",
       "      <td>663.5</td>\n",
       "    </tr>\n",
       "    <tr>\n",
       "      <th>1</th>\n",
       "      <td>2</td>\n",
       "      <td>Jumanji (1995)</td>\n",
       "      <td>Adventure|Children|Fantasy</td>\n",
       "      <td>78.0</td>\n",
       "      <td>251.0</td>\n",
       "    </tr>\n",
       "    <tr>\n",
       "      <th>2</th>\n",
       "      <td>3</td>\n",
       "      <td>Grumpier Old Men (1995)</td>\n",
       "      <td>Comedy|Romance</td>\n",
       "      <td>45.0</td>\n",
       "      <td>147.5</td>\n",
       "    </tr>\n",
       "    <tr>\n",
       "      <th>3</th>\n",
       "      <td>4</td>\n",
       "      <td>Waiting to Exhale (1995)</td>\n",
       "      <td>Comedy|Drama|Romance</td>\n",
       "      <td>10.0</td>\n",
       "      <td>30.0</td>\n",
       "    </tr>\n",
       "    <tr>\n",
       "      <th>...</th>\n",
       "      <td>...</td>\n",
       "      <td>...</td>\n",
       "      <td>...</td>\n",
       "      <td>...</td>\n",
       "      <td>...</td>\n",
       "    </tr>\n",
       "    <tr>\n",
       "      <th>2911</th>\n",
       "      <td>2997</td>\n",
       "      <td>Being John Malkovich (1999)</td>\n",
       "      <td>Comedy|Drama|Fantasy</td>\n",
       "      <td>86.0</td>\n",
       "      <td>347.0</td>\n",
       "    </tr>\n",
       "    <tr>\n",
       "      <th>2912</th>\n",
       "      <td>2998</td>\n",
       "      <td>Dreaming of Joseph Lees (1999)</td>\n",
       "      <td>Drama|Romance</td>\n",
       "      <td>1.0</td>\n",
       "      <td>4.0</td>\n",
       "    </tr>\n",
       "    <tr>\n",
       "      <th>2913</th>\n",
       "      <td>2999</td>\n",
       "      <td>Man of the Century (1999)</td>\n",
       "      <td>Comedy</td>\n",
       "      <td>0.0</td>\n",
       "      <td>0.0</td>\n",
       "    </tr>\n",
       "    <tr>\n",
       "      <th>2914</th>\n",
       "      <td>3000</td>\n",
       "      <td>Princess Mononoke (Mononoke-hime) (1997)</td>\n",
       "      <td>Action|Adventure|Animation|Drama|Fantasy</td>\n",
       "      <td>30.0</td>\n",
       "      <td>118.0</td>\n",
       "    </tr>\n",
       "  </tbody>\n",
       "</table>\n",
       "<p>2915 rows × 5 columns</p>\n",
       "</div>"
      ],
      "text/plain": [
       "      movieId                                     title  \\\n",
       "0           1                          Toy Story (1995)   \n",
       "1           2                            Jumanji (1995)   \n",
       "2           3                   Grumpier Old Men (1995)   \n",
       "3           4                  Waiting to Exhale (1995)   \n",
       "...       ...                                       ...   \n",
       "2911     2997               Being John Malkovich (1999)   \n",
       "2912     2998            Dreaming of Joseph Lees (1999)   \n",
       "2913     2999                 Man of the Century (1999)   \n",
       "2914     3000  Princess Mononoke (Mononoke-hime) (1997)   \n",
       "\n",
       "                                           genres  rating count  rating sum  \n",
       "0     Adventure|Animation|Children|Comedy|Fantasy         166.0       663.5  \n",
       "1                      Adventure|Children|Fantasy          78.0       251.0  \n",
       "2                                  Comedy|Romance          45.0       147.5  \n",
       "3                            Comedy|Drama|Romance          10.0        30.0  \n",
       "...                                           ...           ...         ...  \n",
       "2911                         Comedy|Drama|Fantasy          86.0       347.0  \n",
       "2912                                Drama|Romance           1.0         4.0  \n",
       "2913                                       Comedy           0.0         0.0  \n",
       "2914     Action|Adventure|Animation|Drama|Fantasy          30.0       118.0  \n",
       "\n",
       "[2915 rows x 5 columns]"
      ]
     },
     "execution_count": 17,
     "metadata": {},
     "output_type": "execute_result"
    }
   ],
   "source": [
    "# 融合电影表\n",
    "movies = pd.merge(movies, rating_count, on='movieId', how='left')\n",
    "movies = pd.merge(movies, rating_sum, on='movieId', how='left')\n",
    "movies = movies.fillna(0)\n",
    "movies"
   ]
  },
  {
   "cell_type": "code",
   "execution_count": 18,
   "metadata": {
    "collapsed": false
   },
   "outputs": [
    {
     "name": "stdout",
     "output_type": "stream",
     "text": [
      "500 users\n",
      "2397 movies\n"
     ]
    }
   ],
   "source": [
    "## 统计数据中的用户量和电影量\n",
    "# .value_counts() 统计不同值的个数，不包括 NaN；unique() 用来展示每个不同的值，包括 NaN。\n",
    "n_users = ratings.userId.unique().shape[0]\n",
    "n_items = ratings.movieId.unique().shape[0]\n",
    "\n",
    "print (str(n_users) + ' users')\n",
    "print (str(n_items) + ' movies')"
   ]
  },
  {
   "cell_type": "markdown",
   "metadata": {},
   "source": [
    "## 4. relevance 矩阵"
   ]
  },
  {
   "cell_type": "code",
   "execution_count": 19,
   "metadata": {
    "collapsed": false
   },
   "outputs": [
    {
     "data": {
      "text/plain": [
       "(3000, 1128)"
      ]
     },
     "execution_count": 19,
     "metadata": {},
     "output_type": "execute_result"
    }
   ],
   "source": [
    "# as_blocks() 和 as_matrix()，分別用於將 DataFrame 轉化為以數據類型為鍵值的字典和將 DataFrame 轉化為二維數組\n",
    "relevance = np.zeros((movies_num, tagIds_num))\n",
    "relevance[genome_scores.movieId.as_matrix() - 1,genome_scores.tagId.as_matrix() - 1] = \\\n",
    "        genome_scores.relevance.as_matrix()\n",
    "relevance.shape"
   ]
  },
  {
   "cell_type": "code",
   "execution_count": 20,
   "metadata": {
    "collapsed": false
   },
   "outputs": [
    {
     "data": {
      "text/html": [
       "<div>\n",
       "<style scoped>\n",
       "    .dataframe tbody tr th:only-of-type {\n",
       "        vertical-align: middle;\n",
       "    }\n",
       "\n",
       "    .dataframe tbody tr th {\n",
       "        vertical-align: top;\n",
       "    }\n",
       "\n",
       "    .dataframe thead th {\n",
       "        text-align: right;\n",
       "    }\n",
       "</style>\n",
       "<table border=\"1\" class=\"dataframe\">\n",
       "  <thead>\n",
       "    <tr style=\"text-align: right;\">\n",
       "      <th></th>\n",
       "      <th>userId</th>\n",
       "      <th>movieId</th>\n",
       "      <th>tag</th>\n",
       "      <th>timestamp</th>\n",
       "      <th>tagId</th>\n",
       "    </tr>\n",
       "  </thead>\n",
       "  <tbody>\n",
       "    <tr>\n",
       "      <th>0</th>\n",
       "      <td>65</td>\n",
       "      <td>208</td>\n",
       "      <td>dark hero</td>\n",
       "      <td>1368150078</td>\n",
       "      <td>288.0</td>\n",
       "    </tr>\n",
       "    <tr>\n",
       "      <th>1</th>\n",
       "      <td>65</td>\n",
       "      <td>353</td>\n",
       "      <td>dark hero</td>\n",
       "      <td>1368150079</td>\n",
       "      <td>288.0</td>\n",
       "    </tr>\n",
       "    <tr>\n",
       "      <th>2</th>\n",
       "      <td>65</td>\n",
       "      <td>521</td>\n",
       "      <td>noir thriller</td>\n",
       "      <td>1368149983</td>\n",
       "      <td>712.0</td>\n",
       "    </tr>\n",
       "    <tr>\n",
       "      <th>3</th>\n",
       "      <td>65</td>\n",
       "      <td>592</td>\n",
       "      <td>dark hero</td>\n",
       "      <td>1368150078</td>\n",
       "      <td>288.0</td>\n",
       "    </tr>\n",
       "    <tr>\n",
       "      <th>...</th>\n",
       "      <td>...</td>\n",
       "      <td>...</td>\n",
       "      <td>...</td>\n",
       "      <td>...</td>\n",
       "      <td>...</td>\n",
       "    </tr>\n",
       "    <tr>\n",
       "      <th>133701</th>\n",
       "      <td>138446</td>\n",
       "      <td>918</td>\n",
       "      <td>halloween scene</td>\n",
       "      <td>1358984062</td>\n",
       "      <td>NaN</td>\n",
       "    </tr>\n",
       "    <tr>\n",
       "      <th>133702</th>\n",
       "      <td>138446</td>\n",
       "      <td>918</td>\n",
       "      <td>quirky</td>\n",
       "      <td>1358984051</td>\n",
       "      <td>829.0</td>\n",
       "    </tr>\n",
       "    <tr>\n",
       "      <th>133703</th>\n",
       "      <td>138446</td>\n",
       "      <td>2396</td>\n",
       "      <td>topless scene</td>\n",
       "      <td>1358973995</td>\n",
       "      <td>NaN</td>\n",
       "    </tr>\n",
       "    <tr>\n",
       "      <th>133704</th>\n",
       "      <td>138472</td>\n",
       "      <td>923</td>\n",
       "      <td>rise to power</td>\n",
       "      <td>1194037967</td>\n",
       "      <td>NaN</td>\n",
       "    </tr>\n",
       "  </tbody>\n",
       "</table>\n",
       "<p>133705 rows × 5 columns</p>\n",
       "</div>"
      ],
      "text/plain": [
       "        userId  movieId              tag   timestamp  tagId\n",
       "0           65      208        dark hero  1368150078  288.0\n",
       "1           65      353        dark hero  1368150079  288.0\n",
       "2           65      521    noir thriller  1368149983  712.0\n",
       "3           65      592        dark hero  1368150078  288.0\n",
       "...        ...      ...              ...         ...    ...\n",
       "133701  138446      918  halloween scene  1358984062    NaN\n",
       "133702  138446      918           quirky  1358984051  829.0\n",
       "133703  138446     2396    topless scene  1358973995    NaN\n",
       "133704  138472      923    rise to power  1194037967    NaN\n",
       "\n",
       "[133705 rows x 5 columns]"
      ]
     },
     "execution_count": 20,
     "metadata": {},
     "output_type": "execute_result"
    }
   ],
   "source": [
    "# 将用户打的标签改成标签的 tagId 来方便做相似度计算\n",
    "tags = pd.merge(tags, genome_tags, on='tag', how='left')\n",
    "tags"
   ]
  },
  {
   "cell_type": "markdown",
   "metadata": {},
   "source": [
    "## 5. 构建标签矩阵,对应电影有该tag标记为1"
   ]
  },
  {
   "cell_type": "code",
   "execution_count": 21,
   "metadata": {
    "collapsed": true
   },
   "outputs": [],
   "source": [
    "tag_mat = np.zeros((movies_num, tagIds_num), dtype=np.int0) # 这里数据类型改成 np.int0 可以减少内存的消耗\n",
    "# 去除 tagId 中的NAN\n",
    "tags_new = tags[tags.tagId.isnull().values == False].copy()\n",
    "tags_new[['tagId']] = tags_new[['tagId']].astype(np.int16)\n",
    "tag_mat[tags_new.movieId.as_matrix() - 1, tags_new.tagId.as_matrix() - 1] = 1"
   ]
  },
  {
   "cell_type": "markdown",
   "metadata": {},
   "source": [
    "## 6. 构建IDF矩阵\n",
    "\n",
    "> [TF-IDF与余弦相似性的应用（一）：自动提取关键词](http://www.ruanyifeng.com/blog/2013/03/tf-idf.html)\n",
    "\n",
    "> [机器学习：生动理解TF-IDF算法](https://zhuanlan.zhihu.com/p/31197209)\n",
    "\n",
    "> [TFIDF算法及应用](https://blog.csdn.net/zhangpinghao/article/details/20881553)\n",
    "\n",
    "<img src=\"_asset/IDF.png\">\n",
    "\n",
    "如果一个词越常见，那么分母就越大，逆文档频率就越小越接近 0。分母之所以要加 1，是为了避免分母为 0（即所有文档都不包含该词）。log 表示对得到的值取对数。\n",
    "\n",
    "TF-IDF 的主要思想是：\n",
    "\n",
    "> 如果某个词或短语在一篇文章中出现的频率 TF 高，并且在其他文章中很少出现，则认为此词或者短语具有很好的类别区分能力，适合用来分类。\n",
    "\n",
    "> TF-IDF 实际上是：`TF * IDF`，TF 词频(Term Frequency)，IDF 逆向文件频率(Inverse Document Frequency)。\n",
    "> - TF 表示词条在文档 d 中出现的频率。\n",
    "> - IDF 的主要思想是：如果包含词条 t 的文档越少，也就是 n 越小，IDF 越大，则说明词条 t 具有很好的类别区分能力。\n",
    "\n",
    "> 如果某一类文档 C 中包含词条 t 的文档数为 m，而其它类包含 t 的文档总数为 k，显然所有包含 t 的文档数 n=m+k，当 m 大的时候，n 也大，按照 IDF 公式得到的 IDF 的值会小，就说明该词条 t 类别区分能力不强。但是实际上，如果一个词条在一个类的文档中频繁出现，则说明该词条能够很好代表这个类的文本的特征，这样的词条应该给它们赋予较高的权重，并选来作为该类文本的特征词以区别与其它类文档。这就是 IDF 的不足之处. 在一份给定的文件里，词频（term frequency，TF）指的是某一个给定的词语在该文件中出现的频率。这个数字是对词数(term count)的归一化，以防止它偏向长的文件。（同一个词语在长文件里可能会比短文件有更高的词数，而不管该词语重要与否。）\n"
   ]
  },
  {
   "cell_type": "markdown",
   "metadata": {},
   "source": [
    "pandas 对数据进行操作时，经常需要在横轴方向或者数轴方向对数据进行操作，这时需要设定参数axis的值：\n",
    "\n",
    "- axis = 0 代表对横轴操作，也就是第0轴；\n",
    "- axis = 1 代表对纵轴操作，也就是第1轴；\n",
    "\n",
    "<img src=\"_asset/pandas_axis.png\">"
   ]
  },
  {
   "cell_type": "code",
   "execution_count": 22,
   "metadata": {
    "collapsed": false,
    "scrolled": true
   },
   "outputs": [
    {
     "data": {
      "text/plain": [
       "array([[ 0.14256957,  0.14256957,  0.30992093, ...,  0.23181627,\n",
       "         0.47108957,  0.12697444],\n",
       "       [ 0.22668562,  0.24949676,  0.20258901, ...,  0.09432524,\n",
       "         0.54682745,  0.10351177],\n",
       "       [ 0.24807106,  0.31222737,  0.15026469, ...,  0.12470117,\n",
       "         0.5877259 ,  0.10213162],\n",
       "       ..., \n",
       "       [ 0.14114388,  0.14399527,  0.2079556 , ...,  0.07673918,\n",
       "         0.3953517 ,  0.08556973],\n",
       "       [ 0.14827236,  0.17536058,  0.18514757, ...,  0.1358923 ,\n",
       "         0.41958782,  0.0897102 ],\n",
       "       [ 0.14542097,  0.1340154 ,  0.27503806, ...,  0.28937066,\n",
       "         0.5165323 ,  0.13663554]])"
      ]
     },
     "execution_count": 22,
     "metadata": {},
     "output_type": "execute_result"
    }
   ],
   "source": [
    "# tag_num 表示每个 tag 共出现在多少部电影中\n",
    "tag_num = tag_mat.sum(axis=0) + 0.01\n",
    "IDF_mat = np.log(movies_num / tag_num)\n",
    "TF_IDF_mat = relevance * IDF_mat\n",
    "TF_IDF_mat"
   ]
  },
  {
   "cell_type": "markdown",
   "metadata": {},
   "source": [
    "## 7. 显示电影海报"
   ]
  },
  {
   "cell_type": "code",
   "execution_count": 104,
   "metadata": {
    "collapsed": false
   },
   "outputs": [],
   "source": [
    "from IPython.display import Image\n",
    "from IPython.display import display\n",
    "import requests\n",
    "import json\n",
    "import re\n",
    "\n",
    "def get_poster(recom_item):\n",
    "    posters = []\n",
    "    titles = recom_item.title\n",
    "    imdbIds = pd.merge(recom_item, links).imdbId\n",
    "    for imdbId in imdbIds:\n",
    "        file_path = \"\"\n",
    "        #Get posters from Movie Database by API\n",
    "        headers = {'Accept':'application/json'}\n",
    "        payload = {'api_key':'20047cd838219fb54d1f8fc32c45cda4'}\n",
    "        response = requests.get('http://api.themoviedb.org/3/configuration', params=payload, headers=headers)\n",
    "        response = json.loads(response.text)\n",
    "\n",
    "        base_url = response['images']['base_url'] + 'w185'\n",
    "        \n",
    "        #query themovie.org API for movie poster path.\n",
    "        imdb_id = 'tt0{0}'.format(imdbId)\n",
    "        movie_url = 'http://api.themoviedb.org/3/movie/{:}/images'.format(imdb_id)\n",
    "        response = requests.get(movie_url, params=payload, headers=headers)\n",
    "        try:\n",
    "            file_path = json.loads(response.text)['posters'][0]['file_path']\n",
    "        except:\n",
    "            print('Something wrong, cannot get the poster for imdb id: {0}!'.format(imdbId))\n",
    "        \n",
    "        if file_path == \"\":\n",
    "            posters.append(\"Failed：imdbId({}) image get failed!\".format(imdbId))\n",
    "        else:\n",
    "            url = base_url + file_path\n",
    "            posters.append(Image(url=url))\n",
    "        \n",
    "    for index, poster, title in zip(range(len(posters)), posters, titles):\n",
    "        #print(str(index + 1) + '、' + title)\n",
    "        display(poster)"
   ]
  },
  {
   "cell_type": "markdown",
   "metadata": {},
   "source": [
    "## 8. 输出推荐的结果"
   ]
  },
  {
   "cell_type": "code",
   "execution_count": 24,
   "metadata": {
    "collapsed": true
   },
   "outputs": [],
   "source": [
    "def show_user_movies(recom_movies, poster=False):\n",
    "    if(poster):\n",
    "        get_poster(recom_movies)\n",
    "    else:\n",
    "        titles = recom_movies.title\n",
    "        for index, title in zip(range(titles.size), titles):\n",
    "            print(str(index + 1) + '、' + title)"
   ]
  },
  {
   "cell_type": "markdown",
   "metadata": {},
   "source": [
    "### 8.1 推荐最受欢迎的电影\n",
    "\n",
    "根据每一部电影获得评分的总数排序取 Top K"
   ]
  },
  {
   "cell_type": "code",
   "execution_count": 25,
   "metadata": {
    "collapsed": true
   },
   "outputs": [],
   "source": [
    "# Always recommend the most popular item（推荐最受欢迎的 item）\n",
    "def always_most_popular_recommendation(userId=0, top=10, poster=False, show=True):\n",
    "    recom_movies = movies.sort_values('rating sum', ascending=False)[0:top]\n",
    "    if(show):\n",
    "        show_user_movies(recom_movies, poster)\n",
    "    return recom_movies"
   ]
  },
  {
   "cell_type": "markdown",
   "metadata": {},
   "source": [
    "### 8.2 使用精确的 KNN 搜索进行基于内容的推荐\n"
   ]
  },
  {
   "cell_type": "code",
   "execution_count": 26,
   "metadata": {
    "collapsed": false
   },
   "outputs": [],
   "source": [
    "# 先得到 ratings 矩阵\n",
    "user_ratings = np.zeros((users_num,movies_num))\n",
    "user_ratings[ratings.userId.as_matrix()-1, ratings.movieId.as_matrix()-1] = ratings.rating.as_matrix()\n",
    "new_ratings = np.zeros((users_num,movies_num))\n",
    "for i in range(user_ratings.shape[0]):\n",
    "    average = np.mean(user_ratings[i,:][user_ratings[i,:].nonzero()])\n",
    "    where = user_ratings[i,:].nonzero()\n",
    "    if len(where[0]) > 0:\n",
    "        ## 每个人的 ratings[i,:][where]-average 和为 0，+1/len(where) 使他们的加权和为 1\n",
    "        new_ratings[i,:][where] = user_ratings[i,:][where] - average + 1 / len(where[0]) "
   ]
  },
  {
   "cell_type": "markdown",
   "metadata": {},
   "source": [
    "进行矩阵运算，计算出 user_tag 矩阵(各用户‘最喜爱的电影’应具备的标签)"
   ]
  },
  {
   "cell_type": "code",
   "execution_count": 27,
   "metadata": {
    "collapsed": false
   },
   "outputs": [
    {
     "data": {
      "text/plain": [
       "array([[ -1.01631945,  -0.94051276,   2.5041473 ,  -1.24897375],\n",
       "       [  6.78722826,   6.52602043,  -3.03289351,   5.93997794],\n",
       "       [ -5.80529842,  -5.51091601,  -9.28510587,  16.3869413 ],\n",
       "       [  3.65818252,   3.06275088,  -0.8300016 ,  -0.90054341]])"
      ]
     },
     "execution_count": 27,
     "metadata": {},
     "output_type": "execute_result"
    }
   ],
   "source": [
    "user_tag_mat = new_ratings.dot(TF_IDF_mat)\n",
    "user_tag_mat[0:4,0:4]"
   ]
  },
  {
   "cell_type": "markdown",
   "metadata": {},
   "source": [
    "> [sklearn文档 — 1.6. 最近邻](http://sklearn.apachecn.org/cn/latest/modules/neighbors.html)\n",
    "\n",
    "无监督的最近邻学习，算法的选择通过过关键字 'algorithm' 来控制， 并必须是 ['auto', 'ball_tree', 'kd_tree', 'brute'] 其中的一个。"
   ]
  },
  {
   "cell_type": "code",
   "execution_count": 86,
   "metadata": {
    "collapsed": true
   },
   "outputs": [],
   "source": [
    "def content_based_exact_knn_recommendation(userId=1, top=10, poster=False, show=True):\n",
    "    from sklearn.neighbors import NearestNeighbors\n",
    "    user_tag = user_tag_mat[userId,:]\n",
    "    nbrs = NearestNeighbors(n_neighbors=top, algorithm='ball_tree').fit(TF_IDF_mat)\n",
    "    distances, indices = nbrs.kneighbors(user_tag)\n",
    "    recom_movies = pd.DataFrame({'movieId':indices[0] + 1})\n",
    "    recom_movies = pd.merge(recom_movies, movies, how='left', on='movieId')\n",
    "\n",
    "    if(show):\n",
    "        show_user_movies(recom_movies, poster)\n",
    "    return recom_movies"
   ]
  },
  {
   "cell_type": "markdown",
   "metadata": {},
   "source": [
    "### 8.3 基于用户对用户，电影对电影的协同过滤推荐\n",
    "\n",
    "映射数据，因为电影的 id 和电影的比例很大，所以全部有点浪费"
   ]
  },
  {
   "cell_type": "code",
   "execution_count": 29,
   "metadata": {
    "collapsed": false
   },
   "outputs": [
    {
     "data": {
      "text/html": [
       "<div>\n",
       "<style scoped>\n",
       "    .dataframe tbody tr th:only-of-type {\n",
       "        vertical-align: middle;\n",
       "    }\n",
       "\n",
       "    .dataframe tbody tr th {\n",
       "        vertical-align: top;\n",
       "    }\n",
       "\n",
       "    .dataframe thead th {\n",
       "        text-align: right;\n",
       "    }\n",
       "</style>\n",
       "<table border=\"1\" class=\"dataframe\">\n",
       "  <thead>\n",
       "    <tr style=\"text-align: right;\">\n",
       "      <th></th>\n",
       "      <th>userId</th>\n",
       "      <th>movieId</th>\n",
       "      <th>rating</th>\n",
       "      <th>timestamp</th>\n",
       "    </tr>\n",
       "  </thead>\n",
       "  <tbody>\n",
       "    <tr>\n",
       "      <th>0</th>\n",
       "      <td>1</td>\n",
       "      <td>0</td>\n",
       "      <td>3.5</td>\n",
       "      <td>1112486027</td>\n",
       "    </tr>\n",
       "    <tr>\n",
       "      <th>1</th>\n",
       "      <td>1</td>\n",
       "      <td>1</td>\n",
       "      <td>3.5</td>\n",
       "      <td>1112484676</td>\n",
       "    </tr>\n",
       "    <tr>\n",
       "      <th>2</th>\n",
       "      <td>1</td>\n",
       "      <td>2</td>\n",
       "      <td>3.5</td>\n",
       "      <td>1112484819</td>\n",
       "    </tr>\n",
       "    <tr>\n",
       "      <th>3</th>\n",
       "      <td>1</td>\n",
       "      <td>3</td>\n",
       "      <td>3.5</td>\n",
       "      <td>1112484727</td>\n",
       "    </tr>\n",
       "    <tr>\n",
       "      <th>4</th>\n",
       "      <td>1</td>\n",
       "      <td>4</td>\n",
       "      <td>3.5</td>\n",
       "      <td>1112484580</td>\n",
       "    </tr>\n",
       "  </tbody>\n",
       "</table>\n",
       "</div>"
      ],
      "text/plain": [
       "   userId  movieId  rating   timestamp\n",
       "0       1        0     3.5  1112486027\n",
       "1       1        1     3.5  1112484676\n",
       "2       1        2     3.5  1112484819\n",
       "3       1        3     3.5  1112484727\n",
       "4       1        4     3.5  1112484580"
      ]
     },
     "execution_count": 29,
     "metadata": {},
     "output_type": "execute_result"
    }
   ],
   "source": [
    "new_rating = ratings.copy()\n",
    "new_n_users = users_num\n",
    "new_n_items = new_rating.movieId.unique().shape[0]\n",
    "movie_map = pd.Series(index=new_rating.movieId.unique(), data=range(new_n_items))\n",
    "\n",
    "new_rating.movieId = movie_map[new_rating.movieId.values].values\n",
    "new_rating.movieId.describe()\n",
    "new_rating.head()"
   ]
  },
  {
   "cell_type": "code",
   "execution_count": 115,
   "metadata": {
    "collapsed": false,
    "scrolled": true
   },
   "outputs": [
    {
     "data": {
      "text/html": [
       "<div>\n",
       "<style scoped>\n",
       "    .dataframe tbody tr th:only-of-type {\n",
       "        vertical-align: middle;\n",
       "    }\n",
       "\n",
       "    .dataframe tbody tr th {\n",
       "        vertical-align: top;\n",
       "    }\n",
       "\n",
       "    .dataframe thead th {\n",
       "        text-align: right;\n",
       "    }\n",
       "</style>\n",
       "<table border=\"1\" class=\"dataframe\">\n",
       "  <thead>\n",
       "    <tr style=\"text-align: right;\">\n",
       "      <th></th>\n",
       "      <th>0</th>\n",
       "      <th>1</th>\n",
       "      <th>2</th>\n",
       "      <th>3</th>\n",
       "      <th>...</th>\n",
       "      <th>71505</th>\n",
       "      <th>71506</th>\n",
       "      <th>71507</th>\n",
       "      <th>71508</th>\n",
       "    </tr>\n",
       "  </thead>\n",
       "  <tbody>\n",
       "    <tr>\n",
       "      <th>userId</th>\n",
       "      <td>1.000000e+00</td>\n",
       "      <td>1.000000e+00</td>\n",
       "      <td>1.000000e+00</td>\n",
       "      <td>1.000000e+00</td>\n",
       "      <td>...</td>\n",
       "      <td>5.000000e+02</td>\n",
       "      <td>5.000000e+02</td>\n",
       "      <td>5.000000e+02</td>\n",
       "      <td>5.000000e+02</td>\n",
       "    </tr>\n",
       "    <tr>\n",
       "      <th>movieId</th>\n",
       "      <td>0.000000e+00</td>\n",
       "      <td>1.000000e+00</td>\n",
       "      <td>2.000000e+00</td>\n",
       "      <td>3.000000e+00</td>\n",
       "      <td>...</td>\n",
       "      <td>1.290000e+02</td>\n",
       "      <td>4.330000e+02</td>\n",
       "      <td>9.600000e+01</td>\n",
       "      <td>9.800000e+01</td>\n",
       "    </tr>\n",
       "    <tr>\n",
       "      <th>rating</th>\n",
       "      <td>3.500000e+00</td>\n",
       "      <td>3.500000e+00</td>\n",
       "      <td>3.500000e+00</td>\n",
       "      <td>3.500000e+00</td>\n",
       "      <td>...</td>\n",
       "      <td>4.500000e+00</td>\n",
       "      <td>3.000000e+00</td>\n",
       "      <td>4.500000e+00</td>\n",
       "      <td>4.500000e+00</td>\n",
       "    </tr>\n",
       "    <tr>\n",
       "      <th>timestamp</th>\n",
       "      <td>1.112486e+09</td>\n",
       "      <td>1.112485e+09</td>\n",
       "      <td>1.112485e+09</td>\n",
       "      <td>1.112485e+09</td>\n",
       "      <td>...</td>\n",
       "      <td>1.337181e+09</td>\n",
       "      <td>1.337180e+09</td>\n",
       "      <td>1.337181e+09</td>\n",
       "      <td>1.337182e+09</td>\n",
       "    </tr>\n",
       "  </tbody>\n",
       "</table>\n",
       "<p>4 rows × 45187 columns</p>\n",
       "</div>"
      ],
      "text/plain": [
       "                  0             1             2             3      \\\n",
       "userId     1.000000e+00  1.000000e+00  1.000000e+00  1.000000e+00   \n",
       "movieId    0.000000e+00  1.000000e+00  2.000000e+00  3.000000e+00   \n",
       "rating     3.500000e+00  3.500000e+00  3.500000e+00  3.500000e+00   \n",
       "timestamp  1.112486e+09  1.112485e+09  1.112485e+09  1.112485e+09   \n",
       "\n",
       "               ...              71505         71506         71507  \\\n",
       "userId         ...       5.000000e+02  5.000000e+02  5.000000e+02   \n",
       "movieId        ...       1.290000e+02  4.330000e+02  9.600000e+01   \n",
       "rating         ...       4.500000e+00  3.000000e+00  4.500000e+00   \n",
       "timestamp      ...       1.337181e+09  1.337180e+09  1.337181e+09   \n",
       "\n",
       "                  71508  \n",
       "userId     5.000000e+02  \n",
       "movieId    9.800000e+01  \n",
       "rating     4.500000e+00  \n",
       "timestamp  1.337182e+09  \n",
       "\n",
       "[4 rows x 45187 columns]"
      ]
     },
     "execution_count": 115,
     "metadata": {},
     "output_type": "execute_result"
    }
   ],
   "source": [
    "new_rating.T.head()"
   ]
  },
  {
   "cell_type": "markdown",
   "metadata": {},
   "source": [
    "计算评分矩阵"
   ]
  },
  {
   "cell_type": "code",
   "execution_count": 30,
   "metadata": {
    "collapsed": false
   },
   "outputs": [
    {
     "data": {
      "text/plain": [
       "array([[ 3.5,  3.5,  3.5,  3.5],\n",
       "       [ 0. ,  0. ,  0. ,  0. ],\n",
       "       [ 0. ,  4. ,  0. ,  5. ],\n",
       "       [ 0. ,  1. ,  0. ,  0. ]])"
      ]
     },
     "execution_count": 30,
     "metadata": {},
     "output_type": "execute_result"
    }
   ],
   "source": [
    "rating_matrix = np.zeros((new_n_users, new_n_items))\n",
    "for row in new_rating.itertuples():\n",
    "    rating_matrix[row[1]-1, row[2]-1] = row[3]\n",
    "rating_matrix[0:4,0:4]"
   ]
  },
  {
   "cell_type": "code",
   "execution_count": 31,
   "metadata": {
    "collapsed": false
   },
   "outputs": [
    {
     "name": "stdout",
     "output_type": "stream",
     "text": [
      "Sparsity: 3.77%\n"
     ]
    }
   ],
   "source": [
    "# 计算矩阵稀疏性\n",
    "sparsity = float(len(rating_matrix.nonzero()[0]))\n",
    "sparsity /= (rating_matrix.shape[0] * rating_matrix.shape[1])\n",
    "sparsity *= 100\n",
    "print ('Sparsity: {:4.2f}%'.format(sparsity))"
   ]
  },
  {
   "cell_type": "code",
   "execution_count": 32,
   "metadata": {
    "collapsed": true
   },
   "outputs": [],
   "source": [
    "def similarity(new_rating, kind='user', epsilon=1e-9):\n",
    "    # epsilon -> small number for handling dived-by-zero errors\n",
    "    if kind == 'user':\n",
    "        sim = new_rating.dot(new_rating.T) + epsilon\n",
    "    elif kind == 'item':\n",
    "        sim = new_rating.T.dot(new_rating) + epsilon\n",
    "    norms = np.array([np.sqrt(np.diagonal(sim))])\n",
    "    return (sim / norms / norms.T)"
   ]
  },
  {
   "cell_type": "markdown",
   "metadata": {},
   "source": [
    "计算 user-user 和 item-item 相似矩阵"
   ]
  },
  {
   "cell_type": "code",
   "execution_count": 33,
   "metadata": {
    "collapsed": true
   },
   "outputs": [],
   "source": [
    "user_similarity = similarity(rating_matrix, kind='user')\n",
    "item_similarity = similarity(rating_matrix, kind='item')"
   ]
  },
  {
   "cell_type": "markdown",
   "metadata": {},
   "source": [
    "#### 8.3.1 用户对用户 CF 推荐\n"
   ]
  },
  {
   "cell_type": "code",
   "execution_count": 34,
   "metadata": {
    "collapsed": true
   },
   "outputs": [],
   "source": [
    "def user_to_User_cf_recommendation(userId=1, top=10, poster=False, show=True):\n",
    "    # 1、获取和用户相似度高的用户\n",
    "    similar_user = np.argsort(user_similarity[userId,:])[:-k-1:-1].flatten()\n",
    "    similar_user = pd.DataFrame({\"userId\":similar_user})\n",
    "    similar_user_movies = pd.merge(similar_user, ratings, on='userId')\n",
    "    \n",
    "    # 2、获取待推荐的电影\n",
    "    similar_user_movies = similar_user_movies[similar_user_movies.rating >= 3.5]\n",
    "    recom_movie_ids = similar_user_movies.groupby('movieId').size().sort_values(ascending=False)[0:top].index\n",
    "    recom_movies = pd.DataFrame({'movieId':recom_movie_ids})\n",
    "    recom_movies = pd.merge(recom_movies, movies, how='left', on='movieId')\n",
    "    \n",
    "    # 3、是否显示\n",
    "    if(show):\n",
    "        show_user_movies(recom_movies, poster)\n",
    "    return recom_movies"
   ]
  },
  {
   "cell_type": "code",
   "execution_count": 65,
   "metadata": {
    "collapsed": true
   },
   "outputs": [],
   "source": [
    "def user_to_User_cf_recommendation_2(userId=1, top=10, poster=False, show=True):\n",
    "    # 1、 用户 1 评分大于等于 4 的电影\n",
    "    user_high_score_movies = ratings[(ratings.userId == userId) &  (ratings.rating >= 4)]\n",
    "    user_high_score = pd.DataFrame({\"movieId\":user_high_score_movies.movieId})\n",
    "    \n",
    "    # 2、 在评分中寻找，看过上面电影，并打分超过 4.5 的项目\n",
    "    find_similar = pd.merge(user_high_score,ratings,on='movieId')\n",
    "    find_similar = find_similar[(find_similar.userId != userId) & (find_similar.rating >= 4.5)]\n",
    "    \n",
    "    # 3、 寻找和用户最相似的十个人\n",
    "    similar_users = find_similar.groupby('userId').apply(lambda x:len(x['movieId'].unique())).sort_values(ascending=False)[0:10]\n",
    "    similar_users = pd.DataFrame({\"userId\":similar_users.index})\n",
    "    \n",
    "    # 4、 筛选对十个人看的所有电影中打分超过 4.5 的电影\n",
    "    similar_users_movies = pd.merge(similar_users,ratings,on='userId')\n",
    "    similar_users_movies = similar_users_movies[similar_users_movies.rating >= 4.5]\n",
    "    \n",
    "    # 5、 按照十个人中看的数目排名取前 50\n",
    "    similar_users_movies = similar_users_movies.groupby('movieId').apply(lambda x:len(x['userId'].unique()))\n",
    "    similar_users_movies = similar_users_movies.sort_values(ascending=False)[0:50]\n",
    "    similar_users_movies = pd.DataFrame({\"movieId\":similar_users_movies.index})\n",
    "    \n",
    "    # 6、 用户映射向量表\n",
    "    similar_users.loc[10,] = userId\n",
    "    \n",
    "    # 7、 融合电影和评分\n",
    "    c = pd.merge(similar_users, ratings, on='userId', how='left')\n",
    "    c = pd.merge(similar_users_movies, c, on='movieId', how='left')\n",
    "    c = c.loc[:,['movieId', 'userId', 'rating']]\n",
    "    \n",
    "    # 8、 user-item 矩阵\n",
    "    R = np.zeros((11,50))\n",
    "    for i in range(11):\n",
    "        for j in range(50):\n",
    "            temp_i,temp_j = similar_users.iloc[i,0],similar_users_movies.iloc[j,0]\n",
    "            rate = c[(c.movieId == temp_j) & (c.userId == temp_i)]\n",
    "            if(rate.size == 0):\n",
    "                R[i][j] = 0\n",
    "            else:\n",
    "                R[i][j] = rate.iloc[0,2]\n",
    "    \n",
    "    # 9、 MF 计算 50 部电影中缺少的评分，并取前\n",
    "    N ,M = len(R), len(R[0])\n",
    "    K = 2\n",
    "    P = np.random.rand(N, K)\n",
    "    Q = np.random.rand(M, K)\n",
    "    nP, nQ = matrix_factorization(R, P, Q, K, 300)\n",
    "    nR = np.dot(nP, nQ.T)\n",
    "    \n",
    "    # 10、 计算对应用户 1 评分高的电影，取前十\n",
    "    result = pd.DataFrame(nR).loc[[10]].T.sort_values(10, ascending=False)[0:10]\n",
    "    recom_movie_ids = list(similar_users_movies.loc[list(result.index),].movieId)\n",
    "    recom_movies = pd.DataFrame({'movieId':recom_movie_ids})\n",
    "    recom_movies = pd.merge(recom_movies, movies, how='left', on='movieId')\n",
    "    \n",
    "    # 11、是否显示\n",
    "    if(show):\n",
    "        show_user_movies(recom_movies, poster)\n",
    "    return recom_movies"
   ]
  },
  {
   "cell_type": "markdown",
   "metadata": {},
   "source": [
    "#### 8.3.2 电影对电影 CF 推荐\n"
   ]
  },
  {
   "cell_type": "code",
   "execution_count": 36,
   "metadata": {
    "collapsed": true
   },
   "outputs": [],
   "source": [
    "def item_to_item_cf_recommendation(userId=1, top=10, poster=False, show=True):\n",
    "    # 1、获取用户的电影 id\n",
    "    user_love_movie_ids = new_rating[(new_rating.userId == userId) & (new_rating.rating >= 4.5)].movieId\n",
    "    \n",
    "    # 2、通过相似矩阵来获得相近的电影\n",
    "    recom_movie_ids = np.argsort(item_similarity[user_love_movie_ids,:])[:,:-k-1:-1].flatten()\n",
    "    recom_movie_ids = pd.value_counts(c)[0:k].index\n",
    "    recom_movie_ids = list(movie_map.iloc[recom_movie_ids].index)\n",
    "    recom_movies = pd.DataFrame({'movieId':recom_movie_ids})\n",
    "    recom_movies = pd.merge(recom_movies, movies, how='left', on='movieId')\n",
    "    \n",
    "    # 3、是否显示\n",
    "    if(show):\n",
    "        show_user_movies(recom_movies, poster)\n",
    "    return recom_movies"
   ]
  },
  {
   "cell_type": "markdown",
   "metadata": {},
   "source": [
    "### 8.4 基于矩阵分解的推荐\n",
    "\n",
    "矩阵分解"
   ]
  },
  {
   "cell_type": "code",
   "execution_count": 37,
   "metadata": {
    "collapsed": true
   },
   "outputs": [],
   "source": [
    "def matrix_factorization(R, P, Q, K, steps=5000, alpha=0.0002, beta=0.02):\n",
    "    Q = Q.T\n",
    "    for step in range(steps):\n",
    "        for i in range(len(R)):\n",
    "            for j in range(len(R[i])):\n",
    "                if R[i][j] > 0:\n",
    "                    eij = R[i][j] - np.dot(P[i,:],Q[:,j])\n",
    "                    for k in range(K):\n",
    "                        P[i][k] = P[i][k] + alpha * (2 * eij * Q[k][j] - beta * P[i][k])\n",
    "                        Q[k][j] = Q[k][j] + alpha * (2 * eij * P[i][k] - beta * Q[k][j])\n",
    "        eR = np.dot(P,Q)\n",
    "        e = 0\n",
    "        for i in range(len(R)):\n",
    "            for j in range(len(R[i])):\n",
    "                if R[i][j] > 0:\n",
    "                    e = e + pow(R[i][j] - np.dot(P[i,:],Q[:,j]), 2)\n",
    "                    for k in range(K):\n",
    "                        e = e + (beta / 2) * (pow(P[i][k],2) + pow(Q[k][j],2))\n",
    "        if e < 0.001:\n",
    "            break\n",
    "    return P, Q.T"
   ]
  },
  {
   "cell_type": "markdown",
   "metadata": {},
   "source": [
    "## 9. 推荐结果"
   ]
  },
  {
   "cell_type": "markdown",
   "metadata": {},
   "source": [
    "### 9.1 推荐最受欢迎的电影"
   ]
  },
  {
   "cell_type": "code",
   "execution_count": 101,
   "metadata": {
    "collapsed": false
   },
   "outputs": [
    {
     "data": {
      "text/html": [
       "<img src=\"http://image.tmdb.org/t/p/w185/dM2w364MScsjFf8pfMbaWUcWrR.jpg\"/>"
      ],
      "text/plain": [
       "<IPython.core.display.Image object>"
      ]
     },
     "metadata": {},
     "output_type": "display_data"
    },
    {
     "data": {
      "text/html": [
       "<img src=\"http://image.tmdb.org/t/p/w185/z4ROnCrL77ZMzT0MsNXY5j25wS2.jpg\"/>"
      ],
      "text/plain": [
       "<IPython.core.display.Image object>"
      ]
     },
     "metadata": {},
     "output_type": "display_data"
    },
    {
     "data": {
      "text/html": [
       "<img src=\"http://image.tmdb.org/t/p/w185/zGINvGjdlO6TJRu9wESQvWlOKVT.jpg\"/>"
      ],
      "text/plain": [
       "<IPython.core.display.Image object>"
      ]
     },
     "metadata": {},
     "output_type": "display_data"
    },
    {
     "data": {
      "text/html": [
       "<img src=\"http://image.tmdb.org/t/p/w185/qjAyTj2BSth1EQ89vNfo0JYVPFN.jpg\"/>"
      ],
      "text/plain": [
       "<IPython.core.display.Image object>"
      ]
     },
     "metadata": {},
     "output_type": "display_data"
    },
    {
     "data": {
      "text/html": [
       "<img src=\"http://image.tmdb.org/t/p/w185/c414cDeQ9b6qLPLeKmiJuLDUREJ.jpg\"/>"
      ],
      "text/plain": [
       "<IPython.core.display.Image object>"
      ]
     },
     "metadata": {},
     "output_type": "display_data"
    }
   ],
   "source": [
    "movies = always_most_popular_recommendation(top=5, poster=True)"
   ]
  },
  {
   "cell_type": "markdown",
   "metadata": {
    "collapsed": true
   },
   "source": [
    "### 9.2  使用精确的 KNN 搜索进行基于内容的推荐"
   ]
  },
  {
   "cell_type": "code",
   "execution_count": 102,
   "metadata": {
    "collapsed": false,
    "scrolled": false
   },
   "outputs": [
    {
     "name": "stdout",
     "output_type": "stream",
     "text": [
      "Something wrong, cannot get the poster for imdb id: 99685!\n"
     ]
    },
    {
     "data": {
      "text/html": [
       "<img src=\"http://image.tmdb.org/t/p/w185/jgJoRWltoS17nD5MAQ1yK2Ztefw.jpg\"/>"
      ],
      "text/plain": [
       "<IPython.core.display.Image object>"
      ]
     },
     "metadata": {},
     "output_type": "display_data"
    },
    {
     "data": {
      "text/html": [
       "<img src=\"http://image.tmdb.org/t/p/w185/zGINvGjdlO6TJRu9wESQvWlOKVT.jpg\"/>"
      ],
      "text/plain": [
       "<IPython.core.display.Image object>"
      ]
     },
     "metadata": {},
     "output_type": "display_data"
    },
    {
     "data": {
      "text/plain": [
       "'Failed：99685 image get failed!'"
      ]
     },
     "metadata": {},
     "output_type": "display_data"
    },
    {
     "data": {
      "text/html": [
       "<img src=\"http://image.tmdb.org/t/p/w185/3UBQGKS8c1dxRnDiu5kUK6ej3pP.jpg\"/>"
      ],
      "text/plain": [
       "<IPython.core.display.Image object>"
      ]
     },
     "metadata": {},
     "output_type": "display_data"
    },
    {
     "data": {
      "text/html": [
       "<img src=\"http://image.tmdb.org/t/p/w185/fXepRAYOx1qC3wju7XdDGx60775.jpg\"/>"
      ],
      "text/plain": [
       "<IPython.core.display.Image object>"
      ]
     },
     "metadata": {},
     "output_type": "display_data"
    },
    {
     "data": {
      "text/html": [
       "<div>\n",
       "<style scoped>\n",
       "    .dataframe tbody tr th:only-of-type {\n",
       "        vertical-align: middle;\n",
       "    }\n",
       "\n",
       "    .dataframe tbody tr th {\n",
       "        vertical-align: top;\n",
       "    }\n",
       "\n",
       "    .dataframe thead th {\n",
       "        text-align: right;\n",
       "    }\n",
       "</style>\n",
       "<table border=\"1\" class=\"dataframe\">\n",
       "  <thead>\n",
       "    <tr style=\"text-align: right;\">\n",
       "      <th></th>\n",
       "      <th>movieId</th>\n",
       "      <th>title</th>\n",
       "      <th>genres</th>\n",
       "      <th>rating count</th>\n",
       "      <th>rating sum</th>\n",
       "    </tr>\n",
       "  </thead>\n",
       "  <tbody>\n",
       "    <tr>\n",
       "      <th>0</th>\n",
       "      <td>50</td>\n",
       "      <td>NaN</td>\n",
       "      <td>NaN</td>\n",
       "      <td>NaN</td>\n",
       "      <td>NaN</td>\n",
       "    </tr>\n",
       "    <tr>\n",
       "      <th>1</th>\n",
       "      <td>318</td>\n",
       "      <td>Shawshank Redemption, The (1994)</td>\n",
       "      <td>Crime|Drama</td>\n",
       "      <td>218.0</td>\n",
       "      <td>970.0</td>\n",
       "    </tr>\n",
       "    <tr>\n",
       "      <th>2</th>\n",
       "      <td>1213</td>\n",
       "      <td>NaN</td>\n",
       "      <td>NaN</td>\n",
       "      <td>NaN</td>\n",
       "      <td>NaN</td>\n",
       "    </tr>\n",
       "    <tr>\n",
       "      <th>3</th>\n",
       "      <td>2858</td>\n",
       "      <td>NaN</td>\n",
       "      <td>NaN</td>\n",
       "      <td>NaN</td>\n",
       "      <td>NaN</td>\n",
       "    </tr>\n",
       "    <tr>\n",
       "      <th>4</th>\n",
       "      <td>2329</td>\n",
       "      <td>NaN</td>\n",
       "      <td>NaN</td>\n",
       "      <td>NaN</td>\n",
       "      <td>NaN</td>\n",
       "    </tr>\n",
       "  </tbody>\n",
       "</table>\n",
       "</div>"
      ],
      "text/plain": [
       "   movieId                             title       genres  rating count  \\\n",
       "0       50                               NaN          NaN           NaN   \n",
       "1      318  Shawshank Redemption, The (1994)  Crime|Drama         218.0   \n",
       "2     1213                               NaN          NaN           NaN   \n",
       "3     2858                               NaN          NaN           NaN   \n",
       "4     2329                               NaN          NaN           NaN   \n",
       "\n",
       "   rating sum  \n",
       "0         NaN  \n",
       "1       970.0  \n",
       "2         NaN  \n",
       "3         NaN  \n",
       "4         NaN  "
      ]
     },
     "execution_count": 102,
     "metadata": {},
     "output_type": "execute_result"
    }
   ],
   "source": [
    "content_based_exact_knn_recommendation(userId=100, top=5, poster=True)"
   ]
  },
  {
   "cell_type": "markdown",
   "metadata": {},
   "source": [
    "### 9.3 用户对用于的 CF 推荐"
   ]
  },
  {
   "cell_type": "code",
   "execution_count": 105,
   "metadata": {
    "collapsed": false,
    "scrolled": false
   },
   "outputs": [
    {
     "name": "stdout",
     "output_type": "stream",
     "text": [
      "Something wrong, cannot get the poster for imdb id: 75686!\n",
      "Something wrong, cannot get the poster for imdb id: 47296!\n",
      "Something wrong, cannot get the poster for imdb id: 86190!\n"
     ]
    },
    {
     "data": {
      "text/html": [
       "<img src=\"http://image.tmdb.org/t/p/w185/dM2w364MScsjFf8pfMbaWUcWrR.jpg\"/>"
      ],
      "text/plain": [
       "<IPython.core.display.Image object>"
      ]
     },
     "metadata": {},
     "output_type": "display_data"
    },
    {
     "data": {
      "text/html": [
       "<img src=\"http://image.tmdb.org/t/p/w185/hEpWvX6Bp79eLxY1kX5ZZJcme5U.jpg\"/>"
      ],
      "text/plain": [
       "<IPython.core.display.Image object>"
      ]
     },
     "metadata": {},
     "output_type": "display_data"
    },
    {
     "data": {
      "text/plain": [
       "'Failed：imdbId(75686) image get failed!'"
      ]
     },
     "metadata": {},
     "output_type": "display_data"
    },
    {
     "data": {
      "text/html": [
       "<img src=\"http://image.tmdb.org/t/p/w185/yPisjyLweCl1tbgwgtzBCNCBle.jpg\"/>"
      ],
      "text/plain": [
       "<IPython.core.display.Image object>"
      ]
     },
     "metadata": {},
     "output_type": "display_data"
    },
    {
     "data": {
      "text/html": [
       "<img src=\"http://image.tmdb.org/t/p/w185/6UTzw3kipgTYAJCX8GExoXzcVOx.jpg\"/>"
      ],
      "text/plain": [
       "<IPython.core.display.Image object>"
      ]
     },
     "metadata": {},
     "output_type": "display_data"
    },
    {
     "data": {
      "text/html": [
       "<img src=\"http://image.tmdb.org/t/p/w185/jgJoRWltoS17nD5MAQ1yK2Ztefw.jpg\"/>"
      ],
      "text/plain": [
       "<IPython.core.display.Image object>"
      ]
     },
     "metadata": {},
     "output_type": "display_data"
    },
    {
     "data": {
      "text/plain": [
       "'Failed：imdbId(47296) image get failed!'"
      ]
     },
     "metadata": {},
     "output_type": "display_data"
    },
    {
     "data": {
      "text/html": [
       "<img src=\"http://image.tmdb.org/t/p/w185/qjAyTj2BSth1EQ89vNfo0JYVPFN.jpg\"/>"
      ],
      "text/plain": [
       "<IPython.core.display.Image object>"
      ]
     },
     "metadata": {},
     "output_type": "display_data"
    },
    {
     "data": {
      "text/html": [
       "<img src=\"http://image.tmdb.org/t/p/w185/3UBQGKS8c1dxRnDiu5kUK6ej3pP.jpg\"/>"
      ],
      "text/plain": [
       "<IPython.core.display.Image object>"
      ]
     },
     "metadata": {},
     "output_type": "display_data"
    },
    {
     "data": {
      "text/plain": [
       "'Failed：imdbId(86190) image get failed!'"
      ]
     },
     "metadata": {},
     "output_type": "display_data"
    },
    {
     "data": {
      "text/html": [
       "<div>\n",
       "<style scoped>\n",
       "    .dataframe tbody tr th:only-of-type {\n",
       "        vertical-align: middle;\n",
       "    }\n",
       "\n",
       "    .dataframe tbody tr th {\n",
       "        vertical-align: top;\n",
       "    }\n",
       "\n",
       "    .dataframe thead th {\n",
       "        text-align: right;\n",
       "    }\n",
       "</style>\n",
       "<table border=\"1\" class=\"dataframe\">\n",
       "  <thead>\n",
       "    <tr style=\"text-align: right;\">\n",
       "      <th></th>\n",
       "      <th>movieId</th>\n",
       "      <th>title</th>\n",
       "      <th>genres</th>\n",
       "      <th>rating count</th>\n",
       "      <th>rating sum</th>\n",
       "    </tr>\n",
       "  </thead>\n",
       "  <tbody>\n",
       "    <tr>\n",
       "      <th>0</th>\n",
       "      <td>296</td>\n",
       "      <td>Pulp Fiction (1994)</td>\n",
       "      <td>Comedy|Crime|Drama|Thriller</td>\n",
       "      <td>248.0</td>\n",
       "      <td>1009.5</td>\n",
       "    </tr>\n",
       "    <tr>\n",
       "      <th>1</th>\n",
       "      <td>2571</td>\n",
       "      <td>NaN</td>\n",
       "      <td>NaN</td>\n",
       "      <td>NaN</td>\n",
       "      <td>NaN</td>\n",
       "    </tr>\n",
       "    <tr>\n",
       "      <th>2</th>\n",
       "      <td>1230</td>\n",
       "      <td>NaN</td>\n",
       "      <td>NaN</td>\n",
       "      <td>NaN</td>\n",
       "      <td>NaN</td>\n",
       "    </tr>\n",
       "    <tr>\n",
       "      <th>3</th>\n",
       "      <td>527</td>\n",
       "      <td>NaN</td>\n",
       "      <td>NaN</td>\n",
       "      <td>NaN</td>\n",
       "      <td>NaN</td>\n",
       "    </tr>\n",
       "    <tr>\n",
       "      <th>...</th>\n",
       "      <td>...</td>\n",
       "      <td>...</td>\n",
       "      <td>...</td>\n",
       "      <td>...</td>\n",
       "      <td>...</td>\n",
       "    </tr>\n",
       "    <tr>\n",
       "      <th>6</th>\n",
       "      <td>1945</td>\n",
       "      <td>NaN</td>\n",
       "      <td>NaN</td>\n",
       "      <td>NaN</td>\n",
       "      <td>NaN</td>\n",
       "    </tr>\n",
       "    <tr>\n",
       "      <th>7</th>\n",
       "      <td>593</td>\n",
       "      <td>Silence of the Lambs, The (1991)</td>\n",
       "      <td>Crime|Horror|Thriller</td>\n",
       "      <td>213.0</td>\n",
       "      <td>872.5</td>\n",
       "    </tr>\n",
       "    <tr>\n",
       "      <th>8</th>\n",
       "      <td>2858</td>\n",
       "      <td>NaN</td>\n",
       "      <td>NaN</td>\n",
       "      <td>NaN</td>\n",
       "      <td>NaN</td>\n",
       "    </tr>\n",
       "    <tr>\n",
       "      <th>9</th>\n",
       "      <td>1210</td>\n",
       "      <td>NaN</td>\n",
       "      <td>NaN</td>\n",
       "      <td>NaN</td>\n",
       "      <td>NaN</td>\n",
       "    </tr>\n",
       "  </tbody>\n",
       "</table>\n",
       "<p>10 rows × 5 columns</p>\n",
       "</div>"
      ],
      "text/plain": [
       "    movieId                             title                       genres  \\\n",
       "0       296               Pulp Fiction (1994)  Comedy|Crime|Drama|Thriller   \n",
       "1      2571                               NaN                          NaN   \n",
       "2      1230                               NaN                          NaN   \n",
       "3       527                               NaN                          NaN   \n",
       "..      ...                               ...                          ...   \n",
       "6      1945                               NaN                          NaN   \n",
       "7       593  Silence of the Lambs, The (1991)        Crime|Horror|Thriller   \n",
       "8      2858                               NaN                          NaN   \n",
       "9      1210                               NaN                          NaN   \n",
       "\n",
       "    rating count  rating sum  \n",
       "0          248.0      1009.5  \n",
       "1            NaN         NaN  \n",
       "2            NaN         NaN  \n",
       "3            NaN         NaN  \n",
       "..           ...         ...  \n",
       "6            NaN         NaN  \n",
       "7          213.0       872.5  \n",
       "8            NaN         NaN  \n",
       "9            NaN         NaN  \n",
       "\n",
       "[10 rows x 5 columns]"
      ]
     },
     "execution_count": 105,
     "metadata": {},
     "output_type": "execute_result"
    }
   ],
   "source": [
    "user_to_User_cf_recommendation_2(userId=100, top=5, poster=True)"
   ]
  },
  {
   "cell_type": "code",
   "execution_count": null,
   "metadata": {
    "collapsed": true
   },
   "outputs": [],
   "source": []
  }
 ],
 "metadata": {
  "kernelspec": {
   "display_name": "Python 3",
   "language": "python",
   "name": "python3"
  },
  "language_info": {
   "codemirror_mode": {
    "name": "ipython",
    "version": 3
   },
   "file_extension": ".py",
   "mimetype": "text/x-python",
   "name": "python",
   "nbconvert_exporter": "python",
   "pygments_lexer": "ipython3",
   "version": "3.5.4"
  }
 },
 "nbformat": 4,
 "nbformat_minor": 1
}
