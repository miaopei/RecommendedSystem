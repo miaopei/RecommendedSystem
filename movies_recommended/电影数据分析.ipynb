{
 "cells": [
  {
   "cell_type": "markdown",
   "metadata": {},
   "source": [
    "# 电影数据分析\n",
    "\n",
    "> [TMDB电影数据分析](https://www.kesci.com/home/project/5afa3eaf3878b214d9ca9fff)\n",
    "\n",
    "> [趣味项目 episode 2——IMDB电影数据分析](https://www.kesci.com/home/project/5ad5a5687238515d80b55cba)\n",
    "\n",
    "****这是关于TMDB5000条电影数据的分析报告****\n",
    "\n",
    "- 数据来源于Kaggle  https://www.kaggle.com/tmdb/tmdb-movie-metadata\n",
    "\n",
    "**报告分为：**\n",
    "\n",
    "- （1）提出问题\n",
    "- （2）认识数据\n",
    "- （3）清洗数据\n",
    "- （4）分析数据\n",
    "- （5）总结\n",
    "\n",
    "**（一）提出问题**\n",
    "\n",
    "     （1）对电影类型的分析，电影类型主要有哪些，哪些电影类型数量最多，电影类型随时间的变化，哪些电影的票房/利润多，\n",
    "      观众更喜欢那种类型的电影\n",
    "     （2）电影票房与哪些因素相关，电影受欢迎程度的分析\n",
    "     （3）Universal Pictures和Paramount Pictures这两个公司产出电影的情况对比\n",
    "     （4）对电影导演，突出关键字，电影时长，电影产出地的情况进行分析\n",
    "     （5）原创电影和非原创电影的分析\n",
    "     \n",
    "**(二)认识数据**\n",
    "\n",
    "从 https://www.kaggle.com/tmdb/tmdb-movie-metadata 下载数据集\n",
    "\n",
    "- 有tmdb_5000_credits.csv和tmdb_5000_movies.csv这两个数据集，描述电影演员相关信息和每部电影的基本信息"
   ]
  },
  {
   "cell_type": "code",
   "execution_count": null,
   "metadata": {
    "collapsed": true
   },
   "outputs": [],
   "source": []
  }
 ],
 "metadata": {
  "kernelspec": {
   "display_name": "Python 3",
   "language": "python",
   "name": "python3"
  },
  "language_info": {
   "codemirror_mode": {
    "name": "ipython",
    "version": 3
   },
   "file_extension": ".py",
   "mimetype": "text/x-python",
   "name": "python",
   "nbconvert_exporter": "python",
   "pygments_lexer": "ipython3",
   "version": "3.5.4"
  }
 },
 "nbformat": 4,
 "nbformat_minor": 1
}
