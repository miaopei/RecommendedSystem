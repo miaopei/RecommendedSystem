{
 "cells": [
  {
   "cell_type": "markdown",
   "metadata": {},
   "source": [
    "## Tensorflow 函数详解\n",
    "\n",
    "### 1. tf.random_uniform\n",
    "\n",
    "    tf.random_uniform((4, 4), minval=low, maxval=high, dtype=tf.float32) 返回4*4的矩阵，产生于low和high之间，产生的值是均匀分布的。"
   ]
  },
  {
   "cell_type": "code",
   "execution_count": 1,
   "metadata": {},
   "outputs": [
    {
     "name": "stdout",
     "output_type": "stream",
     "text": [
      "[[-0.46532667 -0.45245385 -0.09505916  0.0079987 ]\n",
      " [-0.22305739  0.27954495 -0.4618752  -0.24561155]\n",
      " [-0.19420075 -0.30681014  0.21666753  0.22821605]\n",
      " [ 0.0696162   0.48100567  0.12775195  0.23838639]]\n"
     ]
    }
   ],
   "source": [
    "import tensorflow as tf\n",
    "import numpy as np\n",
    " \n",
    "with tf.Session() as sess:\n",
    "    print(sess.run(tf.random_uniform(\n",
    "        (4, 4), minval=-0.5,\n",
    "        maxval=0.5,dtype=tf.float32)))"
   ]
  },
  {
   "cell_type": "markdown",
   "metadata": {},
   "source": [
    "### 2. tf.nn.embedding_lookup\n",
    "\n",
    "函数的用法主要是选取一个张量里面索引对应的元素。\n",
    "\n",
    "    tf.nn.embedding_lookup（tensor, id）:tensor就是输入张量，id就是张量对应的索引"
   ]
  },
  {
   "cell_type": "code",
   "execution_count": 6,
   "metadata": {},
   "outputs": [
    {
     "name": "stdout",
     "output_type": "stream",
     "text": [
      "[[ 0.35167829]\n",
      " [ 0.36811982]]\n",
      "[[ 0.19015111]\n",
      " [ 0.35167829]\n",
      " [ 0.80507801]\n",
      " [ 0.36811982]\n",
      " [ 0.62456547]\n",
      " [ 0.20043036]\n",
      " [ 0.66160563]\n",
      " [ 0.58482013]\n",
      " [ 0.07036611]\n",
      " [ 0.62459213]]\n"
     ]
    }
   ],
   "source": [
    "import tensorflow as tf;\n",
    "import numpy as np;\n",
    " \n",
    "c = np.random.random([10,1])\n",
    "b = tf.nn.embedding_lookup(c, [1, 3])\n",
    " \n",
    "with tf.Session() as sess:\n",
    "    sess.run(tf.global_variables_initializer())\n",
    "    print(sess.run(b))\n",
    "    print(c)"
   ]
  },
  {
   "cell_type": "markdown",
   "metadata": {},
   "source": [
    "### 3. tf.layers.dense\n",
    "\n",
    "    dense(\n",
    "        inputs,\n",
    "        units,\n",
    "        activation=None,\n",
    "        use_bias=True,\n",
    "        kernel_initializer=None,\n",
    "        bias_initializer=tf.zeros_initializer(),\n",
    "        kernel_regularizer=None,\n",
    "        bias_regularizer=None,\n",
    "        activity_regularizer=None,\n",
    "        trainable=True,\n",
    "        name=None,\n",
    "        reuse=None\n",
    "    )\n",
    " \n",
    "- inputs: 输入数据，2维tensor.\n",
    "- units: 该层的神经单元结点数。\n",
    "- activation: 激活函数.\n",
    "- use_bias: Boolean型，是否使用偏置项.\n",
    "- kernel_initializer: 卷积核的初始化器.\n",
    "- bias_initializer: 偏置项的初始化器，默认初始化为0.\n",
    "- kernel_regularizer: 卷积核化的正则化，可选.\n",
    "- bias_regularizer: 偏置项的正则化，可选.\n",
    "- activity_regularizer: 输出的正则化函数.\n",
    "- trainable: Boolean型，表明该层的参数是否参与训练。如果为真则变量加入到图集合中 GraphKeys.TRAINABLE_VARIABLES (see tf.Variable).\n",
    "- name: 层的名字.\n",
    "- reuse: Boolean型, 是否重复使用参数.\n",
    "\n",
    "全连接层执行操作 outputs = activation(inputs.kernel + bias)\n",
    "\n",
    "如果执行结果不想进行激活操作，则设置activation=None。"
   ]
  },
  {
   "cell_type": "markdown",
   "metadata": {},
   "source": [
    "### 4. tf.concat\n",
    "\n",
    "    tf.concat（[list1, list2], axis）\n",
    "    \n",
    "* 用于合并两个迭代器（比如列表）。axis表示合并的方向。0表示竖直合并，1表示水平"
   ]
  },
  {
   "cell_type": "code",
   "execution_count": 11,
   "metadata": {},
   "outputs": [
    {
     "name": "stdout",
     "output_type": "stream",
     "text": [
      "[[ 1  2  3]\n",
      " [ 4  5  6]\n",
      " [ 7  8  9]\n",
      " [10 11 12]]\n",
      "[[ 1  2  3  7  8  9]\n",
      " [ 4  5  6 10 11 12]]\n"
     ]
    }
   ],
   "source": [
    "import tensorflow as tf;\n",
    "from tensorflow.examples.tutorials.mnist import input_data\n",
    "import numpy as np;\n",
    "import os\n",
    " \n",
    "t1 = [[1, 2, 3], [4, 5, 6]]\n",
    "t2 = [[7, 8, 9], [10, 11, 12]]\n",
    " \n",
    "print(tf.Session().run(tf.concat([t1, t2], 0)))\n",
    "print(tf.Session().run(tf.concat([t1, t2], 1)))"
   ]
  },
  {
   "cell_type": "markdown",
   "metadata": {},
   "source": [
    "### 5. tf.layers.dense 和 tf.contrib.layers.fully_connected的区别\n",
    "\n",
    "TensorFlow的tf.layers和ctf.contrib.layers都提供了相关用于搭建神经网络的模块，但同一版本额和不同版本之间均存在区别\n",
    "\n",
    "讨论一下tf.layers.dense和tf.contrib.layers.fully_connected的区别，二者都可以用于构建全连接层。参考tensorflow的文档，二者的参数如下，\n",
    "\n",
    "* tf.layers.dense\n",
    "\n",
    "    tf.layers.dense(\n",
    "        inputs,\n",
    "        units,\n",
    "        activation=None,\n",
    "        use_bias=True,\n",
    "        kernel_initializer=None,\n",
    "        bias_initializer=tf.zeros_initializer(),\n",
    "        kernel_regularizer=None,\n",
    "        bias_regularizer=None,\n",
    "        activity_regularizer=None,\n",
    "        kernel_constraint=None,\n",
    "        bias_constraint=None,\n",
    "        trainable=True,\n",
    "        name=None,\n",
    "        reuse=None\n",
    "    )\n",
    "    \n",
    "* tf.contrib.layers.fully-connected\n",
    "\n",
    "    fully_connected(\n",
    "        inputs,\n",
    "        num_outputs,\n",
    "        activation_fn=tf.nn.relu,\n",
    "        normalizer_fn=None,\n",
    "        normalizer_params=None,\n",
    "        weights_initializer=initializers.xavier_initializer(),\n",
    "        weights_regularizer=None,\n",
    "        biases_initializer=tf.zeros_initializer(),\n",
    "        biases_regularizer=None,\n",
    "        reuse=None,\n",
    "        variables_collections=None,\n",
    "        outputs_collections=None,\n",
    "        trainable=True,\n",
    "        scope=None\n",
    "    )\n",
    "    \n",
    "可以看出，tf.layers.dense相对更简单，没有提供默认的activation和kernel_initializer, 而后者这两个参数都做了默认的初始化。使用时一定要显示说明这些，否则会出现不可控的错误。。。"
   ]
  },
  {
   "cell_type": "markdown",
   "metadata": {},
   "source": [
    "### 6. tf.reduce_sum\n",
    "\n",
    "    tf.reduce_sum(input_tensor, axis=None, keep_dims=False, name=None, reduction_indices=None)\n",
    "\n",
    "函数意义：将矩阵的元素相加，可以按列，也可以按行，或者先按列后按行\n",
    "\n",
    "这样的函数在tensorflow中还有很多: \n",
    "\n",
    "tf.reduce_prod #沿维度相乘\n",
    "\n",
    "tf.reduce_min #沿维度找最小\n",
    "\n",
    "tf.reduce_max #沿维度找最大\n",
    "\n",
    "tf.reduce_mean #沿维度求平均\n",
    "\n",
    "tf.reduce_all#沿维度与操作\n",
    "\n",
    "tf.reduce_any#沿维度或操作\n",
    "\n",
    "具体可以参考[点击打开链接](https://www.jianshu.com/p/7fbce28e85a4)"
   ]
  },
  {
   "cell_type": "markdown",
   "metadata": {},
   "source": [
    "### 7. 用tf.expand_dims()来增加维度\n",
    "\n",
    "TensorFlow中，想要维度增加一维，可以使用tf.expand_dims(input, dim, name=None)函数。当然，我们常用tf.reshape(input, shape=[])也可以达到相同效果，但是有些时候在构建图的过程中，placeholder没有被feed具体的值，这时就会包下面的错误：TypeError: Expected binary or unicode string, got 1 \n",
    "\n",
    "在这种情况下，我们就可以考虑使用expand_dims来将维度加1。比如我自己代码中遇到的情况，在对图像维度降到二维做特定操作后，要还原成四维[batch, height, width, channels]，前后各增加一维。如果用reshape，则因为上述原因报错"
   ]
  },
  {
   "cell_type": "code",
   "execution_count": null,
   "metadata": {
    "collapsed": true
   },
   "outputs": [],
   "source": [
    "one_img2 = tf.reshape(one_img, shape=[1, one_img.get_shape()[0].value, one_img.get_shape()[1].value, 1])"
   ]
  },
  {
   "cell_type": "markdown",
   "metadata": {},
   "source": [
    "用下面的方法可以实现："
   ]
  },
  {
   "cell_type": "code",
   "execution_count": null,
   "metadata": {
    "collapsed": true
   },
   "outputs": [],
   "source": [
    "one_img = tf.expand_dims(one_img, 0)\n",
    "one_img = tf.expand_dims(one_img, -1) #-1表示最后一维"
   ]
  },
  {
   "cell_type": "markdown",
   "metadata": {},
   "source": [
    "在最后，给出官方的例子和说明\n",
    "\n",
    "    # 't' is a tensor of shape [2]\n",
    "    shape(expand_dims(t, 0)) ==> [1, 2]\n",
    "    shape(expand_dims(t, 1)) ==> [2, 1]\n",
    "    shape(expand_dims(t, -1)) ==> [2, 1]\n",
    "\n",
    "    # 't2' is a tensor of shape [2, 3, 5]\n",
    "    shape(expand_dims(t2, 0)) ==> [1, 2, 3, 5]\n",
    "    shape(expand_dims(t2, 2)) ==> [2, 3, 1, 5]\n",
    "    shape(expand_dims(t2, 3)) ==> [2, 3, 5, 1]"
   ]
  },
  {
   "cell_type": "markdown",
   "metadata": {},
   "source": [
    "### 8. tf.nn.conv2d()使用\n",
    "\n",
    "* [tf.nn.conv2d()使用](https://blog.csdn.net/LoseInVain/article/details/78935192)"
   ]
  },
  {
   "cell_type": "markdown",
   "metadata": {},
   "source": [
    "### 9. tf.reset_default_graph\n",
    "\n",
    "tf.reset_default_graph函数用于清除默认图形堆栈并重置全局默认图形。 \n",
    "注意：默认图形是当前线程的一个属性。该tf.reset_default_graph函数只适用于当前线程。当一个tf.Session或者tf.InteractiveSession激活时调用这个函数会导致未定义的行为。调用此函数后使用任何以前创建的tf.Operation或tf.Tensor对象将导致未定义的行为。\n",
    "\n",
    "可能引发的异常：\n",
    "\n",
    "- AssertionError：如果在嵌套图中调用此函数则会引发此异常。"
   ]
  },
  {
   "cell_type": "markdown",
   "metadata": {},
   "source": [
    "### 10. tf.Graph\n",
    "\n"
   ]
  },
  {
   "cell_type": "code",
   "execution_count": null,
   "metadata": {
    "collapsed": true
   },
   "outputs": [],
   "source": []
  },
  {
   "cell_type": "code",
   "execution_count": null,
   "metadata": {
    "collapsed": true
   },
   "outputs": [],
   "source": []
  },
  {
   "cell_type": "code",
   "execution_count": null,
   "metadata": {
    "collapsed": true
   },
   "outputs": [],
   "source": []
  },
  {
   "cell_type": "code",
   "execution_count": null,
   "metadata": {
    "collapsed": true
   },
   "outputs": [],
   "source": []
  },
  {
   "cell_type": "code",
   "execution_count": null,
   "metadata": {
    "collapsed": true
   },
   "outputs": [],
   "source": []
  },
  {
   "cell_type": "code",
   "execution_count": null,
   "metadata": {
    "collapsed": true
   },
   "outputs": [],
   "source": []
  },
  {
   "cell_type": "code",
   "execution_count": null,
   "metadata": {
    "collapsed": true
   },
   "outputs": [],
   "source": []
  },
  {
   "cell_type": "code",
   "execution_count": null,
   "metadata": {
    "collapsed": true
   },
   "outputs": [],
   "source": []
  },
  {
   "cell_type": "code",
   "execution_count": null,
   "metadata": {
    "collapsed": true
   },
   "outputs": [],
   "source": []
  },
  {
   "cell_type": "code",
   "execution_count": null,
   "metadata": {
    "collapsed": true
   },
   "outputs": [],
   "source": []
  },
  {
   "cell_type": "code",
   "execution_count": null,
   "metadata": {
    "collapsed": true
   },
   "outputs": [],
   "source": []
  },
  {
   "cell_type": "markdown",
   "metadata": {},
   "source": [
    "## Reference\n",
    "\n",
    "* [TensorFlow 1.0后与以前代码不兼容解决-CIFAR-10报错解决](https://blog.csdn.net/shine19930820/article/details/76436765)"
   ]
  }
 ],
 "metadata": {
  "kernelspec": {
   "display_name": "Python 3",
   "language": "python",
   "name": "python3"
  },
  "language_info": {
   "codemirror_mode": {
    "name": "ipython",
    "version": 3
   },
   "file_extension": ".py",
   "mimetype": "text/x-python",
   "name": "python",
   "nbconvert_exporter": "python",
   "pygments_lexer": "ipython3",
   "version": "3.6.1"
  }
 },
 "nbformat": 4,
 "nbformat_minor": 2
}
