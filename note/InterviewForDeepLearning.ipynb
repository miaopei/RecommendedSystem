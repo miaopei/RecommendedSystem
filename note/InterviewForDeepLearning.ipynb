{
 "cells": [
  {
   "cell_type": "code",
   "execution_count": null,
   "metadata": {
    "collapsed": true
   },
   "outputs": [],
   "source": []
  },
  {
   "cell_type": "markdown",
   "metadata": {},
   "source": [
    "## Reference\n",
    "\n",
    "* [面试笔试整理3：深度学习机器学习面试问题准备（必会）](https://blog.csdn.net/woaidapaopao/article/details/77806273)\n",
    "\n",
    "* [视觉计算/深度学习/人工智能 笔试面试 汇总腾讯、网易、yy、美图等](https://blog.csdn.net/u014722627/article/details/77938703)\n",
    "\n",
    "* [BAT机器学习面试1000题系列（第1~305题）](https://blog.csdn.net/v_july_v/article/details/78121924)\n",
    "\n",
    "* []()\n",
    "\n",
    "* []()\n",
    "\n",
    "* []()\n",
    "\n",
    "* []()\n",
    "\n",
    "* []()\n",
    "\n",
    "* []()\n",
    "\n",
    "* []()\n",
    "\n",
    "* []()\n",
    "\n",
    "* []()\n",
    "\n",
    "* []()\n",
    "\n",
    "* []()\n",
    "\n",
    "* []()\n",
    "\n",
    "* []()\n",
    "\n",
    "* []()\n",
    "\n",
    "* []()\n",
    "\n",
    "* []()\n",
    "\n",
    "* []()\n",
    "\n",
    "* []()\n",
    "\n",
    "* []()\n",
    "\n",
    "* []()\n",
    "\n",
    "* []()\n",
    "\n",
    "* []()\n",
    "\n",
    "* []()\n",
    "\n",
    "* []()\n",
    "\n",
    "* []()\n",
    "\n"
   ]
  }
 ],
 "metadata": {
  "kernelspec": {
   "display_name": "Python 3",
   "language": "python",
   "name": "python3"
  },
  "language_info": {
   "codemirror_mode": {
    "name": "ipython",
    "version": 3
   },
   "file_extension": ".py",
   "mimetype": "text/x-python",
   "name": "python",
   "nbconvert_exporter": "python",
   "pygments_lexer": "ipython3",
   "version": "3.5.4"
  }
 },
 "nbformat": 4,
 "nbformat_minor": 1
}
