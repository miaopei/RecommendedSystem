{
 "cells": [
  {
   "cell_type": "markdown",
   "metadata": {},
   "source": [
    "# 推荐系统 -- 个性化推荐\n",
    "\n",
    "本项目使用文本卷积神经网络，并使用[MovieLens 1M 数据集](https://grouplens.org/datasets/movielens/)完成电影推荐的任务。\n",
    "\n",
    "推荐系统在日常的网络应用中无处不在，比如网上购物、网上买书、新闻app、社交网络、音乐网站、电影网站等等等等，有人的地方就有推荐。根据个人的喜好，相同喜好人群的习惯等信息进行个性化的内容推荐。比如打开新闻类的app，因为有了个性化的内容，每个人看到的新闻首页都是不一样的。\n",
    "\n",
    "这当然是很有用的，在信息爆炸的今天，获取信息的途径和方式多种多样，人们花费时间最多的不再是去哪获取信息，而是要在众多的信息中寻找自己感兴趣的，这就是信息超载问题。为了解决这个问题，推荐系统应运而生。\n",
    "\n",
    "传统的推荐方法主要包括协同过滤、基于内容的推荐方法和混合推荐方法。其中，最经典的算法是协同过滤，如矩阵因子分解，其利用用户与项目之间的交互信息为用户产生推荐，协同过滤是目前应用最为广泛的推荐算法，近年来在Netflix大奖赛中屡获大奖，但是同时也遭遇到了严重的数据稀疏（一个用户评分过的项目仅仅占总项目数量的极少部分）和冷启动（新的用户和新的项目往往没有评分数据）问题。\n",
    "\n",
    "近年来，深度学习在图像处理、自然语言理解和语音识别等领域取得了突破性进展，已经成为人工智能的一个热潮，为推荐系统的研究带来了新的机遇。一方面，深度学习可通过学习一种深层次非线性网络结构，表征用户和项目相关的海量数据，具有强大的从样本中学习数据集本质特征的能力，能够获取用户和项目的深层次特征表示。另一方面，深度学习通过从多源异构数据中进行自动特征学习，从而将不同数据映射到一个相同的隐空间，能够获得数据的统一表征，在此基础上融合传统推荐方法进行推荐，能够有效利用多源异构数据，缓解传统推荐系统中的数据稀疏和冷启动问题。\n",
    "\n",
    "## 下载数据集\n",
    "\n",
    "运行下面代码把[数据集](http://files.grouplens.org/datasets/movielens/ml-1m.zip)下载下来"
   ]
  },
  {
   "cell_type": "code",
   "execution_count": 47,
   "metadata": {
    "collapsed": true
   },
   "outputs": [],
   "source": [
    "import pandas as pd\n",
    "from sklearn.model_selection import train_test_split\n",
    "import numpy as np\n",
    "from collections import Counter\n",
    "import tensorflow as tf\n",
    "\n",
    "import os\n",
    "import pickle\n",
    "import re\n",
    "from tensorflow.python.ops import math_ops\n",
    "\n",
    "from matplotlib import pyplot as plt\n",
    "import seaborn as sns\n",
    "\n",
    "%matplotlib inline"
   ]
  },
  {
   "cell_type": "code",
   "execution_count": 2,
   "metadata": {
    "collapsed": true
   },
   "outputs": [],
   "source": [
    "from urllib.request import urlretrieve\n",
    "from os.path import isfile, isdir\n",
    "from tqdm import tqdm\n",
    "import zipfile\n",
    "import hashlib\n",
    "\n",
    "\n",
    "class DLProgress(tqdm):\n",
    "    \"\"\"\n",
    "    Handle Progress Bar while Downloading\n",
    "    \"\"\"\n",
    "    last_block = 0\n",
    "\n",
    "    def hook(self, block_num=1, block_size=1, total_size=None):\n",
    "        \"\"\"\n",
    "        A hook function that will be called once on establishment of the network connection and\n",
    "        once after each block read thereafter.\n",
    "        :param block_num: A count of blocks transferred so far\n",
    "        :param block_size: Block size in bytes\n",
    "        :param total_size: The total size of the file. This may be -1 on older FTP servers which do not return\n",
    "                            a file size in response to a retrieval request.\n",
    "        \"\"\"\n",
    "        self.total = total_size\n",
    "        self.update((block_num - self.last_block) * block_size)\n",
    "        self.last_block = block_num\n",
    "\n",
    "def _unzip(save_path, _, database_name, data_path):\n",
    "    \"\"\"\n",
    "    Unzip wrapper with the same interface as _ungzip\n",
    "    :param save_path: The path of the gzip files\n",
    "    :param database_name: Name of database\n",
    "    :param data_path: Path to extract to\n",
    "    :param _: HACK - Used to have to same interface as _ungzip\n",
    "    \"\"\"\n",
    "    print('Extracting {}...'.format(database_name))\n",
    "    with zipfile.ZipFile(save_path) as zf:\n",
    "        zf.extractall(data_path)\n",
    "\n",
    "def download_extract(database_name, data_path):\n",
    "    \"\"\"\n",
    "    Download and extract database\n",
    "    :param database_name: Database name\n",
    "    \"\"\"\n",
    "    DATASET_ML1M = 'ml-1m'\n",
    "\n",
    "    if database_name == DATASET_ML1M:\n",
    "        url = 'http://files.grouplens.org/datasets/movielens/ml-1m.zip'\n",
    "        hash_code = 'c4d9eecfca2ab87c1945afe126590906'\n",
    "        extract_path = os.path.join(data_path, 'ml-1m')\n",
    "        save_path = os.path.join(data_path, 'ml-1m.zip')\n",
    "        extract_fn = _unzip\n",
    "\n",
    "    if os.path.exists(extract_path):\n",
    "        print('Found {} Data'.format(database_name))\n",
    "        return\n",
    "\n",
    "    if not os.path.exists(data_path):\n",
    "        os.makedirs(data_path)\n",
    "\n",
    "    if not os.path.exists(save_path):\n",
    "        with DLProgress(unit='B', unit_scale=True, miniters=1, desc='Downloading {}'.format(database_name)) as pbar:\n",
    "            urlretrieve(\n",
    "                url,\n",
    "                save_path,\n",
    "                pbar.hook)\n",
    "\n",
    "    assert hashlib.md5(open(save_path, 'rb').read()).hexdigest() == hash_code, \\\n",
    "        '{} file is corrupted.  Remove the file and try again.'.format(save_path)\n",
    "\n",
    "    os.makedirs(extract_path)\n",
    "    try:\n",
    "        extract_fn(save_path, extract_path, database_name, data_path)\n",
    "    except Exception as err:\n",
    "        shutil.rmtree(extract_path)  # Remove extraction folder if there is an error\n",
    "        raise err\n",
    "\n",
    "    print('Done.')\n",
    "    # Remove compressed data\n",
    "    os.remove(save_path)"
   ]
  },
  {
   "cell_type": "code",
   "execution_count": 3,
   "metadata": {
    "collapsed": false,
    "scrolled": true
   },
   "outputs": [
    {
     "name": "stdout",
     "output_type": "stream",
     "text": [
      "Found ml-1m Data\n"
     ]
    }
   ],
   "source": [
    "data_dir = './'\n",
    "download_extract('ml-1m', data_dir)"
   ]
  },
  {
   "cell_type": "markdown",
   "metadata": {},
   "source": [
    "## 数据探索\n",
    "\n",
    "本项目使用的是[MovieLens 1M 数据集](https://grouplens.org/datasets/movielens/)，这些数据集大约包含6040个用户在3900部电影上的1000209个匿名评级。\n",
    "\n",
    "数据集分为三个文件：用户数据users.dat，电影数据movies.dat和评分数据ratings.dat。\n",
    "\n",
    "### 用户数据\n",
    "\n",
    "分别有用户ID、性别、年龄、职业ID和邮编等字段。\n",
    "\n",
    "数据中的格式：UserID::Gender::Age::Occupation::Zip-code\n",
    "\n",
    "- Gender is denoted by a \"M\" for male and \"F\" for female\n",
    "- Age is chosen from the following ranges:\n",
    "\n",
    "\t*  1:  \"Under 18\"\n",
    "\t* 18:  \"18-24\"\n",
    "\t* 25:  \"25-34\"\n",
    "\t* 35:  \"35-44\"\n",
    "\t* 45:  \"45-49\"\n",
    "\t* 50:  \"50-55\"\n",
    "\t* 56:  \"56+\"\n",
    "\n",
    "- Occupation is chosen from the following choices:\n",
    "\n",
    "\t*  0:  \"other\" or not specified\n",
    "\t*  1:  \"academic/educator\"\n",
    "\t*  2:  \"artist\"\n",
    "\t*  3:  \"clerical/admin\"\n",
    "\t*  4:  \"college/grad student\"\n",
    "\t*  5:  \"customer service\"\n",
    "\t*  6:  \"doctor/health care\"\n",
    "\t*  7:  \"executive/managerial\"\n",
    "\t*  8:  \"farmer\"\n",
    "\t*  9:  \"homemaker\"\n",
    "\t* 10:  \"K-12 student\"\n",
    "\t* 11:  \"lawyer\"\n",
    "\t* 12:  \"programmer\"\n",
    "\t* 13:  \"retired\"\n",
    "\t* 14:  \"sales/marketing\"\n",
    "\t* 15:  \"scientist\"\n",
    "\t* 16:  \"self-employed\"\n",
    "\t* 17:  \"technician/engineer\"\n",
    "\t* 18:  \"tradesman/craftsman\"\n",
    "\t* 19:  \"unemployed\"\n",
    "\t* 20:  \"writer\""
   ]
  },
  {
   "cell_type": "code",
   "execution_count": 48,
   "metadata": {
    "collapsed": false,
    "scrolled": true
   },
   "outputs": [
    {
     "data": {
      "text/html": [
       "<div>\n",
       "<style scoped>\n",
       "    .dataframe tbody tr th:only-of-type {\n",
       "        vertical-align: middle;\n",
       "    }\n",
       "\n",
       "    .dataframe tbody tr th {\n",
       "        vertical-align: top;\n",
       "    }\n",
       "\n",
       "    .dataframe thead th {\n",
       "        text-align: right;\n",
       "    }\n",
       "</style>\n",
       "<table border=\"1\" class=\"dataframe\">\n",
       "  <thead>\n",
       "    <tr style=\"text-align: right;\">\n",
       "      <th></th>\n",
       "      <th>UserID</th>\n",
       "      <th>Gender</th>\n",
       "      <th>Age</th>\n",
       "      <th>OccupationID</th>\n",
       "      <th>Zip-code</th>\n",
       "    </tr>\n",
       "  </thead>\n",
       "  <tbody>\n",
       "    <tr>\n",
       "      <th>0</th>\n",
       "      <td>1</td>\n",
       "      <td>F</td>\n",
       "      <td>1</td>\n",
       "      <td>10</td>\n",
       "      <td>48067</td>\n",
       "    </tr>\n",
       "    <tr>\n",
       "      <th>1</th>\n",
       "      <td>2</td>\n",
       "      <td>M</td>\n",
       "      <td>56</td>\n",
       "      <td>16</td>\n",
       "      <td>70072</td>\n",
       "    </tr>\n",
       "    <tr>\n",
       "      <th>2</th>\n",
       "      <td>3</td>\n",
       "      <td>M</td>\n",
       "      <td>25</td>\n",
       "      <td>15</td>\n",
       "      <td>55117</td>\n",
       "    </tr>\n",
       "    <tr>\n",
       "      <th>3</th>\n",
       "      <td>4</td>\n",
       "      <td>M</td>\n",
       "      <td>45</td>\n",
       "      <td>7</td>\n",
       "      <td>02460</td>\n",
       "    </tr>\n",
       "    <tr>\n",
       "      <th>4</th>\n",
       "      <td>5</td>\n",
       "      <td>M</td>\n",
       "      <td>25</td>\n",
       "      <td>20</td>\n",
       "      <td>55455</td>\n",
       "    </tr>\n",
       "  </tbody>\n",
       "</table>\n",
       "</div>"
      ],
      "text/plain": [
       "   UserID Gender  Age  OccupationID Zip-code\n",
       "0       1      F    1            10    48067\n",
       "1       2      M   56            16    70072\n",
       "2       3      M   25            15    55117\n",
       "3       4      M   45             7    02460\n",
       "4       5      M   25            20    55455"
      ]
     },
     "execution_count": 48,
     "metadata": {},
     "output_type": "execute_result"
    }
   ],
   "source": [
    "users_title = ['UserID', 'Gender', 'Age', 'OccupationID', 'Zip-code']\n",
    "users = pd.read_table('./ml-1m/users.dat', sep='::', header=None, names=users_title, engine = 'python')\n",
    "users.head()"
   ]
  },
  {
   "cell_type": "code",
   "execution_count": 53,
   "metadata": {
    "collapsed": false
   },
   "outputs": [
    {
     "data": {
      "text/plain": [
       "(6040, 5)"
      ]
     },
     "execution_count": 53,
     "metadata": {},
     "output_type": "execute_result"
    }
   ],
   "source": [
    "users.shape"
   ]
  },
  {
   "cell_type": "code",
   "execution_count": 89,
   "metadata": {
    "collapsed": false,
    "scrolled": false
   },
   "outputs": [
    {
     "data": {
      "text/plain": [
       "<matplotlib.axes._subplots.AxesSubplot at 0x7f52ce0bac18>"
      ]
     },
     "execution_count": 89,
     "metadata": {},
     "output_type": "execute_result"
    },
    {
     "data": {
      "image/png": "[encoded data removed]",
      "text/plain": [
       "<matplotlib.figure.Figure at 0x7f52ce2672b0>"
      ]
     },
     "metadata": {
      "image/png": {
       "height": 263,
       "width": 397
      }
     },
     "output_type": "display_data"
    }
   ],
   "source": [
    "# Set theme\n",
    "sns.set_style('darkgrid')\n",
    "\n",
    "sns.countplot(x='Age', data=users, palette=None)"
   ]
  },
  {
   "cell_type": "code",
   "execution_count": 88,
   "metadata": {
    "collapsed": false
   },
   "outputs": [
    {
     "data": {
      "image/png": "[encoded data removed]",
      "text/plain": [
       "<matplotlib.figure.Figure at 0x7f52cf720f60>"
      ]
     },
     "metadata": {
      "image/png": {
       "height": 263,
       "width": 397
      }
     },
     "output_type": "display_data"
    }
   ],
   "source": [
    "sns.countplot(x=\"Gender\", data=users, palette=\"Greens_d\");"
   ]
  },
  {
   "cell_type": "code",
   "execution_count": 86,
   "metadata": {
    "collapsed": false
   },
   "outputs": [
    {
     "data": {
      "text/plain": [
       "<matplotlib.axes._subplots.AxesSubplot at 0x7f52cf10bd68>"
      ]
     },
     "execution_count": 86,
     "metadata": {},
     "output_type": "execute_result"
    },
    {
     "data": {
      "image/png": "[encoded data removed]",
      "text/plain": [
       "<matplotlib.figure.Figure at 0x7f52cf58d198>"
      ]
     },
     "metadata": {
      "image/png": {
       "height": 263,
       "width": 390
      }
     },
     "output_type": "display_data"
    }
   ],
   "source": [
    "sns.countplot(x='OccupationID', data=users, palette=None)"
   ]
  },
  {
   "cell_type": "markdown",
   "metadata": {},
   "source": [
    "可以看出UserID、Gender、Age和Occupation都是类别字段，其中邮编字段是本项目不使用的。\n",
    "\n",
    "用户数据可视化分析：\n",
    "\n",
    "- 从Age分布来看18-44岁之间看电影的人最多\n",
    "- 从Gender分布来看男性看电影人数是女性的两倍多\n",
    "- 从Occupation分布来看从事以下职业看电影人数最多\n",
    "    - 0: \"other\" or not specified\n",
    "    - 1: \"academic/educator\"\n",
    "    - 4: \"college/grad student\"\n",
    "    - 7: \"executive/managerial\"\n",
    "    - 17: \"technician/engineer\"\n",
    "\n",
    "### 电影数据\n",
    "\n",
    "分别有电影ID、电影名和电影风格等字段。\n",
    "\n",
    "数据中的格式：MovieID::Title::Genres\n",
    "\n",
    "- Titles are identical to titles provided by the IMDB (including\n",
    "year of release)\n",
    "- Genres are pipe-separated and are selected from the following genres:\n",
    "\n",
    "\t* Action\n",
    "\t* Adventure\n",
    "\t* Animation\n",
    "\t* Children's\n",
    "\t* Comedy\n",
    "\t* Crime\n",
    "\t* Documentary\n",
    "\t* Drama\n",
    "\t* Fantasy\n",
    "\t* Film-Noir\n",
    "\t* Horror\n",
    "\t* Musical\n",
    "\t* Mystery\n",
    "\t* Romance\n",
    "\t* Sci-Fi\n",
    "\t* Thriller\n",
    "\t* War\n",
    "\t* Western"
   ]
  },
  {
   "cell_type": "code",
   "execution_count": 5,
   "metadata": {
    "collapsed": false
   },
   "outputs": [
    {
     "data": {
      "text/html": [
       "<div>\n",
       "<style scoped>\n",
       "    .dataframe tbody tr th:only-of-type {\n",
       "        vertical-align: middle;\n",
       "    }\n",
       "\n",
       "    .dataframe tbody tr th {\n",
       "        vertical-align: top;\n",
       "    }\n",
       "\n",
       "    .dataframe thead th {\n",
       "        text-align: right;\n",
       "    }\n",
       "</style>\n",
       "<table border=\"1\" class=\"dataframe\">\n",
       "  <thead>\n",
       "    <tr style=\"text-align: right;\">\n",
       "      <th></th>\n",
       "      <th>MovieID</th>\n",
       "      <th>Title</th>\n",
       "      <th>Genres</th>\n",
       "    </tr>\n",
       "  </thead>\n",
       "  <tbody>\n",
       "    <tr>\n",
       "      <th>0</th>\n",
       "      <td>1</td>\n",
       "      <td>Toy Story (1995)</td>\n",
       "      <td>Animation|Children's|Comedy</td>\n",
       "    </tr>\n",
       "    <tr>\n",
       "      <th>1</th>\n",
       "      <td>2</td>\n",
       "      <td>Jumanji (1995)</td>\n",
       "      <td>Adventure|Children's|Fantasy</td>\n",
       "    </tr>\n",
       "    <tr>\n",
       "      <th>2</th>\n",
       "      <td>3</td>\n",
       "      <td>Grumpier Old Men (1995)</td>\n",
       "      <td>Comedy|Romance</td>\n",
       "    </tr>\n",
       "    <tr>\n",
       "      <th>3</th>\n",
       "      <td>4</td>\n",
       "      <td>Waiting to Exhale (1995)</td>\n",
       "      <td>Comedy|Drama</td>\n",
       "    </tr>\n",
       "    <tr>\n",
       "      <th>4</th>\n",
       "      <td>5</td>\n",
       "      <td>Father of the Bride Part II (1995)</td>\n",
       "      <td>Comedy</td>\n",
       "    </tr>\n",
       "  </tbody>\n",
       "</table>\n",
       "</div>"
      ],
      "text/plain": [
       "   MovieID                               Title                        Genres\n",
       "0        1                    Toy Story (1995)   Animation|Children's|Comedy\n",
       "1        2                      Jumanji (1995)  Adventure|Children's|Fantasy\n",
       "2        3             Grumpier Old Men (1995)                Comedy|Romance\n",
       "3        4            Waiting to Exhale (1995)                  Comedy|Drama\n",
       "4        5  Father of the Bride Part II (1995)                        Comedy"
      ]
     },
     "execution_count": 5,
     "metadata": {},
     "output_type": "execute_result"
    }
   ],
   "source": [
    "movies_title = ['MovieID', 'Title', 'Genres']\n",
    "movies = pd.read_table('./ml-1m/movies.dat', sep='::', header=None, names=movies_title, engine = 'python')\n",
    "movies.head()"
   ]
  },
  {
   "cell_type": "code",
   "execution_count": 6,
   "metadata": {
    "collapsed": false
   },
   "outputs": [
    {
     "data": {
      "text/plain": [
       "('Old Lady Who Walked in the Sea, The (Vieille qui marchait dans la mer, La) ',\n",
       " 15)"
      ]
     },
     "execution_count": 6,
     "metadata": {},
     "output_type": "execute_result"
    }
   ],
   "source": [
    "# 将Title中的年份去掉\n",
    "pattern = re.compile(r'^(.*)\\((\\d+)\\)$')\n",
    "title_map = {item:pattern.match(item).group(1) for index,item in enumerate(set(movies['Title']))}\n",
    "movies['Title'] = movies['Title'].map(title_map)\n",
    "\n",
    "# 统计Title中单词最多的Title及单词个数\n",
    "max_title_map = {item:len(item.split()) for index,item in enumerate(set(movies['Title']))}\n",
    "max(max_title_map.items(), key=lambda x: x[1])"
   ]
  },
  {
   "cell_type": "code",
   "execution_count": 90,
   "metadata": {
    "collapsed": false
   },
   "outputs": [
    {
     "data": {
      "text/plain": [
       "(3883, 3)"
      ]
     },
     "execution_count": 90,
     "metadata": {},
     "output_type": "execute_result"
    }
   ],
   "source": [
    "movies.shape"
   ]
  },
  {
   "cell_type": "markdown",
   "metadata": {},
   "source": [
    "MovieID是类别字段，Title是文本，Genres也是类别字段\n",
    "\n",
    "单词最多的Title单词个数为15个 \n",
    "\n",
    "### 评分数据\n",
    "\n",
    "分别有用户ID、电影ID、评分和时间戳等字段。\n",
    "\n",
    "数据中的格式：UserID::MovieID::Rating::Timestamp\n",
    "\n",
    "- UserIDs range between 1 and 6040 \n",
    "- MovieIDs range between 1 and 3952\n",
    "- Ratings are made on a 5-star scale (whole-star ratings only)\n",
    "- Timestamp is represented in seconds since the epoch as returned by time(2)\n",
    "- Each user has at least 20 ratings"
   ]
  },
  {
   "cell_type": "code",
   "execution_count": 99,
   "metadata": {
    "collapsed": false,
    "scrolled": true
   },
   "outputs": [
    {
     "data": {
      "text/html": [
       "<div>\n",
       "<style scoped>\n",
       "    .dataframe tbody tr th:only-of-type {\n",
       "        vertical-align: middle;\n",
       "    }\n",
       "\n",
       "    .dataframe tbody tr th {\n",
       "        vertical-align: top;\n",
       "    }\n",
       "\n",
       "    .dataframe thead th {\n",
       "        text-align: right;\n",
       "    }\n",
       "</style>\n",
       "<table border=\"1\" class=\"dataframe\">\n",
       "  <thead>\n",
       "    <tr style=\"text-align: right;\">\n",
       "      <th></th>\n",
       "      <th>UserID</th>\n",
       "      <th>MovieID</th>\n",
       "      <th>Rating</th>\n",
       "      <th>timestamps</th>\n",
       "    </tr>\n",
       "  </thead>\n",
       "  <tbody>\n",
       "    <tr>\n",
       "      <th>0</th>\n",
       "      <td>1</td>\n",
       "      <td>1193</td>\n",
       "      <td>5</td>\n",
       "      <td>978300760</td>\n",
       "    </tr>\n",
       "    <tr>\n",
       "      <th>1</th>\n",
       "      <td>1</td>\n",
       "      <td>661</td>\n",
       "      <td>3</td>\n",
       "      <td>978302109</td>\n",
       "    </tr>\n",
       "    <tr>\n",
       "      <th>2</th>\n",
       "      <td>1</td>\n",
       "      <td>914</td>\n",
       "      <td>3</td>\n",
       "      <td>978301968</td>\n",
       "    </tr>\n",
       "    <tr>\n",
       "      <th>3</th>\n",
       "      <td>1</td>\n",
       "      <td>3408</td>\n",
       "      <td>4</td>\n",
       "      <td>978300275</td>\n",
       "    </tr>\n",
       "    <tr>\n",
       "      <th>4</th>\n",
       "      <td>1</td>\n",
       "      <td>2355</td>\n",
       "      <td>5</td>\n",
       "      <td>978824291</td>\n",
       "    </tr>\n",
       "  </tbody>\n",
       "</table>\n",
       "</div>"
      ],
      "text/plain": [
       "   UserID  MovieID  Rating  timestamps\n",
       "0       1     1193       5   978300760\n",
       "1       1      661       3   978302109\n",
       "2       1      914       3   978301968\n",
       "3       1     3408       4   978300275\n",
       "4       1     2355       5   978824291"
      ]
     },
     "execution_count": 99,
     "metadata": {},
     "output_type": "execute_result"
    }
   ],
   "source": [
    "ratings_title = ['UserID','MovieID', 'Rating', 'timestamps']\n",
    "ratings = pd.read_table('./ml-1m/ratings.dat', sep='::', header=None, names=ratings_title, engine = 'python')\n",
    "ratings.head()"
   ]
  },
  {
   "cell_type": "code",
   "execution_count": 100,
   "metadata": {
    "collapsed": false
   },
   "outputs": [
    {
     "data": {
      "text/plain": [
       "(1000209, 4)"
      ]
     },
     "execution_count": 100,
     "metadata": {},
     "output_type": "execute_result"
    }
   ],
   "source": [
    "ratings.shape"
   ]
  },
  {
   "cell_type": "code",
   "execution_count": 101,
   "metadata": {
    "collapsed": false,
    "scrolled": true
   },
   "outputs": [
    {
     "data": {
      "text/plain": [
       "<matplotlib.axes._subplots.AxesSubplot at 0x7f52ce0826a0>"
      ]
     },
     "execution_count": 101,
     "metadata": {},
     "output_type": "execute_result"
    },
    {
     "data": {
      "image/png": "[encoded data removed]",
      "text/plain": [
       "<matplotlib.figure.Figure at 0x7f52ce117a58>"
      ]
     },
     "metadata": {
      "image/png": {
       "height": 263,
       "width": 410
      }
     },
     "output_type": "display_data"
    }
   ],
   "source": [
    "sns.countplot(x='Rating', data=ratings, palette=None)"
   ]
  },
  {
   "cell_type": "markdown",
   "metadata": {},
   "source": [
    "评分字段Rating就是本项目要学习的targets，时间戳字段本项目不使用。\n",
    "\n",
    "评分数据可视化分析：\n",
    "\n",
    "- 从评分来看大多数电影的评分为3-5分\n",
    "\n",
    "\n",
    "## 数据预处理\n",
    "\n",
    "- UserID、Occupation和MovieID不用变。\n",
    "- Gender字段：需要将‘F’和‘M’转换成0和1。\n",
    "    * F:0\n",
    "    * M:1\n",
    "- Age字段：要转成7个连续数字0~6。\n",
    "    * 1: 0\n",
    "    * 18: 1\n",
    "    * 25: 2\n",
    "    * 35: 3\n",
    "    * 45: 4\n",
    "    * 50: 5\n",
    "    * 56: 6\n",
    "- Genres字段：是分类字段，要转成数字。首先将Genres中的类别转成字符串到数字的字典，然后再将每个电影的Genres字段转成数字列表，因为有些电影是多个Genres的组合。\n",
    "- Title字段：处理方式跟Genres字段一样，首先创建文本到数字的字典，然后将Title中的描述转成数字的列表。另外Title中的年份也需要去掉。\n",
    "- Genres和Title字段需要将长度统一，这样在神经网络中方便处理。空白部分用‘< PAD >’对应的数字填充。\n",
    "\n",
    "## 数据预处理实现"
   ]
  },
  {
   "cell_type": "code",
   "execution_count": 8,
   "metadata": {
    "collapsed": true
   },
   "outputs": [],
   "source": [
    "def load_data():\n",
    "    \"\"\"\n",
    "    Load Dataset from File\n",
    "    \"\"\"\n",
    "    # 读取User数据\n",
    "    users_title = ['UserID', 'Gender', 'Age', 'JobID', 'Zip-code']\n",
    "    users = pd.read_table('./ml-1m/users.dat', sep='::', header=None, names=users_title, engine = 'python')\n",
    "    users = users.filter(regex='UserID|Gender|Age|JobID')\n",
    "    users_orig = users.values\n",
    "    # 改变User数据中性别和年龄\n",
    "    gender_map = {'F':0, 'M':1}\n",
    "    users['Gender'] = users['Gender'].map(gender_map)\n",
    "\n",
    "    age_map = {item:index for index,item in enumerate([1,18,25,35,45,50,56])}\n",
    "    users['Age'] = users['Age'].map(age_map)\n",
    "\n",
    "    # 读取Movie数据集\n",
    "    movies_title = ['MovieID', 'Title', 'Genres']\n",
    "    movies = pd.read_table('./ml-1m/movies.dat', sep='::', header=None, names=movies_title, engine = 'python')\n",
    "    movies_orig = movies.values\n",
    "    # 将Title中的年份去掉\n",
    "    pattern = re.compile(r'^(.*)\\((\\d+)\\)$')\n",
    "\n",
    "    title_map = {item:pattern.match(item).group(1) for index,item in enumerate(set(movies['Title']))}\n",
    "    movies['Title'] = movies['Title'].map(title_map)\n",
    "\n",
    "    # 电影类型转数字字典\n",
    "    genres_set = set()\n",
    "    for item in movies['Genres'].str.split('|'):\n",
    "        genres_set.update(item)\n",
    "\n",
    "    genres_set.add('<PAD>')\n",
    "    genres2int = {item:index for index,item in enumerate(genres_set)}\n",
    "\n",
    "    # 将电影类型转成等长数字列表，长度是18\n",
    "    genres_map = {item:[genres2int[row] for row in item.split('|')] for index,item in enumerate(set(movies['Genres']))}\n",
    "\n",
    "    for key in genres_map:\n",
    "        for cnt in range(max(genres2int.values()) - len(genres_map[key])):\n",
    "            genres_map[key].insert(len(genres_map[key]) + cnt,genres2int['<PAD>'])\n",
    "    \n",
    "    movies['Genres'] = movies['Genres'].map(genres_map)\n",
    "\n",
    "    # 电影Title转数字字典\n",
    "    title_set = set()\n",
    "    for val in movies['Title'].str.split():\n",
    "        title_set.update(val)\n",
    "    \n",
    "    title_set.add('<PAD>')\n",
    "    title2int = {val:ii for ii, val in enumerate(title_set)}\n",
    "\n",
    "    # 将电影Title转成等长数字列表，长度是15\n",
    "    title_count = 15\n",
    "    title_map = {item:[title2int[row] for row in item.split()] for index,item in enumerate(set(movies['Title']))}\n",
    "    \n",
    "    for key in title_map:\n",
    "        for cnt in range(title_count - len(title_map[key])):\n",
    "            title_map[key].insert(len(title_map[key]) + cnt,title2int['<PAD>'])\n",
    "    \n",
    "    movies['Title'] = movies['Title'].map(title_map)\n",
    "\n",
    "    # 读取评分数据集\n",
    "    ratings_title = ['UserID','MovieID', 'ratings', 'timestamps']\n",
    "    ratings = pd.read_table('./ml-1m/ratings.dat', sep='::', header=None, names=ratings_title, engine = 'python')\n",
    "    ratings = ratings.filter(regex='UserID|MovieID|ratings')\n",
    "\n",
    "    # 合并三个表\n",
    "    data = pd.merge(pd.merge(ratings, users), movies)\n",
    "    \n",
    "    # 将数据分成X和y两张表\n",
    "    target_fields = ['ratings']\n",
    "    features_pd, targets_pd = data.drop(target_fields, axis=1), data[target_fields]\n",
    "    \n",
    "    features = features_pd.values\n",
    "    targets_values = targets_pd.values\n",
    "    \n",
    "    return title_count, title_set, genres2int, features, targets_values, ratings, users, movies, data, movies_orig, users_orig"
   ]
  },
  {
   "cell_type": "markdown",
   "metadata": {},
   "source": [
    "## 加载数据并保存到本地\n",
    "\n",
    "- title_count：Title字段的长度（15）\n",
    "- title_set：Title文本的集合\n",
    "- genres2int：电影类型转数字的字典\n",
    "- features：是输入X\n",
    "- targets_values：是学习目标y\n",
    "- ratings：评分数据集的Pandas对象\n",
    "- users：用户数据集的Pandas对象\n",
    "- movies：电影数据的Pandas对象\n",
    "- data：三个数据集组合在一起的Pandas对象\n",
    "- movies_orig：没有做数据处理的原始电影数据\n",
    "- users_orig：没有做数据处理的原始用户数据"
   ]
  },
  {
   "cell_type": "code",
   "execution_count": 9,
   "metadata": {
    "collapsed": true
   },
   "outputs": [],
   "source": [
    "title_count, title_set, genres2int, features, targets_values, ratings, users, movies, data, movies_orig, users_orig = load_data()\n",
    "\n",
    "pickle.dump((title_count, title_set, genres2int, features, targets_values, ratings, users, movies, data, movies_orig, users_orig), open('preprocess.p', 'wb'))"
   ]
  },
  {
   "cell_type": "markdown",
   "metadata": {},
   "source": [
    "## 数据预处理"
   ]
  },
  {
   "cell_type": "code",
   "execution_count": 10,
   "metadata": {
    "collapsed": false
   },
   "outputs": [
    {
     "data": {
      "text/html": [
       "<div>\n",
       "<style scoped>\n",
       "    .dataframe tbody tr th:only-of-type {\n",
       "        vertical-align: middle;\n",
       "    }\n",
       "\n",
       "    .dataframe tbody tr th {\n",
       "        vertical-align: top;\n",
       "    }\n",
       "\n",
       "    .dataframe thead th {\n",
       "        text-align: right;\n",
       "    }\n",
       "</style>\n",
       "<table border=\"1\" class=\"dataframe\">\n",
       "  <thead>\n",
       "    <tr style=\"text-align: right;\">\n",
       "      <th></th>\n",
       "      <th>UserID</th>\n",
       "      <th>Gender</th>\n",
       "      <th>Age</th>\n",
       "      <th>JobID</th>\n",
       "    </tr>\n",
       "  </thead>\n",
       "  <tbody>\n",
       "    <tr>\n",
       "      <th>0</th>\n",
       "      <td>1</td>\n",
       "      <td>0</td>\n",
       "      <td>0</td>\n",
       "      <td>10</td>\n",
       "    </tr>\n",
       "    <tr>\n",
       "      <th>1</th>\n",
       "      <td>2</td>\n",
       "      <td>1</td>\n",
       "      <td>6</td>\n",
       "      <td>16</td>\n",
       "    </tr>\n",
       "    <tr>\n",
       "      <th>2</th>\n",
       "      <td>3</td>\n",
       "      <td>1</td>\n",
       "      <td>2</td>\n",
       "      <td>15</td>\n",
       "    </tr>\n",
       "    <tr>\n",
       "      <th>3</th>\n",
       "      <td>4</td>\n",
       "      <td>1</td>\n",
       "      <td>4</td>\n",
       "      <td>7</td>\n",
       "    </tr>\n",
       "    <tr>\n",
       "      <th>4</th>\n",
       "      <td>5</td>\n",
       "      <td>1</td>\n",
       "      <td>2</td>\n",
       "      <td>20</td>\n",
       "    </tr>\n",
       "  </tbody>\n",
       "</table>\n",
       "</div>"
      ],
      "text/plain": [
       "   UserID  Gender  Age  JobID\n",
       "0       1       0    0     10\n",
       "1       2       1    6     16\n",
       "2       3       1    2     15\n",
       "3       4       1    4      7\n",
       "4       5       1    2     20"
      ]
     },
     "execution_count": 10,
     "metadata": {},
     "output_type": "execute_result"
    }
   ],
   "source": [
    "users.head()"
   ]
  },
  {
   "cell_type": "code",
   "execution_count": 11,
   "metadata": {
    "collapsed": false
   },
   "outputs": [
    {
     "data": {
      "text/html": [
       "<div>\n",
       "<style scoped>\n",
       "    .dataframe tbody tr th:only-of-type {\n",
       "        vertical-align: middle;\n",
       "    }\n",
       "\n",
       "    .dataframe tbody tr th {\n",
       "        vertical-align: top;\n",
       "    }\n",
       "\n",
       "    .dataframe thead th {\n",
       "        text-align: right;\n",
       "    }\n",
       "</style>\n",
       "<table border=\"1\" class=\"dataframe\">\n",
       "  <thead>\n",
       "    <tr style=\"text-align: right;\">\n",
       "      <th></th>\n",
       "      <th>MovieID</th>\n",
       "      <th>Title</th>\n",
       "      <th>Genres</th>\n",
       "    </tr>\n",
       "  </thead>\n",
       "  <tbody>\n",
       "    <tr>\n",
       "      <th>0</th>\n",
       "      <td>1</td>\n",
       "      <td>[4375, 30, 887, 887, 887, 887, 887, 887, 887, ...</td>\n",
       "      <td>[5, 1, 17, 10, 10, 10, 10, 10, 10, 10, 10, 10,...</td>\n",
       "    </tr>\n",
       "    <tr>\n",
       "      <th>1</th>\n",
       "      <td>2</td>\n",
       "      <td>[245, 887, 887, 887, 887, 887, 887, 887, 887, ...</td>\n",
       "      <td>[13, 1, 16, 10, 10, 10, 10, 10, 10, 10, 10, 10...</td>\n",
       "    </tr>\n",
       "    <tr>\n",
       "      <th>2</th>\n",
       "      <td>3</td>\n",
       "      <td>[31, 1395, 3504, 887, 887, 887, 887, 887, 887,...</td>\n",
       "      <td>[17, 3, 10, 10, 10, 10, 10, 10, 10, 10, 10, 10...</td>\n",
       "    </tr>\n",
       "    <tr>\n",
       "      <th>3</th>\n",
       "      <td>4</td>\n",
       "      <td>[1361, 4274, 2920, 887, 887, 887, 887, 887, 88...</td>\n",
       "      <td>[17, 8, 10, 10, 10, 10, 10, 10, 10, 10, 10, 10...</td>\n",
       "    </tr>\n",
       "    <tr>\n",
       "      <th>4</th>\n",
       "      <td>5</td>\n",
       "      <td>[2421, 1311, 4473, 4923, 1603, 1090, 887, 887,...</td>\n",
       "      <td>[17, 10, 10, 10, 10, 10, 10, 10, 10, 10, 10, 1...</td>\n",
       "    </tr>\n",
       "  </tbody>\n",
       "</table>\n",
       "</div>"
      ],
      "text/plain": [
       "   MovieID                                              Title  \\\n",
       "0        1  [4375, 30, 887, 887, 887, 887, 887, 887, 887, ...   \n",
       "1        2  [245, 887, 887, 887, 887, 887, 887, 887, 887, ...   \n",
       "2        3  [31, 1395, 3504, 887, 887, 887, 887, 887, 887,...   \n",
       "3        4  [1361, 4274, 2920, 887, 887, 887, 887, 887, 88...   \n",
       "4        5  [2421, 1311, 4473, 4923, 1603, 1090, 887, 887,...   \n",
       "\n",
       "                                              Genres  \n",
       "0  [5, 1, 17, 10, 10, 10, 10, 10, 10, 10, 10, 10,...  \n",
       "1  [13, 1, 16, 10, 10, 10, 10, 10, 10, 10, 10, 10...  \n",
       "2  [17, 3, 10, 10, 10, 10, 10, 10, 10, 10, 10, 10...  \n",
       "3  [17, 8, 10, 10, 10, 10, 10, 10, 10, 10, 10, 10...  \n",
       "4  [17, 10, 10, 10, 10, 10, 10, 10, 10, 10, 10, 1...  "
      ]
     },
     "execution_count": 11,
     "metadata": {},
     "output_type": "execute_result"
    }
   ],
   "source": [
    "movies.head()"
   ]
  },
  {
   "cell_type": "code",
   "execution_count": 12,
   "metadata": {
    "collapsed": false
   },
   "outputs": [
    {
     "data": {
      "text/plain": [
       "array([1,\n",
       "       [4375, 30, 887, 887, 887, 887, 887, 887, 887, 887, 887, 887, 887, 887, 887],\n",
       "       [5, 1, 17, 10, 10, 10, 10, 10, 10, 10, 10, 10, 10, 10, 10, 10, 10, 10]], dtype=object)"
      ]
     },
     "execution_count": 12,
     "metadata": {},
     "output_type": "execute_result"
    }
   ],
   "source": [
    "movies.values[0]"
   ]
  },
  {
   "cell_type": "markdown",
   "metadata": {},
   "source": [
    "## 从本地读取数据"
   ]
  },
  {
   "cell_type": "code",
   "execution_count": 13,
   "metadata": {
    "collapsed": true
   },
   "outputs": [],
   "source": [
    "title_count, title_set, genres2int, features, targets_values, ratings, users, movies, data, movies_orig, users_orig = pickle.load(open('preprocess.p', mode='rb'))"
   ]
  },
  {
   "cell_type": "markdown",
   "metadata": {},
   "source": [
    "## 模型设计\n",
    "\n",
    "<img src=\"movies_recommender.png\"/>"
   ]
  },
  {
   "cell_type": "markdown",
   "metadata": {},
   "source": [
    "通过研究数据集中的字段类型，我们发现有一些是类别字段，通常的处理是将这些字段转成one hot编码，但是像UserID、MovieID这样的字段就会变成非常的稀疏，输入的维度急剧膨胀，这是我们不愿意见到的。\n",
    "\n",
    "所以在预处理数据时将这些字段转成了数字，我们用这个数字当做嵌入矩阵的索引，在网络的第一层使用了嵌入层，维度是（N，32）和（N，16）。\n",
    "\n",
    "电影类型的处理要多一步，有时一个电影有多个电影类型，这样从嵌入矩阵索引出来是一个（n，32）的矩阵，因为有多个类型，所以要将这个矩阵求和，变成（1，32）的向量。\n",
    "\n",
    "电影名的处理比较特殊，没有使用循环神经网络，而是用了文本卷积网络，下文会进行说明。\n",
    "\n",
    "从嵌入层索引出特征以后，将各特征传入全连接层，将输出再次传入全连接层，最终分别得到（1，200）的用户特征和电影特征两个特征向量。\n",
    "\n",
    "我们的目的就是要训练出用户特征和电影特征，在实现推荐功能时使用。得到这两个特征以后，就可以选择任意的方式来拟合评分了。我使用了两种方式，一个是上图中画出的将两个特征做向量乘法，将结果与真实评分做回归，采用MSE优化损失。因为本质上这是一个回归问题，另一种方式是，将两个特征作为输入，再次传入全连接层，输出一个值，将输出值回归到真实评分，采用MSE优化损失。\n",
    "\n",
    "实际上第二个方式的MSE loss在0.8附近，第一个方式在1附近，5次迭代的结果。\n",
    "\n",
    "## 文本卷积网络\n",
    "\n",
    "网络看起来像下面这样\n",
    "\n",
    "<img src=\"assets/text_cnn.png\"/>\n",
    "图片来自Kim Yoon的论文：[`Convolutional Neural Networks for Sentence Classification`](https://arxiv.org/abs/1408.5882)\n",
    "\n",
    "将卷积神经网络用于文本的文章建议你阅读[`Understanding Convolutional Neural Networks for NLP`](http://www.wildml.com/2015/11/understanding-convolutional-neural-networks-for-nlp/)\n",
    "\n",
    "网络的第一层是词嵌入层，由每一个单词的嵌入向量组成的嵌入矩阵。下一层使用多个不同尺寸（窗口大小）的卷积核在嵌入矩阵上做卷积，窗口大小指的是每次卷积覆盖几个单词。这里跟对图像做卷积不太一样，图像的卷积通常用2x2、3x3、5x5之类的尺寸，而文本卷积要覆盖整个单词的嵌入向量，所以尺寸是（单词数，向量维度），比如每次滑动3个，4个或者5个单词。第三层网络是max pooling得到一个长向量，最后使用dropout做正则化，最终得到了电影Title的特征。"
   ]
  },
  {
   "cell_type": "markdown",
   "metadata": {},
   "source": [
    "## 辅助函数"
   ]
  },
  {
   "cell_type": "code",
   "execution_count": 14,
   "metadata": {
    "collapsed": true
   },
   "outputs": [],
   "source": [
    "import tensorflow as tf\n",
    "import os\n",
    "import pickle\n",
    "\n",
    "def save_params(params):\n",
    "    \"\"\"\n",
    "    Save parameters to file\n",
    "    \"\"\"\n",
    "    pickle.dump(params, open('params.p', 'wb'))\n",
    "\n",
    "\n",
    "def load_params():\n",
    "    \"\"\"\n",
    "    Load parameters from file\n",
    "    \"\"\"\n",
    "    return pickle.load(open('params.p', mode='rb'))"
   ]
  },
  {
   "cell_type": "markdown",
   "metadata": {},
   "source": [
    "## 编码实现"
   ]
  },
  {
   "cell_type": "code",
   "execution_count": 15,
   "metadata": {
    "collapsed": true
   },
   "outputs": [],
   "source": [
    "# 嵌入矩阵的维度\n",
    "embed_dim = 32\n",
    "\n",
    "# 用户ID个数\n",
    "uid_max = max(features.take(0,1)) + 1 # 6040\n",
    "\n",
    "# 性别个数\n",
    "gender_max = max(features.take(2,1)) + 1 # 1 + 1 = 2\n",
    "\n",
    "# 年龄类别个数\n",
    "age_max = max(features.take(3,1)) + 1 # 6 + 1 = 7\n",
    "\n",
    "# 职业个数\n",
    "job_max = max(features.take(4,1)) + 1# 20 + 1 = 21\n",
    "\n",
    "# 电影ID个数\n",
    "movie_id_max = max(features.take(1,1)) + 1 # 3952\n",
    "\n",
    "# 电影类型个数\n",
    "movie_categories_max = max(genres2int.values()) + 1 # 18 + 1 = 19\n",
    "\n",
    "# 电影名单词个数\n",
    "movie_title_max = len(title_set) # 5216\n",
    "\n",
    "# 对电影类型嵌入向量做加和操作的标志，考虑过使用mean做平均，但是没实现mean\n",
    "combiner = \"sum\"\n",
    "\n",
    "# 电影名长度\n",
    "sentences_size = title_count # = 15\n",
    "\n",
    "# 文本卷积滑动窗口，分别滑动2, 3, 4, 5个单词\n",
    "window_sizes = {2, 3, 4, 5}\n",
    "\n",
    "# 文本卷积核数量\n",
    "filter_num = 8\n",
    "\n",
    "# 电影ID转下标的字典，数据集中电影ID跟下标不一致，比如第5行的数据电影ID不一定是5\n",
    "movieid2idx = {item[0]:index for index,item in enumerate(movies.values)}"
   ]
  },
  {
   "cell_type": "markdown",
   "metadata": {},
   "source": [
    "## 超参"
   ]
  },
  {
   "cell_type": "code",
   "execution_count": 16,
   "metadata": {
    "collapsed": true
   },
   "outputs": [],
   "source": [
    "# Number of Epochs\n",
    "num_epochs = 5\n",
    "# Batch Size\n",
    "batch_size = 256\n",
    "\n",
    "dropout_keep = 0.5\n",
    "# Learning Rate\n",
    "learning_rate = 0.0001\n",
    "# Show stats for every n number of batches\n",
    "show_every_n_batches = 20\n",
    "\n",
    "save_dir = './save'"
   ]
  },
  {
   "cell_type": "markdown",
   "metadata": {},
   "source": [
    "## 输入\n",
    "\n",
    "定义输入占位符"
   ]
  },
  {
   "cell_type": "code",
   "execution_count": 17,
   "metadata": {
    "collapsed": true
   },
   "outputs": [],
   "source": [
    "def get_inputs():\n",
    "    uid = tf.placeholder(tf.int32, [None, 1], name=\"uid\")\n",
    "    user_gender = tf.placeholder(tf.int32, [None, 1], name=\"user_gender\")\n",
    "    user_age = tf.placeholder(tf.int32, [None, 1], name=\"user_age\")\n",
    "    user_job = tf.placeholder(tf.int32, [None, 1], name=\"user_job\")\n",
    "    \n",
    "    movie_id = tf.placeholder(tf.int32, [None, 1], name=\"movie_id\")\n",
    "    movie_categories = tf.placeholder(tf.int32, [None, 18], name=\"movie_categories\")\n",
    "    movie_titles = tf.placeholder(tf.int32, [None, 15], name=\"movie_titles\")\n",
    "    \n",
    "    targets = tf.placeholder(tf.int32, [None, 1], name=\"targets\")\n",
    "    LearningRate = tf.placeholder(tf.float32, name = \"LearningRate\")\n",
    "    dropout_keep_prob = tf.placeholder(tf.float32, name = \"dropout_keep_prob\")\n",
    "    return uid, user_gender, user_age, user_job, movie_id, movie_categories, movie_titles, targets, LearningRate, dropout_keep_prob"
   ]
  },
  {
   "cell_type": "markdown",
   "metadata": {},
   "source": [
    "## 构建神经网络\n",
    "\n",
    "定义User的嵌入矩阵"
   ]
  },
  {
   "cell_type": "code",
   "execution_count": 18,
   "metadata": {
    "collapsed": true
   },
   "outputs": [],
   "source": [
    "def get_user_embedding(uid, user_gender, user_age, user_job):\n",
    "    with tf.name_scope(\"user_embedding\"):\n",
    "        uid_embed_matrix = tf.Variable(tf.random_uniform([uid_max, embed_dim], -1, 1), name = \"uid_embed_matrix\")\n",
    "        uid_embed_layer = tf.nn.embedding_lookup(uid_embed_matrix, uid, name = \"uid_embed_layer\")\n",
    "    \n",
    "        gender_embed_matrix = tf.Variable(tf.random_uniform([gender_max, embed_dim // 2], -1, 1), name= \"gender_embed_matrix\")\n",
    "        gender_embed_layer = tf.nn.embedding_lookup(gender_embed_matrix, user_gender, name = \"gender_embed_layer\")\n",
    "        \n",
    "        age_embed_matrix = tf.Variable(tf.random_uniform([age_max, embed_dim // 2], -1, 1), name=\"age_embed_matrix\")\n",
    "        age_embed_layer = tf.nn.embedding_lookup(age_embed_matrix, user_age, name=\"age_embed_layer\")\n",
    "        \n",
    "        job_embed_matrix = tf.Variable(tf.random_uniform([job_max, embed_dim // 2], -1, 1), name = \"job_embed_matrix\")\n",
    "        job_embed_layer = tf.nn.embedding_lookup(job_embed_matrix, user_job, name = \"job_embed_layer\")\n",
    "    return uid_embed_layer, gender_embed_layer, age_embed_layer, job_embed_layer"
   ]
  },
  {
   "cell_type": "markdown",
   "metadata": {},
   "source": [
    "将User的嵌入矩阵一起全连接生成User的特征"
   ]
  },
  {
   "cell_type": "code",
   "execution_count": 19,
   "metadata": {
    "collapsed": true
   },
   "outputs": [],
   "source": [
    "def get_user_feature_layer(uid_embed_layer, gender_embed_layer, age_embed_layer, job_embed_layer):\n",
    "    with tf.name_scope(\"user_fc\"):\n",
    "        #第一层全连接\n",
    "        uid_fc_layer = tf.layers.dense(uid_embed_layer, embed_dim, name = \"uid_fc_layer\", activation=tf.nn.relu)\n",
    "        gender_fc_layer = tf.layers.dense(gender_embed_layer, embed_dim, name = \"gender_fc_layer\", activation=tf.nn.relu)\n",
    "        age_fc_layer = tf.layers.dense(age_embed_layer, embed_dim, name =\"age_fc_layer\", activation=tf.nn.relu)\n",
    "        job_fc_layer = tf.layers.dense(job_embed_layer, embed_dim, name = \"job_fc_layer\", activation=tf.nn.relu)\n",
    "        \n",
    "        #第二层全连接\n",
    "        user_combine_layer = tf.concat([uid_fc_layer, gender_fc_layer, age_fc_layer, job_fc_layer], 2)  #(?, 1, 128)\n",
    "        user_combine_layer = tf.contrib.layers.fully_connected(user_combine_layer, 200, tf.tanh)  #(?, 1, 200)\n",
    "    \n",
    "        user_combine_layer_flat = tf.reshape(user_combine_layer, [-1, 200])\n",
    "    return user_combine_layer, user_combine_layer_flat"
   ]
  },
  {
   "cell_type": "markdown",
   "metadata": {},
   "source": [
    "定义Movie ID的嵌入矩阵"
   ]
  },
  {
   "cell_type": "code",
   "execution_count": 20,
   "metadata": {
    "collapsed": true
   },
   "outputs": [],
   "source": [
    "def get_movie_id_embed_layer(movie_id):\n",
    "    with tf.name_scope(\"movie_embedding\"):\n",
    "        movie_id_embed_matrix = tf.Variable(tf.random_uniform([movie_id_max, embed_dim], -1, 1), name = \"movie_id_embed_matrix\")\n",
    "        movie_id_embed_layer = tf.nn.embedding_lookup(movie_id_embed_matrix, movie_id, name = \"movie_id_embed_layer\")\n",
    "    return movie_id_embed_layer"
   ]
  },
  {
   "cell_type": "markdown",
   "metadata": {},
   "source": [
    "对电影类型的多个嵌入向量做加和"
   ]
  },
  {
   "cell_type": "code",
   "execution_count": 21,
   "metadata": {
    "collapsed": true
   },
   "outputs": [],
   "source": [
    "def get_movie_categories_layers(movie_categories):\n",
    "    with tf.name_scope(\"movie_categories_layers\"):\n",
    "        movie_categories_embed_matrix = tf.Variable(tf.random_uniform([movie_categories_max, embed_dim], -1, 1), name = \"movie_categories_embed_matrix\")\n",
    "        movie_categories_embed_layer = tf.nn.embedding_lookup(movie_categories_embed_matrix, movie_categories, name = \"movie_categories_embed_layer\")\n",
    "        if combiner == \"sum\":\n",
    "            movie_categories_embed_layer = tf.reduce_sum(movie_categories_embed_layer, axis=1, keep_dims=True)\n",
    "    #     elif combiner == \"mean\":\n",
    "\n",
    "    return movie_categories_embed_layer"
   ]
  },
  {
   "cell_type": "markdown",
   "metadata": {},
   "source": [
    "Movie Title的文本卷积网络实现"
   ]
  },
  {
   "cell_type": "code",
   "execution_count": 22,
   "metadata": {
    "collapsed": true
   },
   "outputs": [],
   "source": [
    "def get_movie_cnn_layer(movie_titles):\n",
    "    # 从嵌入矩阵中得到电影名对应的各个单词的嵌入向量\n",
    "    with tf.name_scope(\"movie_embedding\"):\n",
    "        movie_title_embed_matrix = tf.Variable(tf.random_uniform([movie_title_max, embed_dim], -1, 1), name = \"movie_title_embed_matrix\")\n",
    "        movie_title_embed_layer = tf.nn.embedding_lookup(movie_title_embed_matrix, movie_titles, name = \"movie_title_embed_layer\")\n",
    "        movie_title_embed_layer_expand = tf.expand_dims(movie_title_embed_layer, -1)\n",
    "    \n",
    "    # 对文本嵌入层使用不同尺寸的卷积核做卷积和最大池化\n",
    "    pool_layer_lst = []\n",
    "    for window_size in window_sizes:\n",
    "        with tf.name_scope(\"movie_txt_conv_maxpool_{}\".format(window_size)):\n",
    "            filter_weights = tf.Variable(tf.truncated_normal([window_size, embed_dim, 1, filter_num],stddev=0.1),name = \"filter_weights\")\n",
    "            filter_bias = tf.Variable(tf.constant(0.1, shape=[filter_num]), name=\"filter_bias\")\n",
    "            \n",
    "            conv_layer = tf.nn.conv2d(movie_title_embed_layer_expand, filter_weights, [1,1,1,1], padding=\"VALID\", name=\"conv_layer\")\n",
    "            relu_layer = tf.nn.relu(tf.nn.bias_add(conv_layer,filter_bias), name =\"relu_layer\")\n",
    "            \n",
    "            maxpool_layer = tf.nn.max_pool(relu_layer, [1,sentences_size - window_size + 1 ,1,1], [1,1,1,1], padding=\"VALID\", name=\"maxpool_layer\")\n",
    "            pool_layer_lst.append(maxpool_layer)\n",
    "\n",
    "    # Dropout层\n",
    "    with tf.name_scope(\"pool_dropout\"):\n",
    "        pool_layer = tf.concat(pool_layer_lst, 3, name =\"pool_layer\")\n",
    "        max_num = len(window_sizes) * filter_num\n",
    "        pool_layer_flat = tf.reshape(pool_layer , [-1, 1, max_num], name = \"pool_layer_flat\")\n",
    "    \n",
    "        dropout_layer = tf.nn.dropout(pool_layer_flat, dropout_keep_prob, name = \"dropout_layer\")\n",
    "    return pool_layer_flat, dropout_layer"
   ]
  },
  {
   "cell_type": "markdown",
   "metadata": {},
   "source": [
    "将Movie的各个层一起做全连接"
   ]
  },
  {
   "cell_type": "code",
   "execution_count": 24,
   "metadata": {
    "collapsed": true
   },
   "outputs": [],
   "source": [
    "def get_movie_feature_layer(movie_id_embed_layer, movie_categories_embed_layer, dropout_layer):\n",
    "    with tf.name_scope(\"movie_fc\"):\n",
    "        # 第一层全连接\n",
    "        movie_id_fc_layer = tf.layers.dense(movie_id_embed_layer, embed_dim, name = \"movie_id_fc_layer\", activation=tf.nn.relu)\n",
    "        movie_categories_fc_layer = tf.layers.dense(movie_categories_embed_layer, embed_dim, name = \"movie_categories_fc_layer\", activation=tf.nn.relu)\n",
    "    \n",
    "        # 第二层全连接\n",
    "        movie_combine_layer = tf.concat([movie_id_fc_layer, movie_categories_fc_layer, dropout_layer], 2)  #(?, 1, 96)\n",
    "        movie_combine_layer = tf.contrib.layers.fully_connected(movie_combine_layer, 200, tf.tanh)  #(?, 1, 200)\n",
    "    \n",
    "        movie_combine_layer_flat = tf.reshape(movie_combine_layer, [-1, 200])\n",
    "    return movie_combine_layer, movie_combine_layer_flat"
   ]
  },
  {
   "cell_type": "markdown",
   "metadata": {},
   "source": [
    "## 构建计算图"
   ]
  },
  {
   "cell_type": "code",
   "execution_count": 25,
   "metadata": {
    "collapsed": true
   },
   "outputs": [],
   "source": [
    "tf.reset_default_graph()\n",
    "train_graph = tf.Graph()\n",
    "with train_graph.as_default():\n",
    "    # 获取输入占位符\n",
    "    uid, user_gender, user_age, user_job, movie_id, movie_categories, movie_titles, targets, lr, dropout_keep_prob = get_inputs()\n",
    "    # 获取User的4个嵌入向量\n",
    "    uid_embed_layer, gender_embed_layer, age_embed_layer, job_embed_layer = get_user_embedding(uid, user_gender, user_age, user_job)\n",
    "    # 得到用户特征\n",
    "    user_combine_layer, user_combine_layer_flat = get_user_feature_layer(uid_embed_layer, gender_embed_layer, age_embed_layer, job_embed_layer)\n",
    "    # 获取电影ID的嵌入向量\n",
    "    movie_id_embed_layer = get_movie_id_embed_layer(movie_id)\n",
    "    # 获取电影类型的嵌入向量\n",
    "    movie_categories_embed_layer = get_movie_categories_layers(movie_categories)\n",
    "    # 获取电影名的特征向量\n",
    "    pool_layer_flat, dropout_layer = get_movie_cnn_layer(movie_titles)\n",
    "    # 得到电影特征\n",
    "    movie_combine_layer, movie_combine_layer_flat = get_movie_feature_layer(movie_id_embed_layer, \n",
    "                                                                                movie_categories_embed_layer, \n",
    "                                                                                dropout_layer)\n",
    "    # 计算出评分，要注意两个不同的方案，inference的名字（name值）是不一样的，后面做推荐时要根据name取得tensor\n",
    "    with tf.name_scope(\"inference\"):\n",
    "        # 将用户特征和电影特征作为输入，经过全连接，输出一个值的方案\n",
    "#         inference_layer = tf.concat([user_combine_layer_flat, movie_combine_layer_flat], 1)  #(?, 200)\n",
    "#         inference = tf.layers.dense(inference_layer, 1,\n",
    "#                                     kernel_initializer=tf.truncated_normal_initializer(stddev=0.01), \n",
    "#                                     kernel_regularizer=tf.nn.l2_loss, name=\"inference\")\n",
    "        # 简单的将用户特征和电影特征做矩阵乘法得到一个预测评分\n",
    "#        inference = tf.matmul(user_combine_layer_flat, tf.transpose(movie_combine_layer_flat))\n",
    "        inference = tf.reduce_sum(user_combine_layer_flat * movie_combine_layer_flat, axis=1)\n",
    "        inference = tf.expand_dims(inference, axis=1)\n",
    "\n",
    "    with tf.name_scope(\"loss\"):\n",
    "        # MSE损失，将计算值回归到评分\n",
    "        cost = tf.losses.mean_squared_error(targets, inference )\n",
    "        loss = tf.reduce_mean(cost)\n",
    "    # 优化损失 \n",
    "#     train_op = tf.train.AdamOptimizer(lr).minimize(loss)  #cost\n",
    "    global_step = tf.Variable(0, name=\"global_step\", trainable=False)\n",
    "    optimizer = tf.train.AdamOptimizer(lr)\n",
    "    gradients = optimizer.compute_gradients(loss)  #cost\n",
    "    train_op = optimizer.apply_gradients(gradients, global_step=global_step)"
   ]
  },
  {
   "cell_type": "code",
   "execution_count": 26,
   "metadata": {
    "collapsed": false
   },
   "outputs": [
    {
     "data": {
      "text/plain": [
       "<tf.Tensor 'inference/ExpandDims:0' shape=(?, 1) dtype=float32>"
      ]
     },
     "execution_count": 26,
     "metadata": {},
     "output_type": "execute_result"
    }
   ],
   "source": [
    "inference"
   ]
  },
  {
   "cell_type": "markdown",
   "metadata": {},
   "source": [
    "## 取得batch"
   ]
  },
  {
   "cell_type": "code",
   "execution_count": 27,
   "metadata": {
    "collapsed": true
   },
   "outputs": [],
   "source": [
    "def get_batches(Xs, ys, batch_size):\n",
    "    for start in range(0, len(Xs), batch_size):\n",
    "        end = min(start + batch_size, len(Xs))\n",
    "        yield Xs[start:end], ys[start:end]"
   ]
  },
  {
   "cell_type": "markdown",
   "metadata": {},
   "source": [
    "## 训练网络"
   ]
  },
  {
   "cell_type": "code",
   "execution_count": 28,
   "metadata": {
    "collapsed": false,
    "scrolled": true
   },
   "outputs": [
    {
     "name": "stdout",
     "output_type": "stream",
     "text": [
      "Writing to /home/miaopei/workdir/github/MachineLearning/uda_project/P7/RecommendedSystem/runs/1531984493\n",
      "\n",
      "2018-07-19T15:14:54.343549: Epoch   0 Batch    0/3125   train_loss = 8.106\n",
      "2018-07-19T15:14:54.828290: Epoch   0 Batch   20/3125   train_loss = 3.183\n",
      "2018-07-19T15:14:55.294438: Epoch   0 Batch   40/3125   train_loss = 2.153\n",
      "2018-07-19T15:14:55.764112: Epoch   0 Batch   60/3125   train_loss = 1.568\n",
      "2018-07-19T15:14:56.232196: Epoch   0 Batch   80/3125   train_loss = 1.604\n",
      "2018-07-19T15:14:56.704500: Epoch   0 Batch  100/3125   train_loss = 1.478\n",
      "2018-07-19T15:14:57.175094: Epoch   0 Batch  120/3125   train_loss = 1.640\n",
      "2018-07-19T15:14:57.639329: Epoch   0 Batch  140/3125   train_loss = 1.402\n",
      "2018-07-19T15:14:58.103725: Epoch   0 Batch  160/3125   train_loss = 1.244\n",
      "2018-07-19T15:14:58.570185: Epoch   0 Batch  180/3125   train_loss = 1.380\n",
      "2018-07-19T15:14:59.036318: Epoch   0 Batch  200/3125   train_loss = 1.675\n",
      "2018-07-19T15:14:59.499963: Epoch   0 Batch  220/3125   train_loss = 1.395\n",
      "2018-07-19T15:14:59.961673: Epoch   0 Batch  240/3125   train_loss = 1.423\n",
      "2018-07-19T15:15:00.427778: Epoch   0 Batch  260/3125   train_loss = 1.382\n",
      "2018-07-19T15:15:00.894333: Epoch   0 Batch  280/3125   train_loss = 1.694\n",
      "2018-07-19T15:15:01.358580: Epoch   0 Batch  300/3125   train_loss = 1.441\n",
      "2018-07-19T15:15:01.828946: Epoch   0 Batch  320/3125   train_loss = 1.462\n",
      "2018-07-19T15:15:02.295821: Epoch   0 Batch  340/3125   train_loss = 1.247\n",
      "2018-07-19T15:15:02.768255: Epoch   0 Batch  360/3125   train_loss = 1.405\n",
      "2018-07-19T15:15:03.241042: Epoch   0 Batch  380/3125   train_loss = 1.306\n",
      "2018-07-19T15:15:03.711910: Epoch   0 Batch  400/3125   train_loss = 1.131\n",
      "2018-07-19T15:15:04.178333: Epoch   0 Batch  420/3125   train_loss = 1.202\n",
      "2018-07-19T15:15:04.643643: Epoch   0 Batch  440/3125   train_loss = 1.435\n",
      "2018-07-19T15:15:05.111722: Epoch   0 Batch  460/3125   train_loss = 1.284\n",
      "2018-07-19T15:15:05.582959: Epoch   0 Batch  480/3125   train_loss = 1.356\n",
      "2018-07-19T15:15:06.050672: Epoch   0 Batch  500/3125   train_loss = 1.049\n",
      "2018-07-19T15:15:06.519077: Epoch   0 Batch  520/3125   train_loss = 1.298\n",
      "2018-07-19T15:15:06.983291: Epoch   0 Batch  540/3125   train_loss = 1.167\n",
      "2018-07-19T15:15:07.456839: Epoch   0 Batch  560/3125   train_loss = 1.431\n",
      "2018-07-19T15:15:07.928322: Epoch   0 Batch  580/3125   train_loss = 1.425\n",
      "2018-07-19T15:15:08.394451: Epoch   0 Batch  600/3125   train_loss = 1.434\n",
      "2018-07-19T15:15:08.866401: Epoch   0 Batch  620/3125   train_loss = 1.377\n",
      "2018-07-19T15:15:09.334155: Epoch   0 Batch  640/3125   train_loss = 1.408\n",
      "2018-07-19T15:15:09.804382: Epoch   0 Batch  660/3125   train_loss = 1.343\n",
      "2018-07-19T15:15:10.271006: Epoch   0 Batch  680/3125   train_loss = 1.235\n",
      "2018-07-19T15:15:10.743398: Epoch   0 Batch  700/3125   train_loss = 1.274\n",
      "2018-07-19T15:15:11.218784: Epoch   0 Batch  720/3125   train_loss = 1.143\n",
      "2018-07-19T15:15:11.682790: Epoch   0 Batch  740/3125   train_loss = 1.377\n",
      "2018-07-19T15:15:12.148747: Epoch   0 Batch  760/3125   train_loss = 1.347\n",
      "2018-07-19T15:15:12.619699: Epoch   0 Batch  780/3125   train_loss = 1.329\n",
      "2018-07-19T15:15:13.088350: Epoch   0 Batch  800/3125   train_loss = 1.260\n",
      "2018-07-19T15:15:13.558311: Epoch   0 Batch  820/3125   train_loss = 1.181\n",
      "2018-07-19T15:15:14.029237: Epoch   0 Batch  840/3125   train_loss = 1.262\n",
      "2018-07-19T15:15:14.490312: Epoch   0 Batch  860/3125   train_loss = 1.183\n",
      "2018-07-19T15:15:14.966133: Epoch   0 Batch  880/3125   train_loss = 1.175\n",
      "2018-07-19T15:15:15.435930: Epoch   0 Batch  900/3125   train_loss = 1.186\n",
      "2018-07-19T15:15:15.903307: Epoch   0 Batch  920/3125   train_loss = 1.284\n",
      "2018-07-19T15:15:16.371546: Epoch   0 Batch  940/3125   train_loss = 1.424\n",
      "2018-07-19T15:15:16.838029: Epoch   0 Batch  960/3125   train_loss = 1.286\n",
      "2018-07-19T15:15:17.301882: Epoch   0 Batch  980/3125   train_loss = 1.339\n",
      "2018-07-19T15:15:17.764862: Epoch   0 Batch 1000/3125   train_loss = 1.192\n",
      "2018-07-19T15:15:18.242854: Epoch   0 Batch 1020/3125   train_loss = 1.379\n",
      "2018-07-19T15:15:18.701343: Epoch   0 Batch 1040/3125   train_loss = 1.253\n",
      "2018-07-19T15:15:19.175405: Epoch   0 Batch 1060/3125   train_loss = 1.436\n",
      "2018-07-19T15:15:19.642882: Epoch   0 Batch 1080/3125   train_loss = 1.261\n",
      "2018-07-19T15:15:20.116961: Epoch   0 Batch 1100/3125   train_loss = 1.246\n",
      "2018-07-19T15:15:20.582231: Epoch   0 Batch 1120/3125   train_loss = 1.305\n",
      "2018-07-19T15:15:21.053154: Epoch   0 Batch 1140/3125   train_loss = 1.317\n",
      "2018-07-19T15:15:21.522879: Epoch   0 Batch 1160/3125   train_loss = 1.293\n",
      "2018-07-19T15:15:21.991053: Epoch   0 Batch 1180/3125   train_loss = 1.224\n",
      "2018-07-19T15:15:22.465871: Epoch   0 Batch 1200/3125   train_loss = 1.217\n",
      "2018-07-19T15:15:22.933877: Epoch   0 Batch 1220/3125   train_loss = 1.105\n",
      "2018-07-19T15:15:23.399828: Epoch   0 Batch 1240/3125   train_loss = 1.123\n",
      "2018-07-19T15:15:23.872142: Epoch   0 Batch 1260/3125   train_loss = 1.222\n",
      "2018-07-19T15:15:24.339826: Epoch   0 Batch 1280/3125   train_loss = 1.218\n",
      "2018-07-19T15:15:24.812366: Epoch   0 Batch 1300/3125   train_loss = 1.231\n",
      "2018-07-19T15:15:25.277627: Epoch   0 Batch 1320/3125   train_loss = 1.190\n",
      "2018-07-19T15:15:25.745181: Epoch   0 Batch 1340/3125   train_loss = 1.085\n",
      "2018-07-19T15:15:26.202807: Epoch   0 Batch 1360/3125   train_loss = 1.192\n",
      "2018-07-19T15:15:26.679050: Epoch   0 Batch 1380/3125   train_loss = 1.072\n",
      "2018-07-19T15:15:27.157201: Epoch   0 Batch 1400/3125   train_loss = 1.201\n",
      "2018-07-19T15:15:27.621381: Epoch   0 Batch 1420/3125   train_loss = 1.269\n",
      "2018-07-19T15:15:28.375149: Epoch   0 Batch 1440/3125   train_loss = 1.237\n",
      "2018-07-19T15:15:29.986898: Epoch   0 Batch 1460/3125   train_loss = 1.295\n",
      "2018-07-19T15:15:31.458585: Epoch   0 Batch 1480/3125   train_loss = 1.202\n",
      "2018-07-19T15:15:32.912074: Epoch   0 Batch 1500/3125   train_loss = 1.277\n",
      "2018-07-19T15:15:34.361726: Epoch   0 Batch 1520/3125   train_loss = 1.284\n",
      "2018-07-19T15:15:35.811283: Epoch   0 Batch 1540/3125   train_loss = 1.288\n",
      "2018-07-19T15:15:37.257603: Epoch   0 Batch 1560/3125   train_loss = 1.197\n",
      "2018-07-19T15:15:38.725361: Epoch   0 Batch 1580/3125   train_loss = 1.234\n",
      "2018-07-19T15:15:40.189796: Epoch   0 Batch 1600/3125   train_loss = 1.247\n",
      "2018-07-19T15:15:41.631559: Epoch   0 Batch 1620/3125   train_loss = 1.218\n",
      "2018-07-19T15:15:43.100554: Epoch   0 Batch 1640/3125   train_loss = 1.269\n",
      "2018-07-19T15:15:44.563376: Epoch   0 Batch 1660/3125   train_loss = 1.283\n",
      "2018-07-19T15:15:46.036009: Epoch   0 Batch 1680/3125   train_loss = 1.205\n",
      "2018-07-19T15:15:47.501174: Epoch   0 Batch 1700/3125   train_loss = 1.016\n",
      "2018-07-19T15:15:48.972686: Epoch   0 Batch 1720/3125   train_loss = 1.119\n",
      "2018-07-19T15:15:50.439023: Epoch   0 Batch 1740/3125   train_loss = 1.136\n",
      "2018-07-19T15:15:51.902899: Epoch   0 Batch 1760/3125   train_loss = 1.306\n",
      "2018-07-19T15:15:53.398320: Epoch   0 Batch 1780/3125   train_loss = 1.105\n",
      "2018-07-19T15:15:54.857652: Epoch   0 Batch 1800/3125   train_loss = 1.228\n",
      "2018-07-19T15:15:56.304857: Epoch   0 Batch 1820/3125   train_loss = 1.211\n",
      "2018-07-19T15:15:57.769303: Epoch   0 Batch 1840/3125   train_loss = 1.270\n",
      "2018-07-19T15:15:59.220204: Epoch   0 Batch 1860/3125   train_loss = 1.325\n",
      "2018-07-19T15:16:00.701488: Epoch   0 Batch 1880/3125   train_loss = 1.293\n",
      "2018-07-19T15:16:02.161334: Epoch   0 Batch 1900/3125   train_loss = 1.035\n",
      "2018-07-19T15:16:03.620622: Epoch   0 Batch 1920/3125   train_loss = 1.099\n",
      "2018-07-19T15:16:05.067373: Epoch   0 Batch 1940/3125   train_loss = 1.057\n",
      "2018-07-19T15:16:06.542593: Epoch   0 Batch 1960/3125   train_loss = 1.138\n",
      "2018-07-19T15:16:07.999116: Epoch   0 Batch 1980/3125   train_loss = 1.139\n",
      "2018-07-19T15:16:09.450265: Epoch   0 Batch 2000/3125   train_loss = 1.325\n",
      "2018-07-19T15:16:10.902956: Epoch   0 Batch 2020/3125   train_loss = 1.301\n",
      "2018-07-19T15:16:12.352685: Epoch   0 Batch 2040/3125   train_loss = 1.113\n",
      "2018-07-19T15:16:13.808683: Epoch   0 Batch 2060/3125   train_loss = 1.003\n",
      "2018-07-19T15:16:15.275652: Epoch   0 Batch 2080/3125   train_loss = 1.287\n",
      "2018-07-19T15:16:16.710773: Epoch   0 Batch 2100/3125   train_loss = 1.104\n",
      "2018-07-19T15:16:18.174716: Epoch   0 Batch 2120/3125   train_loss = 1.032\n",
      "2018-07-19T15:16:19.618676: Epoch   0 Batch 2140/3125   train_loss = 1.139\n",
      "2018-07-19T15:16:21.058435: Epoch   0 Batch 2160/3125   train_loss = 1.109\n",
      "2018-07-19T15:16:22.521841: Epoch   0 Batch 2180/3125   train_loss = 1.148\n",
      "2018-07-19T15:16:23.962820: Epoch   0 Batch 2200/3125   train_loss = 1.096\n",
      "2018-07-19T15:16:25.410157: Epoch   0 Batch 2220/3125   train_loss = 1.121\n",
      "2018-07-19T15:16:26.872927: Epoch   0 Batch 2240/3125   train_loss = 1.039\n",
      "2018-07-19T15:16:28.327890: Epoch   0 Batch 2260/3125   train_loss = 1.159\n",
      "2018-07-19T15:16:29.774598: Epoch   0 Batch 2280/3125   train_loss = 1.184\n",
      "2018-07-19T15:16:31.223532: Epoch   0 Batch 2300/3125   train_loss = 1.179\n",
      "2018-07-19T15:16:32.670354: Epoch   0 Batch 2320/3125   train_loss = 1.326\n",
      "2018-07-19T15:16:34.114272: Epoch   0 Batch 2340/3125   train_loss = 1.230\n",
      "2018-07-19T15:16:35.561908: Epoch   0 Batch 2360/3125   train_loss = 1.127\n",
      "2018-07-19T15:16:37.020523: Epoch   0 Batch 2380/3125   train_loss = 1.144\n",
      "2018-07-19T15:16:38.464064: Epoch   0 Batch 2400/3125   train_loss = 1.253\n",
      "2018-07-19T15:16:39.915805: Epoch   0 Batch 2420/3125   train_loss = 1.111\n",
      "2018-07-19T15:16:41.367716: Epoch   0 Batch 2440/3125   train_loss = 1.211\n",
      "2018-07-19T15:16:42.825020: Epoch   0 Batch 2460/3125   train_loss = 1.131\n",
      "2018-07-19T15:16:44.286813: Epoch   0 Batch 2480/3125   train_loss = 1.244\n",
      "2018-07-19T15:16:45.739617: Epoch   0 Batch 2500/3125   train_loss = 1.195\n",
      "2018-07-19T15:16:47.204182: Epoch   0 Batch 2520/3125   train_loss = 1.090\n",
      "2018-07-19T15:16:48.674145: Epoch   0 Batch 2540/3125   train_loss = 1.049\n",
      "2018-07-19T15:16:50.127877: Epoch   0 Batch 2560/3125   train_loss = 0.924\n",
      "2018-07-19T15:16:51.600441: Epoch   0 Batch 2580/3125   train_loss = 1.099\n",
      "2018-07-19T15:16:53.079972: Epoch   0 Batch 2600/3125   train_loss = 1.134\n",
      "2018-07-19T15:16:54.539108: Epoch   0 Batch 2620/3125   train_loss = 1.061\n",
      "2018-07-19T15:16:56.003456: Epoch   0 Batch 2640/3125   train_loss = 1.124\n",
      "2018-07-19T15:16:57.479554: Epoch   0 Batch 2660/3125   train_loss = 1.230\n",
      "2018-07-19T15:16:58.950719: Epoch   0 Batch 2680/3125   train_loss = 0.984\n",
      "2018-07-19T15:17:00.415795: Epoch   0 Batch 2700/3125   train_loss = 1.154\n",
      "2018-07-19T15:17:01.897786: Epoch   0 Batch 2720/3125   train_loss = 1.127\n",
      "2018-07-19T15:17:03.362345: Epoch   0 Batch 2740/3125   train_loss = 1.199\n",
      "2018-07-19T15:17:04.821441: Epoch   0 Batch 2760/3125   train_loss = 1.183\n",
      "2018-07-19T15:17:06.274078: Epoch   0 Batch 2780/3125   train_loss = 1.067\n",
      "2018-07-19T15:17:07.726455: Epoch   0 Batch 2800/3125   train_loss = 1.337\n",
      "2018-07-19T15:17:09.181334: Epoch   0 Batch 2820/3125   train_loss = 1.392\n",
      "2018-07-19T15:17:10.637005: Epoch   0 Batch 2840/3125   train_loss = 1.191\n",
      "2018-07-19T15:17:12.105528: Epoch   0 Batch 2860/3125   train_loss = 1.101\n",
      "2018-07-19T15:17:13.493435: Epoch   0 Batch 2880/3125   train_loss = 1.181\n",
      "2018-07-19T15:17:14.536013: Epoch   0 Batch 2900/3125   train_loss = 1.278\n",
      "2018-07-19T15:17:15.575416: Epoch   0 Batch 2920/3125   train_loss = 1.179\n",
      "2018-07-19T15:17:16.634857: Epoch   0 Batch 2940/3125   train_loss = 1.166\n",
      "2018-07-19T15:17:17.702373: Epoch   0 Batch 2960/3125   train_loss = 1.146\n",
      "2018-07-19T15:17:18.770971: Epoch   0 Batch 2980/3125   train_loss = 1.188\n",
      "2018-07-19T15:17:19.817774: Epoch   0 Batch 3000/3125   train_loss = 1.135\n",
      "2018-07-19T15:17:20.870229: Epoch   0 Batch 3020/3125   train_loss = 1.252\n",
      "2018-07-19T15:17:21.921891: Epoch   0 Batch 3040/3125   train_loss = 1.139\n",
      "2018-07-19T15:17:22.969926: Epoch   0 Batch 3060/3125   train_loss = 1.189\n",
      "2018-07-19T15:17:24.032002: Epoch   0 Batch 3080/3125   train_loss = 1.176\n",
      "2018-07-19T15:17:25.101389: Epoch   0 Batch 3100/3125   train_loss = 1.155\n",
      "2018-07-19T15:17:26.167459: Epoch   0 Batch 3120/3125   train_loss = 1.035\n",
      "2018-07-19T15:17:26.423290: Epoch   0 Batch    0/781   test_loss = 1.000\n",
      "2018-07-19T15:17:26.565241: Epoch   0 Batch   20/781   test_loss = 1.032\n",
      "2018-07-19T15:17:26.701242: Epoch   0 Batch   40/781   test_loss = 1.078\n",
      "2018-07-19T15:17:26.837753: Epoch   0 Batch   60/781   test_loss = 1.245\n",
      "2018-07-19T15:17:26.973066: Epoch   0 Batch   80/781   test_loss = 1.246\n",
      "2018-07-19T15:17:27.111977: Epoch   0 Batch  100/781   test_loss = 1.274\n",
      "2018-07-19T15:17:27.246879: Epoch   0 Batch  120/781   test_loss = 1.166\n",
      "2018-07-19T15:17:27.382401: Epoch   0 Batch  140/781   test_loss = 1.143\n",
      "2018-07-19T15:17:27.517348: Epoch   0 Batch  160/781   test_loss = 1.307\n",
      "2018-07-19T15:17:27.652569: Epoch   0 Batch  180/781   test_loss = 1.171\n",
      "2018-07-19T15:17:27.789268: Epoch   0 Batch  200/781   test_loss = 1.115\n",
      "2018-07-19T15:17:27.924761: Epoch   0 Batch  220/781   test_loss = 0.884\n",
      "2018-07-19T15:17:28.063585: Epoch   0 Batch  240/781   test_loss = 1.137\n",
      "2018-07-19T15:17:28.199652: Epoch   0 Batch  260/781   test_loss = 1.154\n",
      "2018-07-19T15:17:28.336701: Epoch   0 Batch  280/781   test_loss = 1.413\n",
      "2018-07-19T15:17:28.472581: Epoch   0 Batch  300/781   test_loss = 1.154\n",
      "2018-07-19T15:17:28.608863: Epoch   0 Batch  320/781   test_loss = 1.260\n",
      "2018-07-19T15:17:28.742183: Epoch   0 Batch  340/781   test_loss = 0.886\n",
      "2018-07-19T15:17:28.877184: Epoch   0 Batch  360/781   test_loss = 1.243\n",
      "2018-07-19T15:17:29.014230: Epoch   0 Batch  380/781   test_loss = 1.052\n",
      "2018-07-19T15:17:29.151702: Epoch   0 Batch  400/781   test_loss = 1.111\n",
      "2018-07-19T15:17:29.288367: Epoch   0 Batch  420/781   test_loss = 1.056\n",
      "2018-07-19T15:17:29.424650: Epoch   0 Batch  440/781   test_loss = 1.166\n",
      "2018-07-19T15:17:29.561071: Epoch   0 Batch  460/781   test_loss = 1.093\n",
      "2018-07-19T15:17:29.700068: Epoch   0 Batch  480/781   test_loss = 1.022\n",
      "2018-07-19T15:17:29.836716: Epoch   0 Batch  500/781   test_loss = 0.946\n",
      "2018-07-19T15:17:29.972425: Epoch   0 Batch  520/781   test_loss = 1.161\n",
      "2018-07-19T15:17:30.107450: Epoch   0 Batch  540/781   test_loss = 0.970\n",
      "2018-07-19T15:17:30.243693: Epoch   0 Batch  560/781   test_loss = 1.260\n",
      "2018-07-19T15:17:30.382607: Epoch   0 Batch  580/781   test_loss = 1.040\n",
      "2018-07-19T15:17:30.518023: Epoch   0 Batch  600/781   test_loss = 1.172\n",
      "2018-07-19T15:17:30.654754: Epoch   0 Batch  620/781   test_loss = 1.132\n",
      "2018-07-19T15:17:30.791206: Epoch   0 Batch  640/781   test_loss = 1.192\n",
      "2018-07-19T15:17:30.926949: Epoch   0 Batch  660/781   test_loss = 1.144\n",
      "2018-07-19T15:17:31.063160: Epoch   0 Batch  680/781   test_loss = 1.337\n",
      "2018-07-19T15:17:31.198342: Epoch   0 Batch  700/781   test_loss = 1.056\n",
      "2018-07-19T15:17:31.334547: Epoch   0 Batch  720/781   test_loss = 1.257\n",
      "2018-07-19T15:17:31.470558: Epoch   0 Batch  740/781   test_loss = 1.237\n",
      "2018-07-19T15:17:31.607271: Epoch   0 Batch  760/781   test_loss = 1.177\n",
      "2018-07-19T15:17:31.742675: Epoch   0 Batch  780/781   test_loss = 1.242\n",
      "2018-07-19T15:17:32.566405: Epoch   1 Batch   15/3125   train_loss = 1.244\n",
      "2018-07-19T15:17:33.036409: Epoch   1 Batch   35/3125   train_loss = 1.169\n",
      "2018-07-19T15:17:33.509615: Epoch   1 Batch   55/3125   train_loss = 1.256\n",
      "2018-07-19T15:17:33.975290: Epoch   1 Batch   75/3125   train_loss = 1.077\n",
      "2018-07-19T15:17:34.454426: Epoch   1 Batch   95/3125   train_loss = 0.979\n",
      "2018-07-19T15:17:34.927158: Epoch   1 Batch  115/3125   train_loss = 1.167\n",
      "2018-07-19T15:17:35.399779: Epoch   1 Batch  135/3125   train_loss = 1.010\n",
      "2018-07-19T15:17:35.869243: Epoch   1 Batch  155/3125   train_loss = 1.114\n",
      "2018-07-19T15:17:36.335988: Epoch   1 Batch  175/3125   train_loss = 1.063\n",
      "2018-07-19T15:17:36.800264: Epoch   1 Batch  195/3125   train_loss = 1.178\n",
      "2018-07-19T15:17:37.271995: Epoch   1 Batch  215/3125   train_loss = 1.134\n",
      "2018-07-19T15:17:37.747510: Epoch   1 Batch  235/3125   train_loss = 1.035\n",
      "2018-07-19T15:17:38.216412: Epoch   1 Batch  255/3125   train_loss = 1.187\n",
      "2018-07-19T15:17:38.685097: Epoch   1 Batch  275/3125   train_loss = 0.998\n",
      "2018-07-19T15:17:39.156802: Epoch   1 Batch  295/3125   train_loss = 0.951\n",
      "2018-07-19T15:17:39.633574: Epoch   1 Batch  315/3125   train_loss = 1.027\n",
      "2018-07-19T15:17:40.096991: Epoch   1 Batch  335/3125   train_loss = 0.973\n",
      "2018-07-19T15:17:40.563596: Epoch   1 Batch  355/3125   train_loss = 1.078\n",
      "2018-07-19T15:17:41.027897: Epoch   1 Batch  375/3125   train_loss = 1.163\n",
      "2018-07-19T15:17:41.497135: Epoch   1 Batch  395/3125   train_loss = 1.027\n",
      "2018-07-19T15:17:41.978160: Epoch   1 Batch  415/3125   train_loss = 1.218\n",
      "2018-07-19T15:17:42.453441: Epoch   1 Batch  435/3125   train_loss = 1.131\n",
      "2018-07-19T15:17:42.921215: Epoch   1 Batch  455/3125   train_loss = 1.091\n",
      "2018-07-19T15:17:43.384499: Epoch   1 Batch  475/3125   train_loss = 1.224\n",
      "2018-07-19T15:17:43.859109: Epoch   1 Batch  495/3125   train_loss = 0.989\n",
      "2018-07-19T15:17:44.325447: Epoch   1 Batch  515/3125   train_loss = 1.181\n",
      "2018-07-19T15:17:44.798051: Epoch   1 Batch  535/3125   train_loss = 1.162\n",
      "2018-07-19T15:17:45.268147: Epoch   1 Batch  555/3125   train_loss = 1.234\n",
      "2018-07-19T15:17:45.740924: Epoch   1 Batch  575/3125   train_loss = 1.158\n",
      "2018-07-19T15:17:46.209344: Epoch   1 Batch  595/3125   train_loss = 1.224\n",
      "2018-07-19T15:17:46.677639: Epoch   1 Batch  615/3125   train_loss = 1.088\n",
      "2018-07-19T15:17:47.144010: Epoch   1 Batch  635/3125   train_loss = 1.076\n",
      "2018-07-19T15:17:47.619874: Epoch   1 Batch  655/3125   train_loss = 1.003\n",
      "2018-07-19T15:17:48.089910: Epoch   1 Batch  675/3125   train_loss = 0.895\n",
      "2018-07-19T15:17:48.556036: Epoch   1 Batch  695/3125   train_loss = 1.031\n",
      "2018-07-19T15:17:49.032797: Epoch   1 Batch  715/3125   train_loss = 1.063\n",
      "2018-07-19T15:17:49.503017: Epoch   1 Batch  735/3125   train_loss = 0.960\n",
      "2018-07-19T15:17:49.972804: Epoch   1 Batch  755/3125   train_loss = 1.225\n",
      "2018-07-19T15:17:50.445140: Epoch   1 Batch  775/3125   train_loss = 0.951\n",
      "2018-07-19T15:17:50.913244: Epoch   1 Batch  795/3125   train_loss = 1.243\n",
      "2018-07-19T15:17:51.380829: Epoch   1 Batch  815/3125   train_loss = 1.097\n",
      "2018-07-19T15:17:51.845445: Epoch   1 Batch  835/3125   train_loss = 1.024\n",
      "2018-07-19T15:17:52.316006: Epoch   1 Batch  855/3125   train_loss = 1.244\n",
      "2018-07-19T15:17:52.788503: Epoch   1 Batch  875/3125   train_loss = 1.201\n",
      "2018-07-19T15:17:53.251564: Epoch   1 Batch  895/3125   train_loss = 0.997\n",
      "2018-07-19T15:17:53.717326: Epoch   1 Batch  915/3125   train_loss = 1.128\n",
      "2018-07-19T15:17:54.183134: Epoch   1 Batch  935/3125   train_loss = 1.222\n",
      "2018-07-19T15:17:54.649185: Epoch   1 Batch  955/3125   train_loss = 1.175\n",
      "2018-07-19T15:17:55.119670: Epoch   1 Batch  975/3125   train_loss = 1.104\n",
      "2018-07-19T15:17:55.589030: Epoch   1 Batch  995/3125   train_loss = 0.893\n",
      "2018-07-19T15:17:56.062660: Epoch   1 Batch 1015/3125   train_loss = 1.118\n",
      "2018-07-19T15:17:56.537061: Epoch   1 Batch 1035/3125   train_loss = 1.066\n",
      "2018-07-19T15:17:57.006287: Epoch   1 Batch 1055/3125   train_loss = 1.069\n",
      "2018-07-19T15:17:57.468185: Epoch   1 Batch 1075/3125   train_loss = 1.104\n",
      "2018-07-19T15:17:57.929742: Epoch   1 Batch 1095/3125   train_loss = 1.017\n",
      "2018-07-19T15:17:58.399392: Epoch   1 Batch 1115/3125   train_loss = 1.162\n",
      "2018-07-19T15:17:58.856095: Epoch   1 Batch 1135/3125   train_loss = 0.999\n",
      "2018-07-19T15:17:59.321220: Epoch   1 Batch 1155/3125   train_loss = 1.072\n",
      "2018-07-19T15:17:59.791873: Epoch   1 Batch 1175/3125   train_loss = 1.090\n",
      "2018-07-19T15:18:00.262954: Epoch   1 Batch 1195/3125   train_loss = 1.214\n",
      "2018-07-19T15:18:00.728542: Epoch   1 Batch 1215/3125   train_loss = 0.910\n",
      "2018-07-19T15:18:01.198624: Epoch   1 Batch 1235/3125   train_loss = 1.120\n",
      "2018-07-19T15:18:01.664550: Epoch   1 Batch 1255/3125   train_loss = 1.029\n",
      "2018-07-19T15:18:02.131755: Epoch   1 Batch 1275/3125   train_loss = 1.001\n",
      "2018-07-19T15:18:02.604760: Epoch   1 Batch 1295/3125   train_loss = 1.010\n",
      "2018-07-19T15:18:03.075635: Epoch   1 Batch 1315/3125   train_loss = 1.232\n",
      "2018-07-19T15:18:04.107256: Epoch   1 Batch 1335/3125   train_loss = 0.973\n",
      "2018-07-19T15:18:05.734103: Epoch   1 Batch 1355/3125   train_loss = 1.066\n",
      "2018-07-19T15:18:06.867797: Epoch   1 Batch 1375/3125   train_loss = 1.086\n",
      "2018-07-19T15:18:07.734207: Epoch   1 Batch 1395/3125   train_loss = 1.018\n",
      "2018-07-19T15:18:08.612739: Epoch   1 Batch 1415/3125   train_loss = 1.016\n",
      "2018-07-19T15:18:09.494543: Epoch   1 Batch 1435/3125   train_loss = 1.185\n",
      "2018-07-19T15:18:10.366585: Epoch   1 Batch 1455/3125   train_loss = 1.215\n",
      "2018-07-19T15:18:11.244644: Epoch   1 Batch 1475/3125   train_loss = 1.163\n",
      "2018-07-19T15:18:12.125489: Epoch   1 Batch 1495/3125   train_loss = 1.033\n",
      "2018-07-19T15:18:12.995806: Epoch   1 Batch 1515/3125   train_loss = 0.981\n",
      "2018-07-19T15:18:13.863185: Epoch   1 Batch 1535/3125   train_loss = 0.848\n",
      "2018-07-19T15:18:14.729289: Epoch   1 Batch 1555/3125   train_loss = 1.106\n",
      "2018-07-19T15:18:15.613414: Epoch   1 Batch 1575/3125   train_loss = 0.954\n",
      "2018-07-19T15:18:16.492905: Epoch   1 Batch 1595/3125   train_loss = 1.154\n",
      "2018-07-19T15:18:17.366536: Epoch   1 Batch 1615/3125   train_loss = 1.055\n",
      "2018-07-19T15:18:18.242473: Epoch   1 Batch 1635/3125   train_loss = 1.082\n",
      "2018-07-19T15:18:19.106089: Epoch   1 Batch 1655/3125   train_loss = 1.220\n",
      "2018-07-19T15:18:19.977570: Epoch   1 Batch 1675/3125   train_loss = 0.981\n",
      "2018-07-19T15:18:20.861335: Epoch   1 Batch 1695/3125   train_loss = 1.017\n",
      "2018-07-19T15:18:21.740439: Epoch   1 Batch 1715/3125   train_loss = 1.011\n",
      "2018-07-19T15:18:22.621473: Epoch   1 Batch 1735/3125   train_loss = 1.160\n",
      "2018-07-19T15:18:23.494930: Epoch   1 Batch 1755/3125   train_loss = 0.950\n",
      "2018-07-19T15:18:24.370133: Epoch   1 Batch 1775/3125   train_loss = 1.034\n",
      "2018-07-19T15:18:25.241251: Epoch   1 Batch 1795/3125   train_loss = 1.069\n",
      "2018-07-19T15:18:26.115255: Epoch   1 Batch 1815/3125   train_loss = 0.994\n",
      "2018-07-19T15:18:26.991143: Epoch   1 Batch 1835/3125   train_loss = 1.144\n",
      "2018-07-19T15:18:27.865854: Epoch   1 Batch 1855/3125   train_loss = 0.965\n",
      "2018-07-19T15:18:28.744024: Epoch   1 Batch 1875/3125   train_loss = 1.050\n",
      "2018-07-19T15:18:29.620713: Epoch   1 Batch 1895/3125   train_loss = 0.973\n",
      "2018-07-19T15:18:30.497202: Epoch   1 Batch 1915/3125   train_loss = 0.929\n",
      "2018-07-19T15:18:31.372766: Epoch   1 Batch 1935/3125   train_loss = 1.018\n",
      "2018-07-19T15:18:32.242857: Epoch   1 Batch 1955/3125   train_loss = 1.047\n",
      "2018-07-19T15:18:33.116259: Epoch   1 Batch 1975/3125   train_loss = 1.055\n",
      "2018-07-19T15:18:33.983446: Epoch   1 Batch 1995/3125   train_loss = 1.168\n",
      "2018-07-19T15:18:34.860760: Epoch   1 Batch 2015/3125   train_loss = 1.128\n",
      "2018-07-19T15:18:35.734501: Epoch   1 Batch 2035/3125   train_loss = 1.114\n",
      "2018-07-19T15:18:36.607835: Epoch   1 Batch 2055/3125   train_loss = 0.951\n",
      "2018-07-19T15:18:37.477241: Epoch   1 Batch 2075/3125   train_loss = 1.049\n",
      "2018-07-19T15:18:38.343223: Epoch   1 Batch 2095/3125   train_loss = 0.967\n",
      "2018-07-19T15:18:39.222440: Epoch   1 Batch 2115/3125   train_loss = 1.129\n",
      "2018-07-19T15:18:40.094148: Epoch   1 Batch 2135/3125   train_loss = 1.027\n",
      "2018-07-19T15:18:40.974168: Epoch   1 Batch 2155/3125   train_loss = 1.033\n",
      "2018-07-19T15:18:41.845071: Epoch   1 Batch 2175/3125   train_loss = 1.032\n",
      "2018-07-19T15:18:42.723887: Epoch   1 Batch 2195/3125   train_loss = 1.061\n",
      "2018-07-19T15:18:43.592913: Epoch   1 Batch 2215/3125   train_loss = 1.011\n",
      "2018-07-19T15:18:44.457212: Epoch   1 Batch 2235/3125   train_loss = 1.211\n",
      "2018-07-19T15:18:45.331060: Epoch   1 Batch 2255/3125   train_loss = 1.145\n",
      "2018-07-19T15:18:46.205636: Epoch   1 Batch 2275/3125   train_loss = 0.900\n",
      "2018-07-19T15:18:47.089062: Epoch   1 Batch 2295/3125   train_loss = 1.199\n",
      "2018-07-19T15:18:47.963440: Epoch   1 Batch 2315/3125   train_loss = 1.167\n",
      "2018-07-19T15:18:48.837948: Epoch   1 Batch 2335/3125   train_loss = 1.053\n",
      "2018-07-19T15:18:49.711158: Epoch   1 Batch 2355/3125   train_loss = 1.085\n",
      "2018-07-19T15:18:50.586459: Epoch   1 Batch 2375/3125   train_loss = 1.240\n",
      "2018-07-19T15:18:51.460875: Epoch   1 Batch 2395/3125   train_loss = 1.062\n",
      "2018-07-19T15:18:52.331980: Epoch   1 Batch 2415/3125   train_loss = 1.057\n",
      "2018-07-19T15:18:53.197883: Epoch   1 Batch 2435/3125   train_loss = 0.960\n",
      "2018-07-19T15:18:54.084856: Epoch   1 Batch 2455/3125   train_loss = 1.168\n",
      "2018-07-19T15:18:54.957474: Epoch   1 Batch 2475/3125   train_loss = 0.976\n",
      "2018-07-19T15:18:55.839767: Epoch   1 Batch 2495/3125   train_loss = 0.984\n",
      "2018-07-19T15:18:56.712343: Epoch   1 Batch 2515/3125   train_loss = 1.122\n",
      "2018-07-19T15:18:57.580219: Epoch   1 Batch 2535/3125   train_loss = 1.114\n",
      "2018-07-19T15:18:58.457995: Epoch   1 Batch 2555/3125   train_loss = 0.820\n",
      "2018-07-19T15:18:59.343874: Epoch   1 Batch 2575/3125   train_loss = 0.934\n",
      "2018-07-19T15:19:00.215067: Epoch   1 Batch 2595/3125   train_loss = 1.032\n",
      "2018-07-19T15:19:01.080776: Epoch   1 Batch 2615/3125   train_loss = 1.162\n",
      "2018-07-19T15:19:01.958180: Epoch   1 Batch 2635/3125   train_loss = 0.927\n",
      "2018-07-19T15:19:02.831129: Epoch   1 Batch 2655/3125   train_loss = 1.037\n",
      "2018-07-19T15:19:03.702033: Epoch   1 Batch 2675/3125   train_loss = 0.984\n",
      "2018-07-19T15:19:04.581137: Epoch   1 Batch 2695/3125   train_loss = 0.997\n",
      "2018-07-19T15:19:05.459553: Epoch   1 Batch 2715/3125   train_loss = 1.006\n",
      "2018-07-19T15:19:06.343782: Epoch   1 Batch 2735/3125   train_loss = 0.844\n",
      "2018-07-19T15:19:07.210194: Epoch   1 Batch 2755/3125   train_loss = 1.066\n",
      "2018-07-19T15:19:08.087241: Epoch   1 Batch 2775/3125   train_loss = 1.143\n",
      "2018-07-19T15:19:08.958754: Epoch   1 Batch 2795/3125   train_loss = 1.008\n",
      "2018-07-19T15:19:09.831791: Epoch   1 Batch 2815/3125   train_loss = 0.944\n",
      "2018-07-19T15:19:10.705876: Epoch   1 Batch 2835/3125   train_loss = 1.093\n",
      "2018-07-19T15:19:11.569320: Epoch   1 Batch 2855/3125   train_loss = 1.095\n",
      "2018-07-19T15:19:12.443696: Epoch   1 Batch 2875/3125   train_loss = 1.065\n",
      "2018-07-19T15:19:13.311956: Epoch   1 Batch 2895/3125   train_loss = 1.039\n",
      "2018-07-19T15:19:14.191922: Epoch   1 Batch 2915/3125   train_loss = 0.970\n",
      "2018-07-19T15:19:15.072257: Epoch   1 Batch 2935/3125   train_loss = 1.065\n",
      "2018-07-19T15:19:15.941800: Epoch   1 Batch 2955/3125   train_loss = 1.126\n",
      "2018-07-19T15:19:16.823466: Epoch   1 Batch 2975/3125   train_loss = 1.047\n",
      "2018-07-19T15:19:17.707767: Epoch   1 Batch 2995/3125   train_loss = 1.017\n",
      "2018-07-19T15:19:18.586116: Epoch   1 Batch 3015/3125   train_loss = 1.036\n",
      "2018-07-19T15:19:19.452744: Epoch   1 Batch 3035/3125   train_loss = 1.100\n",
      "2018-07-19T15:19:20.329103: Epoch   1 Batch 3055/3125   train_loss = 1.093\n",
      "2018-07-19T15:19:21.204277: Epoch   1 Batch 3075/3125   train_loss = 0.912\n",
      "2018-07-19T15:19:22.089580: Epoch   1 Batch 3095/3125   train_loss = 0.989\n",
      "2018-07-19T15:19:22.973666: Epoch   1 Batch 3115/3125   train_loss = 0.897\n",
      "2018-07-19T15:19:23.573838: Epoch   1 Batch   19/781   test_loss = 1.032\n",
      "2018-07-19T15:19:23.709238: Epoch   1 Batch   39/781   test_loss = 0.907\n",
      "2018-07-19T15:19:23.847854: Epoch   1 Batch   59/781   test_loss = 0.933\n",
      "2018-07-19T15:19:23.982437: Epoch   1 Batch   79/781   test_loss = 1.017\n",
      "2018-07-19T15:19:24.117575: Epoch   1 Batch   99/781   test_loss = 1.013\n",
      "2018-07-19T15:19:24.252735: Epoch   1 Batch  119/781   test_loss = 0.970\n",
      "2018-07-19T15:19:24.390134: Epoch   1 Batch  139/781   test_loss = 1.059\n",
      "2018-07-19T15:19:24.526227: Epoch   1 Batch  159/781   test_loss = 1.037\n",
      "2018-07-19T15:19:24.662350: Epoch   1 Batch  179/781   test_loss = 0.965\n",
      "2018-07-19T15:19:24.798347: Epoch   1 Batch  199/781   test_loss = 0.951\n",
      "2018-07-19T15:19:24.933615: Epoch   1 Batch  219/781   test_loss = 1.043\n",
      "2018-07-19T15:19:25.068398: Epoch   1 Batch  239/781   test_loss = 1.186\n",
      "2018-07-19T15:19:25.205787: Epoch   1 Batch  259/781   test_loss = 0.982\n",
      "2018-07-19T15:19:25.341809: Epoch   1 Batch  279/781   test_loss = 1.078\n",
      "2018-07-19T15:19:25.478112: Epoch   1 Batch  299/781   test_loss = 1.210\n",
      "2018-07-19T15:19:25.612753: Epoch   1 Batch  319/781   test_loss = 0.993\n",
      "2018-07-19T15:19:25.748088: Epoch   1 Batch  339/781   test_loss = 0.961\n",
      "2018-07-19T15:19:25.881883: Epoch   1 Batch  359/781   test_loss = 0.930\n",
      "2018-07-19T15:19:26.019071: Epoch   1 Batch  379/781   test_loss = 1.086\n",
      "2018-07-19T15:19:26.153617: Epoch   1 Batch  399/781   test_loss = 0.838\n",
      "2018-07-19T15:19:26.289764: Epoch   1 Batch  419/781   test_loss = 0.975\n",
      "2018-07-19T15:19:26.424664: Epoch   1 Batch  439/781   test_loss = 0.954\n",
      "2018-07-19T15:19:26.562455: Epoch   1 Batch  459/781   test_loss = 1.054\n",
      "2018-07-19T15:19:26.697441: Epoch   1 Batch  479/781   test_loss = 1.059\n",
      "2018-07-19T15:19:26.834971: Epoch   1 Batch  499/781   test_loss = 0.989\n",
      "2018-07-19T15:19:26.972714: Epoch   1 Batch  519/781   test_loss = 0.999\n",
      "2018-07-19T15:19:27.110809: Epoch   1 Batch  539/781   test_loss = 0.875\n",
      "2018-07-19T15:19:27.244916: Epoch   1 Batch  559/781   test_loss = 1.135\n",
      "2018-07-19T15:19:27.380781: Epoch   1 Batch  579/781   test_loss = 1.048\n",
      "2018-07-19T15:19:27.513710: Epoch   1 Batch  599/781   test_loss = 1.040\n",
      "2018-07-19T15:19:27.648348: Epoch   1 Batch  619/781   test_loss = 1.079\n",
      "2018-07-19T15:19:27.783122: Epoch   1 Batch  639/781   test_loss = 0.905\n",
      "2018-07-19T15:19:27.919711: Epoch   1 Batch  659/781   test_loss = 1.086\n",
      "2018-07-19T15:19:28.055729: Epoch   1 Batch  679/781   test_loss = 1.143\n",
      "2018-07-19T15:19:28.192513: Epoch   1 Batch  699/781   test_loss = 0.842\n",
      "2018-07-19T15:19:28.328991: Epoch   1 Batch  719/781   test_loss = 0.947\n",
      "2018-07-19T15:19:28.465760: Epoch   1 Batch  739/781   test_loss = 0.990\n",
      "2018-07-19T15:19:28.600604: Epoch   1 Batch  759/781   test_loss = 0.906\n",
      "2018-07-19T15:19:28.737401: Epoch   1 Batch  779/781   test_loss = 0.818\n",
      "2018-07-19T15:19:29.464319: Epoch   2 Batch   10/3125   train_loss = 0.960\n",
      "2018-07-19T15:19:29.927703: Epoch   2 Batch   30/3125   train_loss = 1.058\n",
      "2018-07-19T15:19:30.396004: Epoch   2 Batch   50/3125   train_loss = 1.155\n",
      "2018-07-19T15:19:30.861864: Epoch   2 Batch   70/3125   train_loss = 1.018\n",
      "2018-07-19T15:19:31.331235: Epoch   2 Batch   90/3125   train_loss = 1.017\n",
      "2018-07-19T15:19:31.789077: Epoch   2 Batch  110/3125   train_loss = 0.919\n",
      "2018-07-19T15:19:32.255877: Epoch   2 Batch  130/3125   train_loss = 0.970\n",
      "2018-07-19T15:19:32.717573: Epoch   2 Batch  150/3125   train_loss = 1.164\n",
      "2018-07-19T15:19:33.184891: Epoch   2 Batch  170/3125   train_loss = 1.034\n",
      "2018-07-19T15:19:33.651225: Epoch   2 Batch  190/3125   train_loss = 1.077\n",
      "2018-07-19T15:19:34.115563: Epoch   2 Batch  210/3125   train_loss = 0.898\n",
      "2018-07-19T15:19:34.590995: Epoch   2 Batch  230/3125   train_loss = 1.067\n",
      "2018-07-19T15:19:35.054465: Epoch   2 Batch  250/3125   train_loss = 0.906\n",
      "2018-07-19T15:19:35.524064: Epoch   2 Batch  270/3125   train_loss = 0.815\n",
      "2018-07-19T15:19:35.986664: Epoch   2 Batch  290/3125   train_loss = 1.052\n",
      "2018-07-19T15:19:36.452879: Epoch   2 Batch  310/3125   train_loss = 1.008\n",
      "2018-07-19T15:19:36.911938: Epoch   2 Batch  330/3125   train_loss = 1.080\n",
      "2018-07-19T15:19:37.383854: Epoch   2 Batch  350/3125   train_loss = 0.947\n",
      "2018-07-19T15:19:37.857217: Epoch   2 Batch  370/3125   train_loss = 1.139\n",
      "2018-07-19T15:19:38.329113: Epoch   2 Batch  390/3125   train_loss = 1.149\n",
      "2018-07-19T15:19:38.794527: Epoch   2 Batch  410/3125   train_loss = 0.915\n",
      "2018-07-19T15:19:39.266977: Epoch   2 Batch  430/3125   train_loss = 1.170\n",
      "2018-07-19T15:19:39.740821: Epoch   2 Batch  450/3125   train_loss = 0.919\n",
      "2018-07-19T15:19:40.208426: Epoch   2 Batch  470/3125   train_loss = 0.958\n",
      "2018-07-19T15:19:40.678900: Epoch   2 Batch  490/3125   train_loss = 1.057\n",
      "2018-07-19T15:19:41.153507: Epoch   2 Batch  510/3125   train_loss = 1.053\n",
      "2018-07-19T15:19:41.628272: Epoch   2 Batch  530/3125   train_loss = 1.000\n",
      "2018-07-19T15:19:42.095700: Epoch   2 Batch  550/3125   train_loss = 0.973\n",
      "2018-07-19T15:19:42.563126: Epoch   2 Batch  570/3125   train_loss = 1.097\n",
      "2018-07-19T15:19:43.032526: Epoch   2 Batch  590/3125   train_loss = 1.014\n",
      "2018-07-19T15:19:43.502147: Epoch   2 Batch  610/3125   train_loss = 0.952\n",
      "2018-07-19T15:19:43.971184: Epoch   2 Batch  630/3125   train_loss = 1.072\n",
      "2018-07-19T15:19:44.443101: Epoch   2 Batch  650/3125   train_loss = 1.011\n",
      "2018-07-19T15:19:44.917186: Epoch   2 Batch  670/3125   train_loss = 0.998\n",
      "2018-07-19T15:19:45.384085: Epoch   2 Batch  690/3125   train_loss = 0.985\n",
      "2018-07-19T15:19:45.852738: Epoch   2 Batch  710/3125   train_loss = 0.918\n",
      "2018-07-19T15:19:46.324382: Epoch   2 Batch  730/3125   train_loss = 0.863\n",
      "2018-07-19T15:19:46.792954: Epoch   2 Batch  750/3125   train_loss = 0.954\n",
      "2018-07-19T15:19:47.270052: Epoch   2 Batch  770/3125   train_loss = 0.919\n",
      "2018-07-19T15:19:47.741946: Epoch   2 Batch  790/3125   train_loss = 0.879\n",
      "2018-07-19T15:19:48.221283: Epoch   2 Batch  810/3125   train_loss = 0.839\n",
      "2018-07-19T15:19:48.697691: Epoch   2 Batch  830/3125   train_loss = 0.870\n",
      "2018-07-19T15:19:49.160959: Epoch   2 Batch  850/3125   train_loss = 1.063\n",
      "2018-07-19T15:19:49.631755: Epoch   2 Batch  870/3125   train_loss = 0.916\n",
      "2018-07-19T15:19:50.106117: Epoch   2 Batch  890/3125   train_loss = 0.914\n",
      "2018-07-19T15:19:50.578284: Epoch   2 Batch  910/3125   train_loss = 0.997\n",
      "2018-07-19T15:19:51.046817: Epoch   2 Batch  930/3125   train_loss = 1.078\n",
      "2018-07-19T15:19:51.516874: Epoch   2 Batch  950/3125   train_loss = 0.941\n",
      "2018-07-19T15:19:51.990409: Epoch   2 Batch  970/3125   train_loss = 1.093\n",
      "2018-07-19T15:19:52.465287: Epoch   2 Batch  990/3125   train_loss = 0.833\n",
      "2018-07-19T15:19:52.938031: Epoch   2 Batch 1010/3125   train_loss = 1.142\n",
      "2018-07-19T15:19:53.414181: Epoch   2 Batch 1030/3125   train_loss = 0.884\n",
      "2018-07-19T15:19:53.874870: Epoch   2 Batch 1050/3125   train_loss = 0.930\n",
      "2018-07-19T15:19:54.347342: Epoch   2 Batch 1070/3125   train_loss = 0.982\n",
      "2018-07-19T15:19:54.812127: Epoch   2 Batch 1090/3125   train_loss = 1.081\n",
      "2018-07-19T15:19:55.279267: Epoch   2 Batch 1110/3125   train_loss = 1.046\n",
      "2018-07-19T15:19:55.747401: Epoch   2 Batch 1130/3125   train_loss = 0.935\n",
      "2018-07-19T15:19:56.214588: Epoch   2 Batch 1150/3125   train_loss = 0.950\n",
      "2018-07-19T15:19:56.688947: Epoch   2 Batch 1170/3125   train_loss = 0.989\n",
      "2018-07-19T15:19:57.153167: Epoch   2 Batch 1190/3125   train_loss = 0.967\n",
      "2018-07-19T15:19:57.623330: Epoch   2 Batch 1210/3125   train_loss = 0.949\n",
      "2018-07-19T15:19:58.096259: Epoch   2 Batch 1230/3125   train_loss = 0.861\n",
      "2018-07-19T15:19:58.566296: Epoch   2 Batch 1250/3125   train_loss = 1.025\n",
      "2018-07-19T15:19:59.041465: Epoch   2 Batch 1270/3125   train_loss = 1.028\n",
      "2018-07-19T15:19:59.519621: Epoch   2 Batch 1290/3125   train_loss = 0.943\n",
      "2018-07-19T15:19:59.986073: Epoch   2 Batch 1310/3125   train_loss = 0.993\n",
      "2018-07-19T15:20:00.466543: Epoch   2 Batch 1330/3125   train_loss = 1.055\n",
      "2018-07-19T15:20:00.931448: Epoch   2 Batch 1350/3125   train_loss = 0.913\n",
      "2018-07-19T15:20:01.398533: Epoch   2 Batch 1370/3125   train_loss = 0.834\n",
      "2018-07-19T15:20:01.864368: Epoch   2 Batch 1390/3125   train_loss = 1.026\n",
      "2018-07-19T15:20:02.333529: Epoch   2 Batch 1410/3125   train_loss = 0.982\n",
      "2018-07-19T15:20:02.797732: Epoch   2 Batch 1430/3125   train_loss = 1.030\n",
      "2018-07-19T15:20:03.275810: Epoch   2 Batch 1450/3125   train_loss = 1.049\n",
      "2018-07-19T15:20:03.749863: Epoch   2 Batch 1470/3125   train_loss = 1.031\n",
      "2018-07-19T15:20:04.217138: Epoch   2 Batch 1490/3125   train_loss = 1.031\n",
      "2018-07-19T15:20:04.687218: Epoch   2 Batch 1510/3125   train_loss = 0.974\n",
      "2018-07-19T15:20:05.164995: Epoch   2 Batch 1530/3125   train_loss = 1.061\n",
      "2018-07-19T15:20:05.629003: Epoch   2 Batch 1550/3125   train_loss = 0.895\n",
      "2018-07-19T15:20:06.097048: Epoch   2 Batch 1570/3125   train_loss = 0.897\n",
      "2018-07-19T15:20:06.567446: Epoch   2 Batch 1590/3125   train_loss = 0.982\n",
      "2018-07-19T15:20:07.032922: Epoch   2 Batch 1610/3125   train_loss = 0.954\n",
      "2018-07-19T15:20:07.502709: Epoch   2 Batch 1630/3125   train_loss = 0.995\n",
      "2018-07-19T15:20:07.980229: Epoch   2 Batch 1650/3125   train_loss = 0.851\n",
      "2018-07-19T15:20:08.452383: Epoch   2 Batch 1670/3125   train_loss = 0.838\n",
      "2018-07-19T15:20:08.926817: Epoch   2 Batch 1690/3125   train_loss = 1.034\n",
      "2018-07-19T15:20:09.393980: Epoch   2 Batch 1710/3125   train_loss = 0.982\n",
      "2018-07-19T15:20:09.863779: Epoch   2 Batch 1730/3125   train_loss = 0.979\n",
      "2018-07-19T15:20:10.332981: Epoch   2 Batch 1750/3125   train_loss = 0.819\n",
      "2018-07-19T15:20:10.806691: Epoch   2 Batch 1770/3125   train_loss = 1.152\n",
      "2018-07-19T15:20:11.274884: Epoch   2 Batch 1790/3125   train_loss = 1.054\n",
      "2018-07-19T15:20:11.749482: Epoch   2 Batch 1810/3125   train_loss = 1.011\n",
      "2018-07-19T15:20:12.220109: Epoch   2 Batch 1830/3125   train_loss = 1.059\n",
      "2018-07-19T15:20:12.687130: Epoch   2 Batch 1850/3125   train_loss = 0.949\n",
      "2018-07-19T15:20:13.152777: Epoch   2 Batch 1870/3125   train_loss = 0.972\n",
      "2018-07-19T15:20:13.622340: Epoch   2 Batch 1890/3125   train_loss = 0.820\n",
      "2018-07-19T15:20:14.094683: Epoch   2 Batch 1910/3125   train_loss = 0.968\n",
      "2018-07-19T15:20:14.565738: Epoch   2 Batch 1930/3125   train_loss = 0.960\n",
      "2018-07-19T15:20:15.034170: Epoch   2 Batch 1950/3125   train_loss = 0.852\n",
      "2018-07-19T15:20:15.511046: Epoch   2 Batch 1970/3125   train_loss = 0.992\n",
      "2018-07-19T15:20:15.980519: Epoch   2 Batch 1990/3125   train_loss = 0.841\n",
      "2018-07-19T15:20:16.447870: Epoch   2 Batch 2010/3125   train_loss = 0.841\n",
      "2018-07-19T15:20:16.911549: Epoch   2 Batch 2030/3125   train_loss = 0.941\n",
      "2018-07-19T15:20:17.380035: Epoch   2 Batch 2050/3125   train_loss = 1.007\n",
      "2018-07-19T15:20:17.845633: Epoch   2 Batch 2070/3125   train_loss = 0.931\n",
      "2018-07-19T15:20:18.316777: Epoch   2 Batch 2090/3125   train_loss = 0.879\n",
      "2018-07-19T15:20:18.781989: Epoch   2 Batch 2110/3125   train_loss = 1.026\n",
      "2018-07-19T15:20:19.248251: Epoch   2 Batch 2130/3125   train_loss = 0.880\n",
      "2018-07-19T15:20:19.713350: Epoch   2 Batch 2150/3125   train_loss = 1.002\n",
      "2018-07-19T15:20:20.182726: Epoch   2 Batch 2170/3125   train_loss = 0.895\n",
      "2018-07-19T15:20:20.636922: Epoch   2 Batch 2190/3125   train_loss = 0.979\n",
      "2018-07-19T15:20:21.100292: Epoch   2 Batch 2210/3125   train_loss = 0.928\n",
      "2018-07-19T15:20:21.578573: Epoch   2 Batch 2230/3125   train_loss = 0.833\n",
      "2018-07-19T15:20:22.042755: Epoch   2 Batch 2250/3125   train_loss = 0.988\n",
      "2018-07-19T15:20:22.505863: Epoch   2 Batch 2270/3125   train_loss = 0.920\n",
      "2018-07-19T15:20:22.973842: Epoch   2 Batch 2290/3125   train_loss = 0.904\n",
      "2018-07-19T15:20:23.445978: Epoch   2 Batch 2310/3125   train_loss = 0.886\n",
      "2018-07-19T15:20:23.925740: Epoch   2 Batch 2330/3125   train_loss = 0.980\n",
      "2018-07-19T15:20:24.392725: Epoch   2 Batch 2350/3125   train_loss = 1.057\n",
      "2018-07-19T15:20:24.861802: Epoch   2 Batch 2370/3125   train_loss = 0.934\n",
      "2018-07-19T15:20:25.330939: Epoch   2 Batch 2390/3125   train_loss = 0.998\n",
      "2018-07-19T15:20:25.799581: Epoch   2 Batch 2410/3125   train_loss = 1.037\n",
      "2018-07-19T15:20:26.267174: Epoch   2 Batch 2430/3125   train_loss = 0.929\n",
      "2018-07-19T15:20:26.737136: Epoch   2 Batch 2450/3125   train_loss = 0.946\n",
      "2018-07-19T15:20:27.210832: Epoch   2 Batch 2470/3125   train_loss = 1.015\n",
      "2018-07-19T15:20:27.687072: Epoch   2 Batch 2490/3125   train_loss = 1.104\n",
      "2018-07-19T15:20:28.153529: Epoch   2 Batch 2510/3125   train_loss = 1.067\n",
      "2018-07-19T15:20:28.625285: Epoch   2 Batch 2530/3125   train_loss = 0.804\n",
      "2018-07-19T15:20:29.087133: Epoch   2 Batch 2550/3125   train_loss = 1.006\n",
      "2018-07-19T15:20:29.557402: Epoch   2 Batch 2570/3125   train_loss = 0.985\n",
      "2018-07-19T15:20:30.025459: Epoch   2 Batch 2590/3125   train_loss = 0.966\n",
      "2018-07-19T15:20:30.495521: Epoch   2 Batch 2610/3125   train_loss = 1.022\n",
      "2018-07-19T15:20:30.968957: Epoch   2 Batch 2630/3125   train_loss = 0.697\n",
      "2018-07-19T15:20:31.434638: Epoch   2 Batch 2650/3125   train_loss = 0.951\n",
      "2018-07-19T15:20:31.900037: Epoch   2 Batch 2670/3125   train_loss = 1.053\n",
      "2018-07-19T15:20:32.367391: Epoch   2 Batch 2690/3125   train_loss = 0.943\n",
      "2018-07-19T15:20:32.838546: Epoch   2 Batch 2710/3125   train_loss = 0.811\n",
      "2018-07-19T15:20:33.315796: Epoch   2 Batch 2730/3125   train_loss = 1.024\n",
      "2018-07-19T15:20:33.784477: Epoch   2 Batch 2750/3125   train_loss = 0.997\n",
      "2018-07-19T15:20:34.255880: Epoch   2 Batch 2770/3125   train_loss = 0.884\n",
      "2018-07-19T15:20:34.722951: Epoch   2 Batch 2790/3125   train_loss = 0.881\n",
      "2018-07-19T15:20:35.190605: Epoch   2 Batch 2810/3125   train_loss = 0.931\n",
      "2018-07-19T15:20:35.670174: Epoch   2 Batch 2830/3125   train_loss = 0.784\n",
      "2018-07-19T15:20:36.145859: Epoch   2 Batch 2850/3125   train_loss = 0.997\n",
      "2018-07-19T15:20:36.618344: Epoch   2 Batch 2870/3125   train_loss = 0.844\n",
      "2018-07-19T15:20:37.096854: Epoch   2 Batch 2890/3125   train_loss = 0.845\n",
      "2018-07-19T15:20:37.569395: Epoch   2 Batch 2910/3125   train_loss = 0.958\n",
      "2018-07-19T15:20:38.043199: Epoch   2 Batch 2930/3125   train_loss = 0.780\n",
      "2018-07-19T15:20:38.511806: Epoch   2 Batch 2950/3125   train_loss = 1.098\n",
      "2018-07-19T15:20:38.990424: Epoch   2 Batch 2970/3125   train_loss = 0.983\n",
      "2018-07-19T15:20:39.459061: Epoch   2 Batch 2990/3125   train_loss = 0.866\n",
      "2018-07-19T15:20:39.933951: Epoch   2 Batch 3010/3125   train_loss = 0.971\n",
      "2018-07-19T15:20:40.403806: Epoch   2 Batch 3030/3125   train_loss = 0.915\n",
      "2018-07-19T15:20:40.877762: Epoch   2 Batch 3050/3125   train_loss = 0.911\n",
      "2018-07-19T15:20:41.340941: Epoch   2 Batch 3070/3125   train_loss = 0.880\n",
      "2018-07-19T15:20:41.814794: Epoch   2 Batch 3090/3125   train_loss = 0.763\n",
      "2018-07-19T15:20:42.280609: Epoch   2 Batch 3110/3125   train_loss = 0.795\n",
      "2018-07-19T15:20:42.742820: Epoch   2 Batch   18/781   test_loss = 0.772\n",
      "2018-07-19T15:20:42.879049: Epoch   2 Batch   38/781   test_loss = 0.883\n",
      "2018-07-19T15:20:43.015011: Epoch   2 Batch   58/781   test_loss = 0.839\n",
      "2018-07-19T15:20:43.148491: Epoch   2 Batch   78/781   test_loss = 0.920\n",
      "2018-07-19T15:20:43.285663: Epoch   2 Batch   98/781   test_loss = 0.949\n",
      "2018-07-19T15:20:43.421520: Epoch   2 Batch  118/781   test_loss = 0.847\n",
      "2018-07-19T15:20:43.557509: Epoch   2 Batch  138/781   test_loss = 1.004\n",
      "2018-07-19T15:20:43.693898: Epoch   2 Batch  158/781   test_loss = 0.874\n",
      "2018-07-19T15:20:43.830773: Epoch   2 Batch  178/781   test_loss = 0.837\n",
      "2018-07-19T15:20:43.965341: Epoch   2 Batch  198/781   test_loss = 0.871\n",
      "2018-07-19T15:20:44.102364: Epoch   2 Batch  218/781   test_loss = 1.002\n",
      "2018-07-19T15:20:44.237261: Epoch   2 Batch  238/781   test_loss = 0.959\n",
      "2018-07-19T15:20:44.374874: Epoch   2 Batch  258/781   test_loss = 0.996\n",
      "2018-07-19T15:20:44.511078: Epoch   2 Batch  278/781   test_loss = 1.076\n",
      "2018-07-19T15:20:44.647195: Epoch   2 Batch  298/781   test_loss = 0.895\n",
      "2018-07-19T15:20:44.782597: Epoch   2 Batch  318/781   test_loss = 0.911\n",
      "2018-07-19T15:20:44.919481: Epoch   2 Batch  338/781   test_loss = 0.988\n",
      "2018-07-19T15:20:45.054068: Epoch   2 Batch  358/781   test_loss = 0.950\n",
      "2018-07-19T15:20:45.188179: Epoch   2 Batch  378/781   test_loss = 0.854\n",
      "2018-07-19T15:20:45.325249: Epoch   2 Batch  398/781   test_loss = 0.843\n",
      "2018-07-19T15:20:45.460628: Epoch   2 Batch  418/781   test_loss = 0.990\n",
      "2018-07-19T15:20:45.595574: Epoch   2 Batch  438/781   test_loss = 0.992\n",
      "2018-07-19T15:20:45.732594: Epoch   2 Batch  458/781   test_loss = 0.899\n",
      "2018-07-19T15:20:45.869314: Epoch   2 Batch  478/781   test_loss = 0.953\n",
      "2018-07-19T15:20:46.006246: Epoch   2 Batch  498/781   test_loss = 0.762\n",
      "2018-07-19T15:20:46.143044: Epoch   2 Batch  518/781   test_loss = 0.897\n",
      "2018-07-19T15:20:46.279694: Epoch   2 Batch  538/781   test_loss = 0.839\n",
      "2018-07-19T15:20:46.416011: Epoch   2 Batch  558/781   test_loss = 0.876\n",
      "2018-07-19T15:20:46.554076: Epoch   2 Batch  578/781   test_loss = 0.899\n",
      "2018-07-19T15:20:46.688909: Epoch   2 Batch  598/781   test_loss = 1.040\n",
      "2018-07-19T15:20:46.824760: Epoch   2 Batch  618/781   test_loss = 0.851\n",
      "2018-07-19T15:20:46.960463: Epoch   2 Batch  638/781   test_loss = 0.846\n",
      "2018-07-19T15:20:47.094958: Epoch   2 Batch  658/781   test_loss = 1.036\n",
      "2018-07-19T15:20:47.228984: Epoch   2 Batch  678/781   test_loss = 0.980\n",
      "2018-07-19T15:20:47.362832: Epoch   2 Batch  698/781   test_loss = 0.875\n",
      "2018-07-19T15:20:47.498650: Epoch   2 Batch  718/781   test_loss = 0.971\n",
      "2018-07-19T15:20:47.635098: Epoch   2 Batch  738/781   test_loss = 0.893\n",
      "2018-07-19T15:20:47.770111: Epoch   2 Batch  758/781   test_loss = 0.937\n",
      "2018-07-19T15:20:47.905387: Epoch   2 Batch  778/781   test_loss = 0.950\n",
      "2018-07-19T15:20:48.513078: Epoch   3 Batch    5/3125   train_loss = 0.934\n",
      "2018-07-19T15:20:48.984640: Epoch   3 Batch   25/3125   train_loss = 0.930\n",
      "2018-07-19T15:20:49.456544: Epoch   3 Batch   45/3125   train_loss = 0.790\n",
      "2018-07-19T15:20:49.921962: Epoch   3 Batch   65/3125   train_loss = 0.972\n",
      "2018-07-19T15:20:50.389742: Epoch   3 Batch   85/3125   train_loss = 0.842\n",
      "2018-07-19T15:20:50.865201: Epoch   3 Batch  105/3125   train_loss = 0.739\n",
      "2018-07-19T15:20:51.334577: Epoch   3 Batch  125/3125   train_loss = 0.950\n",
      "2018-07-19T15:20:51.803003: Epoch   3 Batch  145/3125   train_loss = 0.902\n",
      "2018-07-19T15:20:52.273100: Epoch   3 Batch  165/3125   train_loss = 0.889\n",
      "2018-07-19T15:20:52.749907: Epoch   3 Batch  185/3125   train_loss = 0.799\n",
      "2018-07-19T15:20:53.219998: Epoch   3 Batch  205/3125   train_loss = 0.884\n",
      "2018-07-19T15:20:53.685215: Epoch   3 Batch  225/3125   train_loss = 0.845\n",
      "2018-07-19T15:20:54.160261: Epoch   3 Batch  245/3125   train_loss = 1.100\n",
      "2018-07-19T15:20:54.628298: Epoch   3 Batch  265/3125   train_loss = 0.866\n",
      "2018-07-19T15:20:55.099218: Epoch   3 Batch  285/3125   train_loss = 0.956\n",
      "2018-07-19T15:20:55.572147: Epoch   3 Batch  305/3125   train_loss = 0.879\n",
      "2018-07-19T15:20:56.043493: Epoch   3 Batch  325/3125   train_loss = 0.898\n",
      "2018-07-19T15:20:56.511000: Epoch   3 Batch  345/3125   train_loss = 0.954\n",
      "2018-07-19T15:20:56.979879: Epoch   3 Batch  365/3125   train_loss = 0.862\n",
      "2018-07-19T15:20:57.454057: Epoch   3 Batch  385/3125   train_loss = 0.864\n",
      "2018-07-19T15:20:57.922137: Epoch   3 Batch  405/3125   train_loss = 0.874\n",
      "2018-07-19T15:20:58.395823: Epoch   3 Batch  425/3125   train_loss = 1.004\n",
      "2018-07-19T15:20:58.858819: Epoch   3 Batch  445/3125   train_loss = 0.905\n",
      "2018-07-19T15:20:59.322496: Epoch   3 Batch  465/3125   train_loss = 0.880\n",
      "2018-07-19T15:20:59.790707: Epoch   3 Batch  485/3125   train_loss = 0.987\n",
      "2018-07-19T15:21:00.264600: Epoch   3 Batch  505/3125   train_loss = 0.864\n",
      "2018-07-19T15:21:00.730845: Epoch   3 Batch  525/3125   train_loss = 0.988\n",
      "2018-07-19T15:21:01.199522: Epoch   3 Batch  545/3125   train_loss = 0.869\n",
      "2018-07-19T15:21:01.671849: Epoch   3 Batch  565/3125   train_loss = 1.072\n",
      "2018-07-19T15:21:02.141293: Epoch   3 Batch  585/3125   train_loss = 0.851\n",
      "2018-07-19T15:21:02.611092: Epoch   3 Batch  605/3125   train_loss = 0.934\n",
      "2018-07-19T15:21:03.073702: Epoch   3 Batch  625/3125   train_loss = 0.950\n",
      "2018-07-19T15:21:03.542495: Epoch   3 Batch  645/3125   train_loss = 1.006\n",
      "2018-07-19T15:21:04.008169: Epoch   3 Batch  665/3125   train_loss = 1.033\n",
      "2018-07-19T15:21:04.476852: Epoch   3 Batch  685/3125   train_loss = 0.929\n",
      "2018-07-19T15:21:04.941348: Epoch   3 Batch  705/3125   train_loss = 1.059\n",
      "2018-07-19T15:21:05.408798: Epoch   3 Batch  725/3125   train_loss = 0.846\n",
      "2018-07-19T15:21:05.877047: Epoch   3 Batch  745/3125   train_loss = 0.911\n",
      "2018-07-19T15:21:06.347830: Epoch   3 Batch  765/3125   train_loss = 0.913\n",
      "2018-07-19T15:21:06.811615: Epoch   3 Batch  785/3125   train_loss = 1.041\n",
      "2018-07-19T15:21:07.281113: Epoch   3 Batch  805/3125   train_loss = 0.852\n",
      "2018-07-19T15:21:07.744567: Epoch   3 Batch  825/3125   train_loss = 0.895\n",
      "2018-07-19T15:21:08.207624: Epoch   3 Batch  845/3125   train_loss = 0.926\n",
      "2018-07-19T15:21:08.674654: Epoch   3 Batch  865/3125   train_loss = 1.029\n",
      "2018-07-19T15:21:09.148363: Epoch   3 Batch  885/3125   train_loss = 0.904\n",
      "2018-07-19T15:21:09.614409: Epoch   3 Batch  905/3125   train_loss = 0.996\n",
      "2018-07-19T15:21:10.087660: Epoch   3 Batch  925/3125   train_loss = 0.944\n",
      "2018-07-19T15:21:10.559947: Epoch   3 Batch  945/3125   train_loss = 0.984\n",
      "2018-07-19T15:21:11.028600: Epoch   3 Batch  965/3125   train_loss = 0.700\n",
      "2018-07-19T15:21:11.494911: Epoch   3 Batch  985/3125   train_loss = 0.986\n",
      "2018-07-19T15:21:11.968417: Epoch   3 Batch 1005/3125   train_loss = 0.764\n",
      "2018-07-19T15:21:12.434887: Epoch   3 Batch 1025/3125   train_loss = 0.928\n",
      "2018-07-19T15:21:12.902915: Epoch   3 Batch 1045/3125   train_loss = 1.116\n",
      "2018-07-19T15:21:13.367587: Epoch   3 Batch 1065/3125   train_loss = 0.891\n",
      "2018-07-19T15:21:13.835937: Epoch   3 Batch 1085/3125   train_loss = 0.817\n",
      "2018-07-19T15:21:14.300399: Epoch   3 Batch 1105/3125   train_loss = 0.842\n",
      "2018-07-19T15:21:14.768099: Epoch   3 Batch 1125/3125   train_loss = 0.842\n",
      "2018-07-19T15:21:15.238191: Epoch   3 Batch 1145/3125   train_loss = 0.814\n",
      "2018-07-19T15:21:15.706704: Epoch   3 Batch 1165/3125   train_loss = 0.983\n",
      "2018-07-19T15:21:16.174761: Epoch   3 Batch 1185/3125   train_loss = 0.834\n",
      "2018-07-19T15:21:16.641389: Epoch   3 Batch 1205/3125   train_loss = 0.884\n",
      "2018-07-19T15:21:17.106947: Epoch   3 Batch 1225/3125   train_loss = 0.925\n",
      "2018-07-19T15:21:17.585484: Epoch   3 Batch 1245/3125   train_loss = 1.074\n",
      "2018-07-19T15:21:18.054006: Epoch   3 Batch 1265/3125   train_loss = 0.868\n",
      "2018-07-19T15:21:18.521026: Epoch   3 Batch 1285/3125   train_loss = 0.941\n",
      "2018-07-19T15:21:18.992210: Epoch   3 Batch 1305/3125   train_loss = 0.802\n",
      "2018-07-19T15:21:19.457115: Epoch   3 Batch 1325/3125   train_loss = 0.902\n",
      "2018-07-19T15:21:19.935311: Epoch   3 Batch 1345/3125   train_loss = 0.897\n",
      "2018-07-19T15:21:20.405402: Epoch   3 Batch 1365/3125   train_loss = 0.842\n",
      "2018-07-19T15:21:20.871262: Epoch   3 Batch 1385/3125   train_loss = 0.765\n",
      "2018-07-19T15:21:21.333518: Epoch   3 Batch 1405/3125   train_loss = 0.812\n",
      "2018-07-19T15:21:21.801661: Epoch   3 Batch 1425/3125   train_loss = 1.066\n",
      "2018-07-19T15:21:22.269498: Epoch   3 Batch 1445/3125   train_loss = 1.024\n",
      "2018-07-19T15:21:22.742605: Epoch   3 Batch 1465/3125   train_loss = 0.899\n",
      "2018-07-19T15:21:23.216195: Epoch   3 Batch 1485/3125   train_loss = 0.994\n",
      "2018-07-19T15:21:23.687349: Epoch   3 Batch 1505/3125   train_loss = 0.793\n",
      "2018-07-19T15:21:24.152218: Epoch   3 Batch 1525/3125   train_loss = 0.802\n",
      "2018-07-19T15:21:24.618630: Epoch   3 Batch 1545/3125   train_loss = 0.856\n",
      "2018-07-19T15:21:25.090148: Epoch   3 Batch 1565/3125   train_loss = 1.020\n",
      "2018-07-19T15:21:25.562721: Epoch   3 Batch 1585/3125   train_loss = 0.797\n",
      "2018-07-19T15:21:26.028485: Epoch   3 Batch 1605/3125   train_loss = 0.935\n",
      "2018-07-19T15:21:26.496056: Epoch   3 Batch 1625/3125   train_loss = 1.021\n",
      "2018-07-19T15:21:26.964566: Epoch   3 Batch 1645/3125   train_loss = 1.008\n",
      "2018-07-19T15:21:27.424232: Epoch   3 Batch 1665/3125   train_loss = 0.971\n",
      "2018-07-19T15:21:27.887758: Epoch   3 Batch 1685/3125   train_loss = 0.999\n",
      "2018-07-19T15:21:28.352700: Epoch   3 Batch 1705/3125   train_loss = 0.905\n",
      "2018-07-19T15:21:28.823933: Epoch   3 Batch 1725/3125   train_loss = 0.891\n",
      "2018-07-19T15:21:29.297715: Epoch   3 Batch 1745/3125   train_loss = 0.808\n",
      "2018-07-19T15:21:29.772820: Epoch   3 Batch 1765/3125   train_loss = 0.862\n",
      "2018-07-19T15:21:30.244034: Epoch   3 Batch 1785/3125   train_loss = 0.997\n",
      "2018-07-19T15:21:30.720163: Epoch   3 Batch 1805/3125   train_loss = 0.973\n",
      "2018-07-19T15:21:31.191341: Epoch   3 Batch 1825/3125   train_loss = 0.993\n",
      "2018-07-19T15:21:31.659176: Epoch   3 Batch 1845/3125   train_loss = 0.967\n",
      "2018-07-19T15:21:32.126781: Epoch   3 Batch 1865/3125   train_loss = 0.800\n",
      "2018-07-19T15:21:32.597979: Epoch   3 Batch 1885/3125   train_loss = 0.981\n",
      "2018-07-19T15:21:33.071373: Epoch   3 Batch 1905/3125   train_loss = 0.833\n",
      "2018-07-19T15:21:33.537288: Epoch   3 Batch 1925/3125   train_loss = 0.858\n",
      "2018-07-19T15:21:34.015220: Epoch   3 Batch 1945/3125   train_loss = 0.959\n",
      "2018-07-19T15:21:34.489382: Epoch   3 Batch 1965/3125   train_loss = 0.840\n",
      "2018-07-19T15:21:34.968073: Epoch   3 Batch 1985/3125   train_loss = 0.866\n",
      "2018-07-19T15:21:35.438993: Epoch   3 Batch 2005/3125   train_loss = 0.890\n",
      "2018-07-19T15:21:35.907881: Epoch   3 Batch 2025/3125   train_loss = 0.910\n",
      "2018-07-19T15:21:36.372801: Epoch   3 Batch 2045/3125   train_loss = 0.786\n",
      "2018-07-19T15:21:36.839744: Epoch   3 Batch 2065/3125   train_loss = 0.807\n",
      "2018-07-19T15:21:37.314359: Epoch   3 Batch 2085/3125   train_loss = 1.108\n",
      "2018-07-19T15:21:37.787182: Epoch   3 Batch 2105/3125   train_loss = 0.871\n",
      "2018-07-19T15:21:38.259978: Epoch   3 Batch 2125/3125   train_loss = 1.024\n",
      "2018-07-19T15:21:38.731426: Epoch   3 Batch 2145/3125   train_loss = 1.005\n",
      "2018-07-19T15:21:39.211070: Epoch   3 Batch 2165/3125   train_loss = 0.795\n",
      "2018-07-19T15:21:39.698587: Epoch   3 Batch 2185/3125   train_loss = 0.937\n",
      "2018-07-19T15:21:40.183868: Epoch   3 Batch 2205/3125   train_loss = 0.989\n",
      "2018-07-19T15:21:40.660588: Epoch   3 Batch 2225/3125   train_loss = 0.874\n",
      "2018-07-19T15:21:41.139152: Epoch   3 Batch 2245/3125   train_loss = 0.785\n",
      "2018-07-19T15:21:41.628809: Epoch   3 Batch 2265/3125   train_loss = 0.984\n",
      "2018-07-19T15:21:42.104389: Epoch   3 Batch 2285/3125   train_loss = 1.081\n",
      "2018-07-19T15:21:42.586689: Epoch   3 Batch 2305/3125   train_loss = 0.836\n",
      "2018-07-19T15:21:43.071534: Epoch   3 Batch 2325/3125   train_loss = 0.865\n",
      "2018-07-19T15:21:43.554362: Epoch   3 Batch 2345/3125   train_loss = 0.881\n",
      "2018-07-19T15:21:44.031518: Epoch   3 Batch 2365/3125   train_loss = 0.739\n",
      "2018-07-19T15:21:44.518955: Epoch   3 Batch 2385/3125   train_loss = 0.901\n",
      "2018-07-19T15:21:44.998987: Epoch   3 Batch 2405/3125   train_loss = 0.953\n",
      "2018-07-19T15:21:45.474120: Epoch   3 Batch 2425/3125   train_loss = 0.846\n",
      "2018-07-19T15:21:45.955010: Epoch   3 Batch 2445/3125   train_loss = 0.918\n",
      "2018-07-19T15:21:46.454663: Epoch   3 Batch 2465/3125   train_loss = 0.748\n",
      "2018-07-19T15:21:46.936588: Epoch   3 Batch 2485/3125   train_loss = 0.759\n",
      "2018-07-19T15:21:47.408114: Epoch   3 Batch 2505/3125   train_loss = 0.871\n",
      "2018-07-19T15:21:47.890496: Epoch   3 Batch 2525/3125   train_loss = 0.858\n",
      "2018-07-19T15:21:48.379558: Epoch   3 Batch 2545/3125   train_loss = 0.962\n",
      "2018-07-19T15:21:48.861326: Epoch   3 Batch 2565/3125   train_loss = 0.802\n",
      "2018-07-19T15:21:49.350943: Epoch   3 Batch 2585/3125   train_loss = 0.725\n",
      "2018-07-19T15:21:49.834449: Epoch   3 Batch 2605/3125   train_loss = 0.824\n",
      "2018-07-19T15:21:50.326893: Epoch   3 Batch 2625/3125   train_loss = 0.974\n",
      "2018-07-19T15:21:50.818103: Epoch   3 Batch 2645/3125   train_loss = 0.879\n",
      "2018-07-19T15:21:51.305292: Epoch   3 Batch 2665/3125   train_loss = 0.997\n",
      "2018-07-19T15:21:51.784720: Epoch   3 Batch 2685/3125   train_loss = 0.897\n",
      "2018-07-19T15:21:52.271177: Epoch   3 Batch 2705/3125   train_loss = 0.791\n",
      "2018-07-19T15:21:52.753446: Epoch   3 Batch 2725/3125   train_loss = 0.935\n",
      "2018-07-19T15:21:53.227555: Epoch   3 Batch 2745/3125   train_loss = 0.983\n",
      "2018-07-19T15:21:53.705458: Epoch   3 Batch 2765/3125   train_loss = 0.791\n",
      "2018-07-19T15:21:54.187157: Epoch   3 Batch 2785/3125   train_loss = 0.977\n",
      "2018-07-19T15:21:54.667765: Epoch   3 Batch 2805/3125   train_loss = 0.854\n",
      "2018-07-19T15:21:55.146996: Epoch   3 Batch 2825/3125   train_loss = 0.872\n",
      "2018-07-19T15:21:55.623815: Epoch   3 Batch 2845/3125   train_loss = 0.818\n",
      "2018-07-19T15:21:56.105717: Epoch   3 Batch 2865/3125   train_loss = 0.871\n",
      "2018-07-19T15:21:56.584098: Epoch   3 Batch 2885/3125   train_loss = 0.951\n",
      "2018-07-19T15:21:57.061452: Epoch   3 Batch 2905/3125   train_loss = 0.927\n",
      "2018-07-19T15:21:57.541908: Epoch   3 Batch 2925/3125   train_loss = 0.843\n",
      "2018-07-19T15:21:58.023401: Epoch   3 Batch 2945/3125   train_loss = 0.921\n",
      "2018-07-19T15:21:58.497420: Epoch   3 Batch 2965/3125   train_loss = 0.963\n",
      "2018-07-19T15:21:58.976003: Epoch   3 Batch 2985/3125   train_loss = 0.886\n",
      "2018-07-19T15:21:59.458416: Epoch   3 Batch 3005/3125   train_loss = 0.839\n",
      "2018-07-19T15:21:59.945258: Epoch   3 Batch 3025/3125   train_loss = 0.892\n",
      "2018-07-19T15:22:00.425912: Epoch   3 Batch 3045/3125   train_loss = 0.913\n",
      "2018-07-19T15:22:00.909949: Epoch   3 Batch 3065/3125   train_loss = 0.804\n",
      "2018-07-19T15:22:01.386743: Epoch   3 Batch 3085/3125   train_loss = 0.851\n",
      "2018-07-19T15:22:01.862771: Epoch   3 Batch 3105/3125   train_loss = 0.877\n",
      "2018-07-19T15:22:02.443540: Epoch   3 Batch   17/781   test_loss = 0.928\n",
      "2018-07-19T15:22:02.582990: Epoch   3 Batch   37/781   test_loss = 0.915\n",
      "2018-07-19T15:22:02.719171: Epoch   3 Batch   57/781   test_loss = 0.949\n",
      "2018-07-19T15:22:02.854245: Epoch   3 Batch   77/781   test_loss = 0.843\n",
      "2018-07-19T15:22:02.991171: Epoch   3 Batch   97/781   test_loss = 0.767\n",
      "2018-07-19T15:22:03.126525: Epoch   3 Batch  117/781   test_loss = 0.937\n",
      "2018-07-19T15:22:03.262414: Epoch   3 Batch  137/781   test_loss = 0.935\n",
      "2018-07-19T15:22:03.399560: Epoch   3 Batch  157/781   test_loss = 0.937\n",
      "2018-07-19T15:22:03.535353: Epoch   3 Batch  177/781   test_loss = 0.857\n",
      "2018-07-19T15:22:03.668846: Epoch   3 Batch  197/781   test_loss = 0.920\n",
      "2018-07-19T15:22:03.805180: Epoch   3 Batch  217/781   test_loss = 0.730\n",
      "2018-07-19T15:22:03.940072: Epoch   3 Batch  237/781   test_loss = 0.767\n",
      "2018-07-19T15:22:04.076122: Epoch   3 Batch  257/781   test_loss = 1.030\n",
      "2018-07-19T15:22:04.211616: Epoch   3 Batch  277/781   test_loss = 0.968\n",
      "2018-07-19T15:22:04.348328: Epoch   3 Batch  297/781   test_loss = 0.961\n",
      "2018-07-19T15:22:04.485638: Epoch   3 Batch  317/781   test_loss = 0.999\n",
      "2018-07-19T15:22:04.622095: Epoch   3 Batch  337/781   test_loss = 0.942\n",
      "2018-07-19T15:22:04.758390: Epoch   3 Batch  357/781   test_loss = 0.909\n",
      "2018-07-19T15:22:04.894259: Epoch   3 Batch  377/781   test_loss = 0.900\n",
      "2018-07-19T15:22:05.028267: Epoch   3 Batch  397/781   test_loss = 0.934\n",
      "2018-07-19T15:22:05.163847: Epoch   3 Batch  417/781   test_loss = 0.832\n",
      "2018-07-19T15:22:05.299251: Epoch   3 Batch  437/781   test_loss = 0.820\n",
      "2018-07-19T15:22:05.433794: Epoch   3 Batch  457/781   test_loss = 0.761\n",
      "2018-07-19T15:22:05.570180: Epoch   3 Batch  477/781   test_loss = 0.917\n",
      "2018-07-19T15:22:05.706762: Epoch   3 Batch  497/781   test_loss = 0.836\n",
      "2018-07-19T15:22:05.841477: Epoch   3 Batch  517/781   test_loss = 0.827\n",
      "2018-07-19T15:22:05.978257: Epoch   3 Batch  537/781   test_loss = 0.877\n",
      "2018-07-19T15:22:06.111816: Epoch   3 Batch  557/781   test_loss = 1.024\n",
      "2018-07-19T15:22:06.249765: Epoch   3 Batch  577/781   test_loss = 0.912\n",
      "2018-07-19T15:22:06.385152: Epoch   3 Batch  597/781   test_loss = 0.837\n",
      "2018-07-19T15:22:06.520038: Epoch   3 Batch  617/781   test_loss = 0.876\n",
      "2018-07-19T15:22:06.654124: Epoch   3 Batch  637/781   test_loss = 0.826\n",
      "2018-07-19T15:22:06.789501: Epoch   3 Batch  657/781   test_loss = 1.003\n",
      "2018-07-19T15:22:06.923216: Epoch   3 Batch  677/781   test_loss = 0.919\n",
      "2018-07-19T15:22:07.057683: Epoch   3 Batch  697/781   test_loss = 0.927\n",
      "2018-07-19T15:22:07.191571: Epoch   3 Batch  717/781   test_loss = 0.874\n",
      "2018-07-19T15:22:07.328082: Epoch   3 Batch  737/781   test_loss = 0.755\n",
      "2018-07-19T15:22:07.462509: Epoch   3 Batch  757/781   test_loss = 1.069\n",
      "2018-07-19T15:22:07.597150: Epoch   3 Batch  777/781   test_loss = 0.926\n",
      "2018-07-19T15:22:08.083916: Epoch   4 Batch    0/3125   train_loss = 1.001\n",
      "2018-07-19T15:22:08.567287: Epoch   4 Batch   20/3125   train_loss = 0.873\n",
      "2018-07-19T15:22:09.559766: Epoch   4 Batch   40/3125   train_loss = 0.876\n",
      "2018-07-19T15:22:11.011157: Epoch   4 Batch   60/3125   train_loss = 0.754\n",
      "2018-07-19T15:22:12.450414: Epoch   4 Batch   80/3125   train_loss = 0.887\n",
      "2018-07-19T15:22:13.917435: Epoch   4 Batch  100/3125   train_loss = 0.908\n",
      "2018-07-19T15:22:15.376775: Epoch   4 Batch  120/3125   train_loss = 0.951\n",
      "2018-07-19T15:22:16.834634: Epoch   4 Batch  140/3125   train_loss = 0.868\n",
      "2018-07-19T15:22:18.315699: Epoch   4 Batch  160/3125   train_loss = 0.803\n",
      "2018-07-19T15:22:19.783838: Epoch   4 Batch  180/3125   train_loss = 0.901\n",
      "2018-07-19T15:22:21.247722: Epoch   4 Batch  200/3125   train_loss = 1.114\n",
      "2018-07-19T15:22:22.704983: Epoch   4 Batch  220/3125   train_loss = 0.881\n",
      "2018-07-19T15:22:24.163941: Epoch   4 Batch  240/3125   train_loss = 0.976\n",
      "2018-07-19T15:22:25.636199: Epoch   4 Batch  260/3125   train_loss = 0.926\n",
      "2018-07-19T15:22:27.095763: Epoch   4 Batch  280/3125   train_loss = 0.992\n",
      "2018-07-19T15:22:28.546907: Epoch   4 Batch  300/3125   train_loss = 1.041\n",
      "2018-07-19T15:22:29.993658: Epoch   4 Batch  320/3125   train_loss = 0.975\n",
      "2018-07-19T15:22:31.458246: Epoch   4 Batch  340/3125   train_loss = 0.741\n",
      "2018-07-19T15:22:32.912005: Epoch   4 Batch  360/3125   train_loss = 0.840\n",
      "2018-07-19T15:22:34.354166: Epoch   4 Batch  380/3125   train_loss = 0.884\n",
      "2018-07-19T15:22:35.811963: Epoch   4 Batch  400/3125   train_loss = 0.841\n",
      "2018-07-19T15:22:37.269464: Epoch   4 Batch  420/3125   train_loss = 0.811\n",
      "2018-07-19T15:22:38.569445: Epoch   4 Batch  440/3125   train_loss = 0.868\n",
      "2018-07-19T15:22:39.619170: Epoch   4 Batch  460/3125   train_loss = 0.885\n",
      "2018-07-19T15:22:40.670534: Epoch   4 Batch  480/3125   train_loss = 0.995\n",
      "2018-07-19T15:22:41.732284: Epoch   4 Batch  500/3125   train_loss = 0.709\n",
      "2018-07-19T15:22:42.778361: Epoch   4 Batch  520/3125   train_loss = 0.920\n",
      "2018-07-19T15:22:43.834963: Epoch   4 Batch  540/3125   train_loss = 0.776\n",
      "2018-07-19T15:22:44.914246: Epoch   4 Batch  560/3125   train_loss = 1.014\n",
      "2018-07-19T15:22:45.977028: Epoch   4 Batch  580/3125   train_loss = 0.945\n",
      "2018-07-19T15:22:47.021476: Epoch   4 Batch  600/3125   train_loss = 0.915\n",
      "2018-07-19T15:22:48.083243: Epoch   4 Batch  620/3125   train_loss = 0.894\n",
      "2018-07-19T15:22:49.136077: Epoch   4 Batch  640/3125   train_loss = 0.891\n",
      "2018-07-19T15:22:50.186194: Epoch   4 Batch  660/3125   train_loss = 0.850\n",
      "2018-07-19T15:22:51.232355: Epoch   4 Batch  680/3125   train_loss = 0.941\n",
      "2018-07-19T15:22:52.273792: Epoch   4 Batch  700/3125   train_loss = 0.874\n",
      "2018-07-19T15:22:53.301542: Epoch   4 Batch  720/3125   train_loss = 0.762\n",
      "2018-07-19T15:22:54.340658: Epoch   4 Batch  740/3125   train_loss = 0.913\n",
      "2018-07-19T15:22:55.391177: Epoch   4 Batch  760/3125   train_loss = 0.802\n",
      "2018-07-19T15:22:56.436386: Epoch   4 Batch  780/3125   train_loss = 0.925\n",
      "2018-07-19T15:22:57.477101: Epoch   4 Batch  800/3125   train_loss = 0.781\n",
      "2018-07-19T15:22:58.533156: Epoch   4 Batch  820/3125   train_loss = 0.817\n",
      "2018-07-19T15:22:59.586229: Epoch   4 Batch  840/3125   train_loss = 0.838\n",
      "2018-07-19T15:23:00.633972: Epoch   4 Batch  860/3125   train_loss = 0.822\n",
      "2018-07-19T15:23:01.698588: Epoch   4 Batch  880/3125   train_loss = 0.768\n",
      "2018-07-19T15:23:02.742076: Epoch   4 Batch  900/3125   train_loss = 0.909\n",
      "2018-07-19T15:23:03.802279: Epoch   4 Batch  920/3125   train_loss = 0.939\n",
      "2018-07-19T15:23:04.850123: Epoch   4 Batch  940/3125   train_loss = 0.907\n",
      "2018-07-19T15:23:05.896408: Epoch   4 Batch  960/3125   train_loss = 0.888\n",
      "2018-07-19T15:23:06.941818: Epoch   4 Batch  980/3125   train_loss = 0.979\n",
      "2018-07-19T15:23:07.987589: Epoch   4 Batch 1000/3125   train_loss = 0.946\n",
      "2018-07-19T15:23:09.048017: Epoch   4 Batch 1020/3125   train_loss = 0.922\n",
      "2018-07-19T15:23:10.103240: Epoch   4 Batch 1040/3125   train_loss = 0.788\n",
      "2018-07-19T15:23:11.155342: Epoch   4 Batch 1060/3125   train_loss = 0.900\n",
      "2018-07-19T15:23:12.208785: Epoch   4 Batch 1080/3125   train_loss = 0.927\n",
      "2018-07-19T15:23:13.263213: Epoch   4 Batch 1100/3125   train_loss = 0.827\n",
      "2018-07-19T15:23:14.318295: Epoch   4 Batch 1120/3125   train_loss = 0.856\n",
      "2018-07-19T15:23:15.384282: Epoch   4 Batch 1140/3125   train_loss = 0.869\n",
      "2018-07-19T15:23:16.448344: Epoch   4 Batch 1160/3125   train_loss = 0.797\n",
      "2018-07-19T15:23:17.501107: Epoch   4 Batch 1180/3125   train_loss = 0.851\n",
      "2018-07-19T15:23:18.571664: Epoch   4 Batch 1200/3125   train_loss = 0.983\n",
      "2018-07-19T15:23:19.615628: Epoch   4 Batch 1220/3125   train_loss = 0.951\n",
      "2018-07-19T15:23:20.675469: Epoch   4 Batch 1240/3125   train_loss = 0.799\n",
      "2018-07-19T15:23:21.737279: Epoch   4 Batch 1260/3125   train_loss = 0.865\n",
      "2018-07-19T15:23:22.780932: Epoch   4 Batch 1280/3125   train_loss = 0.920\n",
      "2018-07-19T15:23:23.832047: Epoch   4 Batch 1300/3125   train_loss = 0.793\n",
      "2018-07-19T15:23:24.899164: Epoch   4 Batch 1320/3125   train_loss = 0.874\n",
      "2018-07-19T15:23:25.957799: Epoch   4 Batch 1340/3125   train_loss = 0.760\n",
      "2018-07-19T15:23:27.008069: Epoch   4 Batch 1360/3125   train_loss = 0.826\n",
      "2018-07-19T15:23:28.052776: Epoch   4 Batch 1380/3125   train_loss = 0.817\n",
      "2018-07-19T15:23:29.107430: Epoch   4 Batch 1400/3125   train_loss = 0.944\n",
      "2018-07-19T15:23:30.174797: Epoch   4 Batch 1420/3125   train_loss = 0.917\n",
      "2018-07-19T15:23:31.232134: Epoch   4 Batch 1440/3125   train_loss = 0.778\n",
      "2018-07-19T15:23:32.277724: Epoch   4 Batch 1460/3125   train_loss = 0.894\n",
      "2018-07-19T15:23:33.339917: Epoch   4 Batch 1480/3125   train_loss = 0.863\n",
      "2018-07-19T15:23:34.394147: Epoch   4 Batch 1500/3125   train_loss = 0.917\n",
      "2018-07-19T15:23:35.458212: Epoch   4 Batch 1520/3125   train_loss = 0.817\n",
      "2018-07-19T15:23:36.520041: Epoch   4 Batch 1540/3125   train_loss = 0.975\n",
      "2018-07-19T15:23:37.584139: Epoch   4 Batch 1560/3125   train_loss = 0.796\n",
      "2018-07-19T15:23:38.648511: Epoch   4 Batch 1580/3125   train_loss = 0.943\n",
      "2018-07-19T15:23:39.716816: Epoch   4 Batch 1600/3125   train_loss = 0.874\n",
      "2018-07-19T15:23:40.756766: Epoch   4 Batch 1620/3125   train_loss = 0.797\n",
      "2018-07-19T15:23:41.818088: Epoch   4 Batch 1640/3125   train_loss = 0.948\n",
      "2018-07-19T15:23:42.867892: Epoch   4 Batch 1660/3125   train_loss = 0.998\n",
      "2018-07-19T15:23:43.915514: Epoch   4 Batch 1680/3125   train_loss = 0.854\n",
      "2018-07-19T15:23:44.968299: Epoch   4 Batch 1700/3125   train_loss = 0.781\n",
      "2018-07-19T15:23:46.009215: Epoch   4 Batch 1720/3125   train_loss = 0.937\n",
      "2018-07-19T15:23:47.078395: Epoch   4 Batch 1740/3125   train_loss = 0.922\n",
      "2018-07-19T15:23:48.138110: Epoch   4 Batch 1760/3125   train_loss = 0.878\n",
      "2018-07-19T15:23:49.271457: Epoch   4 Batch 1780/3125   train_loss = 0.932\n",
      "2018-07-19T15:23:50.903753: Epoch   4 Batch 1800/3125   train_loss = 0.830\n",
      "2018-07-19T15:23:52.539470: Epoch   4 Batch 1820/3125   train_loss = 0.833\n",
      "2018-07-19T15:23:54.097177: Epoch   4 Batch 1840/3125   train_loss = 0.911\n",
      "2018-07-19T15:23:55.582307: Epoch   4 Batch 1860/3125   train_loss = 0.977\n",
      "2018-07-19T15:23:57.039836: Epoch   4 Batch 1880/3125   train_loss = 0.885\n",
      "2018-07-19T15:23:58.500204: Epoch   4 Batch 1900/3125   train_loss = 0.759\n",
      "2018-07-19T15:23:59.953035: Epoch   4 Batch 1920/3125   train_loss = 0.846\n",
      "2018-07-19T15:24:01.401352: Epoch   4 Batch 1940/3125   train_loss = 0.787\n",
      "2018-07-19T15:24:02.885807: Epoch   4 Batch 1960/3125   train_loss = 0.748\n",
      "2018-07-19T15:24:04.357308: Epoch   4 Batch 1980/3125   train_loss = 0.818\n",
      "2018-07-19T15:24:05.807245: Epoch   4 Batch 2000/3125   train_loss = 1.047\n",
      "2018-07-19T15:24:07.266165: Epoch   4 Batch 2020/3125   train_loss = 0.959\n",
      "2018-07-19T15:24:08.737851: Epoch   4 Batch 2040/3125   train_loss = 0.809\n",
      "2018-07-19T15:24:10.207853: Epoch   4 Batch 2060/3125   train_loss = 0.794\n",
      "2018-07-19T15:24:11.700307: Epoch   4 Batch 2080/3125   train_loss = 1.012\n",
      "2018-07-19T15:24:13.153416: Epoch   4 Batch 2100/3125   train_loss = 0.799\n",
      "2018-07-19T15:24:14.615680: Epoch   4 Batch 2120/3125   train_loss = 0.850\n",
      "2018-07-19T15:24:16.064833: Epoch   4 Batch 2140/3125   train_loss = 0.845\n",
      "2018-07-19T15:24:17.517070: Epoch   4 Batch 2160/3125   train_loss = 0.851\n",
      "2018-07-19T15:24:18.970228: Epoch   4 Batch 2180/3125   train_loss = 0.910\n",
      "2018-07-19T15:24:20.444306: Epoch   4 Batch 2200/3125   train_loss = 0.804\n",
      "2018-07-19T15:24:21.884178: Epoch   4 Batch 2220/3125   train_loss = 0.818\n",
      "2018-07-19T15:24:23.327494: Epoch   4 Batch 2240/3125   train_loss = 0.845\n",
      "2018-07-19T15:24:24.793223: Epoch   4 Batch 2260/3125   train_loss = 0.876\n",
      "2018-07-19T15:24:26.265015: Epoch   4 Batch 2280/3125   train_loss = 0.881\n",
      "2018-07-19T15:24:27.726458: Epoch   4 Batch 2300/3125   train_loss = 0.855\n",
      "2018-07-19T15:24:29.182347: Epoch   4 Batch 2320/3125   train_loss = 0.999\n",
      "2018-07-19T15:24:30.658605: Epoch   4 Batch 2340/3125   train_loss = 0.857\n",
      "2018-07-19T15:24:32.113569: Epoch   4 Batch 2360/3125   train_loss = 0.870\n",
      "2018-07-19T15:24:33.559794: Epoch   4 Batch 2380/3125   train_loss = 0.848\n",
      "2018-07-19T15:24:35.015603: Epoch   4 Batch 2400/3125   train_loss = 0.929\n",
      "2018-07-19T15:24:36.456188: Epoch   4 Batch 2420/3125   train_loss = 0.803\n",
      "2018-07-19T15:24:37.936609: Epoch   4 Batch 2440/3125   train_loss = 0.789\n",
      "2018-07-19T15:24:39.387210: Epoch   4 Batch 2460/3125   train_loss = 0.886\n",
      "2018-07-19T15:24:40.831270: Epoch   4 Batch 2480/3125   train_loss = 0.994\n",
      "2018-07-19T15:24:42.291241: Epoch   4 Batch 2500/3125   train_loss = 0.826\n",
      "2018-07-19T15:24:43.774041: Epoch   4 Batch 2520/3125   train_loss = 0.925\n",
      "2018-07-19T15:24:45.223920: Epoch   4 Batch 2540/3125   train_loss = 0.821\n",
      "2018-07-19T15:24:46.687727: Epoch   4 Batch 2560/3125   train_loss = 0.658\n",
      "2018-07-19T15:24:48.158679: Epoch   4 Batch 2580/3125   train_loss = 0.895\n",
      "2018-07-19T15:24:49.617649: Epoch   4 Batch 2600/3125   train_loss = 0.888\n",
      "2018-07-19T15:24:51.086931: Epoch   4 Batch 2620/3125   train_loss = 0.807\n",
      "2018-07-19T15:24:52.550014: Epoch   4 Batch 2640/3125   train_loss = 0.840\n",
      "2018-07-19T15:24:54.016372: Epoch   4 Batch 2660/3125   train_loss = 1.037\n",
      "2018-07-19T15:24:55.482708: Epoch   4 Batch 2680/3125   train_loss = 0.819\n",
      "2018-07-19T15:24:56.952503: Epoch   4 Batch 2700/3125   train_loss = 0.864\n",
      "2018-07-19T15:24:58.428679: Epoch   4 Batch 2720/3125   train_loss = 0.761\n",
      "2018-07-19T15:24:59.902059: Epoch   4 Batch 2740/3125   train_loss = 0.886\n",
      "2018-07-19T15:25:01.370597: Epoch   4 Batch 2760/3125   train_loss = 0.772\n",
      "2018-07-19T15:25:02.825811: Epoch   4 Batch 2780/3125   train_loss = 0.851\n",
      "2018-07-19T15:25:04.284046: Epoch   4 Batch 2800/3125   train_loss = 1.030\n",
      "2018-07-19T15:25:05.737259: Epoch   4 Batch 2820/3125   train_loss = 1.014\n",
      "2018-07-19T15:25:07.202909: Epoch   4 Batch 2840/3125   train_loss = 0.825\n",
      "2018-07-19T15:25:08.665766: Epoch   4 Batch 2860/3125   train_loss = 0.786\n",
      "2018-07-19T15:25:10.127900: Epoch   4 Batch 2880/3125   train_loss = 0.880\n",
      "2018-07-19T15:25:11.589292: Epoch   4 Batch 2900/3125   train_loss = 0.880\n",
      "2018-07-19T15:25:13.064658: Epoch   4 Batch 2920/3125   train_loss = 0.871\n",
      "2018-07-19T15:25:14.513937: Epoch   4 Batch 2940/3125   train_loss = 0.912\n",
      "2018-07-19T15:25:15.975076: Epoch   4 Batch 2960/3125   train_loss = 0.870\n",
      "2018-07-19T15:25:17.448837: Epoch   4 Batch 2980/3125   train_loss = 0.857\n",
      "2018-07-19T15:25:18.884828: Epoch   4 Batch 3000/3125   train_loss = 0.941\n",
      "2018-07-19T15:25:20.359902: Epoch   4 Batch 3020/3125   train_loss = 1.008\n",
      "2018-07-19T15:25:21.814035: Epoch   4 Batch 3040/3125   train_loss = 0.908\n",
      "2018-07-19T15:25:23.289322: Epoch   4 Batch 3060/3125   train_loss = 0.828\n",
      "2018-07-19T15:25:24.756384: Epoch   4 Batch 3080/3125   train_loss = 0.977\n",
      "2018-07-19T15:25:26.210668: Epoch   4 Batch 3100/3125   train_loss = 1.046\n",
      "2018-07-19T15:25:27.664319: Epoch   4 Batch 3120/3125   train_loss = 0.843\n",
      "2018-07-19T15:25:28.208969: Epoch   4 Batch   16/781   test_loss = 0.862\n",
      "2018-07-19T15:25:28.346130: Epoch   4 Batch   36/781   test_loss = 0.852\n",
      "2018-07-19T15:25:28.481771: Epoch   4 Batch   56/781   test_loss = 0.957\n",
      "2018-07-19T15:25:28.620125: Epoch   4 Batch   76/781   test_loss = 0.957\n",
      "2018-07-19T15:25:28.758448: Epoch   4 Batch   96/781   test_loss = 0.999\n",
      "2018-07-19T15:25:28.892697: Epoch   4 Batch  116/781   test_loss = 0.868\n",
      "2018-07-19T15:25:29.028874: Epoch   4 Batch  136/781   test_loss = 0.791\n",
      "2018-07-19T15:25:29.165831: Epoch   4 Batch  156/781   test_loss = 0.886\n",
      "2018-07-19T15:25:29.302494: Epoch   4 Batch  176/781   test_loss = 0.898\n",
      "2018-07-19T15:25:29.439083: Epoch   4 Batch  196/781   test_loss = 0.788\n",
      "2018-07-19T15:25:29.574652: Epoch   4 Batch  216/781   test_loss = 0.960\n",
      "2018-07-19T15:25:29.709580: Epoch   4 Batch  236/781   test_loss = 0.802\n",
      "2018-07-19T15:25:29.845852: Epoch   4 Batch  256/781   test_loss = 0.819\n",
      "2018-07-19T15:25:29.981406: Epoch   4 Batch  276/781   test_loss = 1.105\n",
      "2018-07-19T15:25:30.116143: Epoch   4 Batch  296/781   test_loss = 0.834\n",
      "2018-07-19T15:25:30.252901: Epoch   4 Batch  316/781   test_loss = 0.875\n",
      "2018-07-19T15:25:30.389663: Epoch   4 Batch  336/781   test_loss = 0.754\n",
      "2018-07-19T15:25:30.524855: Epoch   4 Batch  356/781   test_loss = 0.881\n",
      "2018-07-19T15:25:30.659678: Epoch   4 Batch  376/781   test_loss = 0.943\n",
      "2018-07-19T15:25:30.795930: Epoch   4 Batch  396/781   test_loss = 0.828\n",
      "2018-07-19T15:25:30.930199: Epoch   4 Batch  416/781   test_loss = 0.937\n",
      "2018-07-19T15:25:31.064333: Epoch   4 Batch  436/781   test_loss = 0.890\n",
      "2018-07-19T15:25:31.199458: Epoch   4 Batch  456/781   test_loss = 0.728\n",
      "2018-07-19T15:25:31.334245: Epoch   4 Batch  476/781   test_loss = 0.953\n",
      "2018-07-19T15:25:31.468887: Epoch   4 Batch  496/781   test_loss = 0.965\n",
      "2018-07-19T15:25:31.604443: Epoch   4 Batch  516/781   test_loss = 0.812\n",
      "2018-07-19T15:25:31.738724: Epoch   4 Batch  536/781   test_loss = 0.928\n",
      "2018-07-19T15:25:31.873920: Epoch   4 Batch  556/781   test_loss = 0.844\n",
      "2018-07-19T15:25:32.008714: Epoch   4 Batch  576/781   test_loss = 0.958\n",
      "2018-07-19T15:25:32.145158: Epoch   4 Batch  596/781   test_loss = 0.963\n",
      "2018-07-19T15:25:32.281461: Epoch   4 Batch  616/781   test_loss = 0.944\n",
      "2018-07-19T15:25:32.416447: Epoch   4 Batch  636/781   test_loss = 0.848\n",
      "2018-07-19T15:25:32.551617: Epoch   4 Batch  656/781   test_loss = 0.938\n",
      "2018-07-19T15:25:32.685172: Epoch   4 Batch  676/781   test_loss = 1.058\n",
      "2018-07-19T15:25:32.818763: Epoch   4 Batch  696/781   test_loss = 0.842\n",
      "2018-07-19T15:25:32.954695: Epoch   4 Batch  716/781   test_loss = 0.883\n",
      "2018-07-19T15:25:33.091732: Epoch   4 Batch  736/781   test_loss = 1.067\n",
      "2018-07-19T15:25:33.226760: Epoch   4 Batch  756/781   test_loss = 0.835\n",
      "2018-07-19T15:25:33.363834: Epoch   4 Batch  776/781   test_loss = 0.776\n",
      "Model Trained and Saved\n"
     ]
    }
   ],
   "source": [
    "%matplotlib inline\n",
    "%config InlineBackend.figure_format = 'retina'\n",
    "import matplotlib.pyplot as plt\n",
    "import time\n",
    "import datetime\n",
    "\n",
    "losses = {'train':[], 'test':[]}\n",
    "\n",
    "with tf.Session(graph=train_graph) as sess:\n",
    "    \n",
    "    # 搜集数据给tensorBoard用\n",
    "    # Keep track of gradient values and sparsity\n",
    "    grad_summaries = []\n",
    "    for g, v in gradients:\n",
    "        if g is not None:\n",
    "            grad_hist_summary = tf.summary.histogram(\"{}/grad/hist\".format(v.name.replace(':', '_')), g)\n",
    "            sparsity_summary = tf.summary.scalar(\"{}/grad/sparsity\".format(v.name.replace(':', '_')), tf.nn.zero_fraction(g))\n",
    "            grad_summaries.append(grad_hist_summary)\n",
    "            grad_summaries.append(sparsity_summary)\n",
    "    grad_summaries_merged = tf.summary.merge(grad_summaries)\n",
    "        \n",
    "    # Output directory for models and summaries\n",
    "    timestamp = str(int(time.time()))\n",
    "    out_dir = os.path.abspath(os.path.join(os.path.curdir, \"runs\", timestamp))\n",
    "    print(\"Writing to {}\\n\".format(out_dir))\n",
    "     \n",
    "    # Summaries for loss and accuracy\n",
    "    loss_summary = tf.summary.scalar(\"loss\", loss)\n",
    "\n",
    "    # Train Summaries\n",
    "    train_summary_op = tf.summary.merge([loss_summary, grad_summaries_merged])\n",
    "    train_summary_dir = os.path.join(out_dir, \"summaries\", \"train\")\n",
    "    train_summary_writer = tf.summary.FileWriter(train_summary_dir, sess.graph)\n",
    "\n",
    "    # Inference summaries\n",
    "    inference_summary_op = tf.summary.merge([loss_summary])\n",
    "    inference_summary_dir = os.path.join(out_dir, \"summaries\", \"inference\")\n",
    "    inference_summary_writer = tf.summary.FileWriter(inference_summary_dir, sess.graph)\n",
    "\n",
    "    sess.run(tf.global_variables_initializer())\n",
    "    saver = tf.train.Saver()\n",
    "    for epoch_i in range(num_epochs):\n",
    "        \n",
    "        # 将数据集分成训练集和测试集，随机种子不固定\n",
    "        train_X,test_X, train_y, test_y = train_test_split(features,  \n",
    "                                                           targets_values,  \n",
    "                                                           test_size = 0.2,  \n",
    "                                                           random_state = 0)  \n",
    "        \n",
    "        train_batches = get_batches(train_X, train_y, batch_size)\n",
    "        test_batches = get_batches(test_X, test_y, batch_size)\n",
    "    \n",
    "        # 训练的迭代，保存训练损失\n",
    "        for batch_i in range(len(train_X) // batch_size):\n",
    "            x, y = next(train_batches)\n",
    "\n",
    "            categories = np.zeros([batch_size, 18])\n",
    "            for i in range(batch_size):\n",
    "                categories[i] = x.take(6,1)[i]\n",
    "\n",
    "            titles = np.zeros([batch_size, sentences_size])\n",
    "            for i in range(batch_size):\n",
    "                titles[i] = x.take(5,1)[i]\n",
    "\n",
    "            feed = {\n",
    "                uid: np.reshape(x.take(0,1), [batch_size, 1]),\n",
    "                user_gender: np.reshape(x.take(2,1), [batch_size, 1]),\n",
    "                user_age: np.reshape(x.take(3,1), [batch_size, 1]),\n",
    "                user_job: np.reshape(x.take(4,1), [batch_size, 1]),\n",
    "                movie_id: np.reshape(x.take(1,1), [batch_size, 1]),\n",
    "                movie_categories: categories,  #x.take(6,1)\n",
    "                movie_titles: titles,  #x.take(5,1)\n",
    "                targets: np.reshape(y, [batch_size, 1]),\n",
    "                dropout_keep_prob: dropout_keep, #dropout_keep\n",
    "                lr: learning_rate}\n",
    "\n",
    "            step, train_loss, summaries, _ = sess.run([global_step, loss, train_summary_op, train_op], feed)  #cost\n",
    "            losses['train'].append(train_loss)\n",
    "            train_summary_writer.add_summary(summaries, step)  #\n",
    "            \n",
    "            # Show every <show_every_n_batches> batches\n",
    "            if (epoch_i * (len(train_X) // batch_size) + batch_i) % show_every_n_batches == 0:\n",
    "                time_str = datetime.datetime.now().isoformat()\n",
    "                print('{}: Epoch {:>3} Batch {:>4}/{}   train_loss = {:.3f}'.format(\n",
    "                    time_str,\n",
    "                    epoch_i,\n",
    "                    batch_i,\n",
    "                    (len(train_X) // batch_size),\n",
    "                    train_loss))\n",
    "                \n",
    "        # 使用测试数据的迭代\n",
    "        for batch_i  in range(len(test_X) // batch_size):\n",
    "            x, y = next(test_batches)\n",
    "            \n",
    "            categories = np.zeros([batch_size, 18])\n",
    "            for i in range(batch_size):\n",
    "                categories[i] = x.take(6,1)[i]\n",
    "\n",
    "            titles = np.zeros([batch_size, sentences_size])\n",
    "            for i in range(batch_size):\n",
    "                titles[i] = x.take(5,1)[i]\n",
    "\n",
    "            feed = {\n",
    "                uid: np.reshape(x.take(0,1), [batch_size, 1]),\n",
    "                user_gender: np.reshape(x.take(2,1), [batch_size, 1]),\n",
    "                user_age: np.reshape(x.take(3,1), [batch_size, 1]),\n",
    "                user_job: np.reshape(x.take(4,1), [batch_size, 1]),\n",
    "                movie_id: np.reshape(x.take(1,1), [batch_size, 1]),\n",
    "                movie_categories: categories,  #x.take(6,1)\n",
    "                movie_titles: titles,  #x.take(5,1)\n",
    "                targets: np.reshape(y, [batch_size, 1]),\n",
    "                dropout_keep_prob: 1,\n",
    "                lr: learning_rate}\n",
    "            \n",
    "            step, test_loss, summaries = sess.run([global_step, loss, inference_summary_op], feed)  #cost\n",
    "\n",
    "            # 保存测试损失\n",
    "            losses['test'].append(test_loss)\n",
    "            inference_summary_writer.add_summary(summaries, step)  #\n",
    "\n",
    "            time_str = datetime.datetime.now().isoformat()\n",
    "            if (epoch_i * (len(test_X) // batch_size) + batch_i) % show_every_n_batches == 0:\n",
    "                print('{}: Epoch {:>3} Batch {:>4}/{}   test_loss = {:.3f}'.format(\n",
    "                    time_str,\n",
    "                    epoch_i,\n",
    "                    batch_i,\n",
    "                    (len(test_X) // batch_size),\n",
    "                    test_loss))\n",
    "\n",
    "    # Save Model\n",
    "    saver.save(sess, save_dir)  #, global_step=epoch_i\n",
    "    print('Model Trained and Saved')"
   ]
  },
  {
   "cell_type": "markdown",
   "metadata": {},
   "source": [
    "## 保存参数\n",
    "\n",
    "保存save_dir 在生成预测时使用。"
   ]
  },
  {
   "cell_type": "code",
   "execution_count": 29,
   "metadata": {
    "collapsed": true
   },
   "outputs": [],
   "source": [
    "save_params((save_dir))\n",
    "\n",
    "load_dir = load_params()"
   ]
  },
  {
   "cell_type": "markdown",
   "metadata": {},
   "source": [
    "## 显示训练Loss"
   ]
  },
  {
   "cell_type": "code",
   "execution_count": 30,
   "metadata": {
    "collapsed": false
   },
   "outputs": [
    {
     "data": {
      "image/png": "[encoded data removed]",
      "text/plain": [
       "<matplotlib.figure.Figure at 0x7f531a90bef0>"
      ]
     },
     "metadata": {
      "image/png": {
       "height": 250,
       "width": 370
      }
     },
     "output_type": "display_data"
    }
   ],
   "source": [
    "plt.plot(losses['train'], label='Training loss')\n",
    "plt.legend()\n",
    "_ = plt.ylim()"
   ]
  },
  {
   "cell_type": "markdown",
   "metadata": {},
   "source": [
    "## 显示测试Loss\n",
    "\n",
    "迭代次数再增加一些，下降的趋势会明显一些"
   ]
  },
  {
   "cell_type": "code",
   "execution_count": 31,
   "metadata": {
    "collapsed": false
   },
   "outputs": [
    {
     "data": {
      "image/png": "[encoded data removed]",
      "text/plain": [
       "<matplotlib.figure.Figure at 0x7f53135b2e48>"
      ]
     },
     "metadata": {
      "image/png": {
       "height": 250,
       "width": 377
      }
     },
     "output_type": "display_data"
    }
   ],
   "source": [
    "plt.plot(losses['test'], label='Test loss')\n",
    "plt.legend()\n",
    "_ = plt.ylim()"
   ]
  },
  {
   "cell_type": "markdown",
   "metadata": {},
   "source": [
    "## 获取  Tensors\n",
    "\n",
    "使用函数 [get_tensor_by_name()](https://www.tensorflow.org/api_docs/python/tf/Graph#get_tensor_by_name)从 loaded_graph 中获取tensors，后面的推荐功能要用到。"
   ]
  },
  {
   "cell_type": "code",
   "execution_count": 32,
   "metadata": {
    "collapsed": true
   },
   "outputs": [],
   "source": [
    "def get_tensors(loaded_graph):\n",
    "\n",
    "    uid = loaded_graph.get_tensor_by_name(\"uid:0\")\n",
    "    user_gender = loaded_graph.get_tensor_by_name(\"user_gender:0\")\n",
    "    user_age = loaded_graph.get_tensor_by_name(\"user_age:0\")\n",
    "    user_job = loaded_graph.get_tensor_by_name(\"user_job:0\")\n",
    "    movie_id = loaded_graph.get_tensor_by_name(\"movie_id:0\")\n",
    "    movie_categories = loaded_graph.get_tensor_by_name(\"movie_categories:0\")\n",
    "    movie_titles = loaded_graph.get_tensor_by_name(\"movie_titles:0\")\n",
    "    targets = loaded_graph.get_tensor_by_name(\"targets:0\")\n",
    "    dropout_keep_prob = loaded_graph.get_tensor_by_name(\"dropout_keep_prob:0\")\n",
    "    lr = loaded_graph.get_tensor_by_name(\"LearningRate:0\")\n",
    "    #两种不同计算预测评分的方案使用不同的name获取tensor inference\n",
    "#     inference = loaded_graph.get_tensor_by_name(\"inference/inference/BiasAdd:0\")\n",
    "    inference = loaded_graph.get_tensor_by_name(\"inference/ExpandDims:0\") # 之前是MatMul:0 因为inference代码修改了 这里也要修改 感谢网友 @清歌 指出问题\n",
    "    movie_combine_layer_flat = loaded_graph.get_tensor_by_name(\"movie_fc/Reshape:0\")\n",
    "    user_combine_layer_flat = loaded_graph.get_tensor_by_name(\"user_fc/Reshape:0\")\n",
    "    return uid, user_gender, user_age, user_job, movie_id, movie_categories, movie_titles, targets, lr, dropout_keep_prob, inference, movie_combine_layer_flat, user_combine_layer_flat"
   ]
  },
  {
   "cell_type": "markdown",
   "metadata": {},
   "source": [
    "## 指定用户和电影进行评分\n",
    "\n",
    "这部分就是对网络做正向传播，计算得到预测的评分"
   ]
  },
  {
   "cell_type": "code",
   "execution_count": 33,
   "metadata": {
    "collapsed": true
   },
   "outputs": [],
   "source": [
    "def rating_movie(user_id_val, movie_id_val):\n",
    "    loaded_graph = tf.Graph()  #\n",
    "    with tf.Session(graph=loaded_graph) as sess:  #\n",
    "        # Load saved model\n",
    "        loader = tf.train.import_meta_graph(load_dir + '.meta')\n",
    "        loader.restore(sess, load_dir)\n",
    "    \n",
    "        # Get Tensors from loaded model\n",
    "        uid, user_gender, user_age, user_job, movie_id, movie_categories, movie_titles, targets, lr, dropout_keep_prob, inference,_, __ = get_tensors(loaded_graph)  #loaded_graph\n",
    "    \n",
    "        categories = np.zeros([1, 18])\n",
    "        categories[0] = movies.values[movieid2idx[movie_id_val]][2]\n",
    "    \n",
    "        titles = np.zeros([1, sentences_size])\n",
    "        titles[0] = movies.values[movieid2idx[movie_id_val]][1]\n",
    "    \n",
    "        feed = {\n",
    "              uid: np.reshape(users.values[user_id_val-1][0], [1, 1]),\n",
    "              user_gender: np.reshape(users.values[user_id_val-1][1], [1, 1]),\n",
    "              user_age: np.reshape(users.values[user_id_val-1][2], [1, 1]),\n",
    "              user_job: np.reshape(users.values[user_id_val-1][3], [1, 1]),\n",
    "              movie_id: np.reshape(movies.values[movieid2idx[movie_id_val]][0], [1, 1]),\n",
    "              movie_categories: categories,  #x.take(6,1)\n",
    "              movie_titles: titles,  #x.take(5,1)\n",
    "              dropout_keep_prob: 1}\n",
    "    \n",
    "        # Get Prediction\n",
    "        inference_val = sess.run([inference], feed)  \n",
    "    \n",
    "        return (inference_val)"
   ]
  },
  {
   "cell_type": "code",
   "execution_count": 34,
   "metadata": {
    "collapsed": false
   },
   "outputs": [
    {
     "data": {
      "text/plain": [
       "[array([[ 3.30636334]], dtype=float32)]"
      ]
     },
     "execution_count": 34,
     "metadata": {},
     "output_type": "execute_result"
    }
   ],
   "source": [
    "rating_movie(234, 1401)"
   ]
  },
  {
   "cell_type": "markdown",
   "metadata": {},
   "source": [
    "## 生成Movie特征矩阵\n",
    "\n",
    "将训练好的电影特征组合成电影特征矩阵并保存到本地"
   ]
  },
  {
   "cell_type": "code",
   "execution_count": 35,
   "metadata": {
    "collapsed": true
   },
   "outputs": [],
   "source": [
    "loaded_graph = tf.Graph()  #\n",
    "movie_matrics = []\n",
    "with tf.Session(graph=loaded_graph) as sess:  #\n",
    "    # Load saved model\n",
    "    loader = tf.train.import_meta_graph(load_dir + '.meta')\n",
    "    loader.restore(sess, load_dir)\n",
    "\n",
    "    # Get Tensors from loaded model\n",
    "    uid, user_gender, user_age, user_job, movie_id, movie_categories, movie_titles, targets, lr, dropout_keep_prob, _, movie_combine_layer_flat, __ = get_tensors(loaded_graph)  #loaded_graph\n",
    "\n",
    "    for item in movies.values:\n",
    "        categories = np.zeros([1, 18])\n",
    "        categories[0] = item.take(2)\n",
    "\n",
    "        titles = np.zeros([1, sentences_size])\n",
    "        titles[0] = item.take(1)\n",
    "\n",
    "        feed = {\n",
    "            movie_id: np.reshape(item.take(0), [1, 1]),\n",
    "            movie_categories: categories,  #x.take(6,1)\n",
    "            movie_titles: titles,  #x.take(5,1)\n",
    "            dropout_keep_prob: 1}\n",
    "\n",
    "        movie_combine_layer_flat_val = sess.run([movie_combine_layer_flat], feed)  \n",
    "        movie_matrics.append(movie_combine_layer_flat_val)\n",
    "\n",
    "pickle.dump((np.array(movie_matrics).reshape(-1, 200)), open('movie_matrics.p', 'wb'))\n",
    "movie_matrics = pickle.load(open('movie_matrics.p', mode='rb'))"
   ]
  },
  {
   "cell_type": "code",
   "execution_count": 36,
   "metadata": {
    "collapsed": true
   },
   "outputs": [],
   "source": [
    "movie_matrics = pickle.load(open('movie_matrics.p', mode='rb'))"
   ]
  },
  {
   "cell_type": "markdown",
   "metadata": {},
   "source": [
    "## 生成User特征矩阵\n",
    "\n",
    "将训练好的用户特征组合成用户特征矩阵并保存到本地"
   ]
  },
  {
   "cell_type": "code",
   "execution_count": 37,
   "metadata": {
    "collapsed": true
   },
   "outputs": [],
   "source": [
    "loaded_graph = tf.Graph()  #\n",
    "users_matrics = []\n",
    "with tf.Session(graph=loaded_graph) as sess:  #\n",
    "    # Load saved model\n",
    "    loader = tf.train.import_meta_graph(load_dir + '.meta')\n",
    "    loader.restore(sess, load_dir)\n",
    "\n",
    "    # Get Tensors from loaded model\n",
    "    uid, user_gender, user_age, user_job, movie_id, movie_categories, movie_titles, targets, lr, dropout_keep_prob, _, __,user_combine_layer_flat = get_tensors(loaded_graph)  #loaded_graph\n",
    "\n",
    "    for item in users.values:\n",
    "\n",
    "        feed = {\n",
    "            uid: np.reshape(item.take(0), [1, 1]),\n",
    "            user_gender: np.reshape(item.take(1), [1, 1]),\n",
    "            user_age: np.reshape(item.take(2), [1, 1]),\n",
    "            user_job: np.reshape(item.take(3), [1, 1]),\n",
    "            dropout_keep_prob: 1}\n",
    "\n",
    "        user_combine_layer_flat_val = sess.run([user_combine_layer_flat], feed)  \n",
    "        users_matrics.append(user_combine_layer_flat_val)\n",
    "\n",
    "pickle.dump((np.array(users_matrics).reshape(-1, 200)), open('users_matrics.p', 'wb'))\n",
    "users_matrics = pickle.load(open('users_matrics.p', mode='rb'))"
   ]
  },
  {
   "cell_type": "code",
   "execution_count": 38,
   "metadata": {
    "collapsed": true
   },
   "outputs": [],
   "source": [
    "users_matrics = pickle.load(open('users_matrics.p', mode='rb'))"
   ]
  },
  {
   "cell_type": "markdown",
   "metadata": {},
   "source": [
    "## 开始推荐电影\n",
    "\n",
    "使用生产的用户特征矩阵和电影特征矩阵做电影推荐\n",
    "\n",
    "### 推荐同类型的电影\n",
    "\n",
    "思路是计算当前看的电影特征向量与整个电影特征矩阵的余弦相似度，取相似度最大的top_k个，这里加了些随机选择在里面，保证每次的推荐稍稍有些不同。"
   ]
  },
  {
   "cell_type": "code",
   "execution_count": 39,
   "metadata": {
    "collapsed": true
   },
   "outputs": [],
   "source": [
    "def recommend_same_type_movie(movie_id_val, top_k = 20):\n",
    "    \n",
    "    loaded_graph = tf.Graph()  #\n",
    "    with tf.Session(graph=loaded_graph) as sess:  #\n",
    "        # Load saved model\n",
    "        loader = tf.train.import_meta_graph(load_dir + '.meta')\n",
    "        loader.restore(sess, load_dir)\n",
    "        \n",
    "        norm_movie_matrics = tf.sqrt(tf.reduce_sum(tf.square(movie_matrics), 1, keep_dims=True))\n",
    "        normalized_movie_matrics = movie_matrics / norm_movie_matrics\n",
    "\n",
    "        #推荐同类型的电影\n",
    "        probs_embeddings = (movie_matrics[movieid2idx[movie_id_val]]).reshape([1, 200])\n",
    "        probs_similarity = tf.matmul(probs_embeddings, tf.transpose(normalized_movie_matrics))\n",
    "        sim = (probs_similarity.eval())\n",
    "    #     results = (-sim[0]).argsort()[0:top_k]\n",
    "    #     print(results)\n",
    "        \n",
    "        print(\"您看的电影是：{}\".format(movies_orig[movieid2idx[movie_id_val]]))\n",
    "        print(\"以下是给您的推荐：\")\n",
    "        p = np.squeeze(sim)\n",
    "        p[np.argsort(p)[:-top_k]] = 0\n",
    "        p = p / np.sum(p)\n",
    "        results = set()\n",
    "        while len(results) != 5:\n",
    "            c = np.random.choice(3883, 1, p=p)[0]\n",
    "            results.add(c)\n",
    "        for val in (results):\n",
    "            print(val)\n",
    "            print(movies_orig[val])\n",
    "        \n",
    "        return results"
   ]
  },
  {
   "cell_type": "code",
   "execution_count": 40,
   "metadata": {
    "collapsed": false
   },
   "outputs": [
    {
     "name": "stdout",
     "output_type": "stream",
     "text": [
      "您看的电影是：[1401 'Ghosts of Mississippi (1996)' 'Drama']\n",
      "以下是给您的推荐：\n",
      "42\n",
      "[43 'Restoration (1995)' 'Drama']\n",
      "1679\n",
      "[1728 'Winter Guest, The (1997)' 'Drama']\n",
      "1777\n",
      "[1846 'Nil By Mouth (1997)' 'Drama']\n",
      "3313\n",
      "[3382 'Song of Freedom (1936)' 'Drama']\n",
      "279\n",
      "[282 'Nell (1994)' 'Drama']\n"
     ]
    },
    {
     "data": {
      "text/plain": [
       "{42, 279, 1679, 1777, 3313}"
      ]
     },
     "execution_count": 40,
     "metadata": {},
     "output_type": "execute_result"
    }
   ],
   "source": [
    "recommend_same_type_movie(1401, 20)"
   ]
  },
  {
   "cell_type": "markdown",
   "metadata": {},
   "source": [
    "### 推荐您喜欢的电影\n",
    "\n",
    "思路是使用用户特征向量与电影特征矩阵计算所有电影的评分，取评分最高的top_k个，同样加了些随机选择部分。"
   ]
  },
  {
   "cell_type": "code",
   "execution_count": 41,
   "metadata": {
    "collapsed": true
   },
   "outputs": [],
   "source": [
    "def recommend_your_favorite_movie(user_id_val, top_k = 10):\n",
    "\n",
    "    loaded_graph = tf.Graph()  #\n",
    "    with tf.Session(graph=loaded_graph) as sess:  #\n",
    "        # Load saved model\n",
    "        loader = tf.train.import_meta_graph(load_dir + '.meta')\n",
    "        loader.restore(sess, load_dir)\n",
    "\n",
    "        #推荐您喜欢的电影\n",
    "        probs_embeddings = (users_matrics[user_id_val-1]).reshape([1, 200])\n",
    "\n",
    "        probs_similarity = tf.matmul(probs_embeddings, tf.transpose(movie_matrics))\n",
    "        sim = (probs_similarity.eval())\n",
    "    #     print(sim.shape)\n",
    "    #     results = (-sim[0]).argsort()[0:top_k]\n",
    "    #     print(results)\n",
    "        \n",
    "    #     sim_norm = probs_norm_similarity.eval()\n",
    "    #     print((-sim_norm[0]).argsort()[0:top_k])\n",
    "    \n",
    "        print(\"以下是给您的推荐：\")\n",
    "        p = np.squeeze(sim)\n",
    "        p[np.argsort(p)[:-top_k]] = 0\n",
    "        p = p / np.sum(p)\n",
    "        results = set()\n",
    "        while len(results) != 5:\n",
    "            c = np.random.choice(3883, 1, p=p)[0]\n",
    "            results.add(c)\n",
    "        for val in (results):\n",
    "            print(val)\n",
    "            print(movies_orig[val])\n",
    "\n",
    "        return results"
   ]
  },
  {
   "cell_type": "code",
   "execution_count": 42,
   "metadata": {
    "collapsed": false
   },
   "outputs": [
    {
     "name": "stdout",
     "output_type": "stream",
     "text": [
      "以下是给您的推荐：\n",
      "131\n",
      "[133 'Nueba Yol (1995)' 'Comedy|Drama']\n",
      "1162\n",
      "[1178 'Paths of Glory (1957)' 'Drama|War']\n",
      "395\n",
      "[399 'Girl in the Cadillac (1995)' 'Drama']\n",
      "847\n",
      "[858 'Godfather, The (1972)' 'Action|Crime|Drama']\n",
      "315\n",
      "[318 'Shawshank Redemption, The (1994)' 'Drama']\n"
     ]
    },
    {
     "data": {
      "text/plain": [
       "{131, 315, 395, 847, 1162}"
      ]
     },
     "execution_count": 42,
     "metadata": {},
     "output_type": "execute_result"
    }
   ],
   "source": [
    "recommend_your_favorite_movie(234, 10)"
   ]
  },
  {
   "cell_type": "markdown",
   "metadata": {},
   "source": [
    "### 看过这个电影的人还看了（喜欢）那些电影\n",
    "\n",
    "- 首先选出喜欢某个电影的top_k个人，得到这几个人的用户特征向量。\n",
    "- 然后计算这几个人对所有电影的评分\n",
    "- 选择每个人评分最高的电影作为推荐\n",
    "- 同样加入了随机选择"
   ]
  },
  {
   "cell_type": "code",
   "execution_count": 43,
   "metadata": {
    "collapsed": true
   },
   "outputs": [],
   "source": [
    "import random\n",
    "\n",
    "def recommend_other_favorite_movie(movie_id_val, top_k = 20):\n",
    "    loaded_graph = tf.Graph()  #\n",
    "    with tf.Session(graph=loaded_graph) as sess:  #\n",
    "        # Load saved model\n",
    "        loader = tf.train.import_meta_graph(load_dir + '.meta')\n",
    "        loader.restore(sess, load_dir)\n",
    "\n",
    "        probs_movie_embeddings = (movie_matrics[movieid2idx[movie_id_val]]).reshape([1, 200])\n",
    "        probs_user_favorite_similarity = tf.matmul(probs_movie_embeddings, tf.transpose(users_matrics))\n",
    "        favorite_user_id = np.argsort(probs_user_favorite_similarity.eval())[0][-top_k:]\n",
    "    #     print(normalized_users_matrics.eval().shape)\n",
    "    #     print(probs_user_favorite_similarity.eval()[0][favorite_user_id])\n",
    "    #     print(favorite_user_id.shape)\n",
    "    \n",
    "        print(\"您看的电影是：{}\".format(movies_orig[movieid2idx[movie_id_val]]))\n",
    "        \n",
    "        print(\"喜欢看这个电影的人是：{}\".format(users_orig[favorite_user_id-1]))\n",
    "        probs_users_embeddings = (users_matrics[favorite_user_id-1]).reshape([-1, 200])\n",
    "        probs_similarity = tf.matmul(probs_users_embeddings, tf.transpose(movie_matrics))\n",
    "        sim = (probs_similarity.eval())\n",
    "    #     results = (-sim[0]).argsort()[0:top_k]\n",
    "    #     print(results)\n",
    "    \n",
    "    #     print(sim.shape)\n",
    "    #     print(np.argmax(sim, 1))\n",
    "        p = np.argmax(sim, 1)\n",
    "        print(\"喜欢看这个电影的人还喜欢看：\")\n",
    "\n",
    "        results = set()\n",
    "        while len(results) != 5:\n",
    "            c = p[random.randrange(top_k)]\n",
    "            results.add(c)\n",
    "        for val in (results):\n",
    "            print(val)\n",
    "            print(movies_orig[val])\n",
    "        \n",
    "        return results"
   ]
  },
  {
   "cell_type": "code",
   "execution_count": 44,
   "metadata": {
    "collapsed": false
   },
   "outputs": [
    {
     "name": "stdout",
     "output_type": "stream",
     "text": [
      "您看的电影是：[1401 'Ghosts of Mississippi (1996)' 'Drama']\n",
      "喜欢看这个电影的人是：[[96 'F' 25 16]\n",
      " [3295 'M' 18 18]\n",
      " [1745 'M' 45 0]\n",
      " [4903 'M' 35 12]\n",
      " [1958 'F' 25 1]\n",
      " [100 'M' 35 17]\n",
      " [193 'F' 45 15]\n",
      " [2422 'F' 50 9]\n",
      " [4814 'M' 18 14]\n",
      " [3582 'F' 35 0]\n",
      " [2158 'M' 25 12]\n",
      " [5524 'F' 1 10]\n",
      " [3031 'M' 18 4]\n",
      " [2696 'M' 25 7]\n",
      " [3901 'M' 18 14]\n",
      " [287 'M' 50 13]\n",
      " [1644 'M' 18 12]\n",
      " [5861 'F' 50 1]\n",
      " [4085 'F' 25 6]\n",
      " [74 'M' 35 14]]\n",
      "喜欢看这个电影的人还喜欢看：\n",
      "131\n",
      "[133 'Nueba Yol (1995)' 'Comedy|Drama']\n",
      "3269\n",
      "[3338 'For All Mankind (1989)' 'Documentary']\n",
      "1162\n",
      "[1178 'Paths of Glory (1957)' 'Drama|War']\n",
      "910\n",
      "[922 'Sunset Blvd. (a.k.a. Sunset Boulevard) (1950)' 'Film-Noir']\n",
      "49\n",
      "[50 'Usual Suspects, The (1995)' 'Crime|Thriller']\n"
     ]
    },
    {
     "data": {
      "text/plain": [
       "{49, 131, 910, 1162, 3269}"
      ]
     },
     "execution_count": 44,
     "metadata": {},
     "output_type": "execute_result"
    }
   ],
   "source": [
    "recommend_other_favorite_movie(1401, 20)"
   ]
  },
  {
   "cell_type": "markdown",
   "metadata": {},
   "source": [
    "## 结论\n",
    "\n",
    "以上就是实现的常用的推荐功能，将网络模型作为回归问题进行训练，得到训练好的用户特征矩阵和电影特征矩阵进行推荐。\n",
    "\n",
    "## 扩展阅读\n",
    "\n",
    "如果你对个性化推荐感兴趣，以下资料建议你看看：\n",
    "\n",
    "- [`Understanding Convolutional Neural Networks for NLP`](http://www.wildml.com/2015/11/understanding-convolutional-neural-networks-for-nlp/)\n",
    "\n",
    "- [`Convolutional Neural Networks for Sentence Classification`](https://github.com/yoonkim/CNN_sentence)\n",
    "\n",
    "- [`利用TensorFlow实现卷积神经网络做文本分类`](http://www.jianshu.com/p/ed3eac3dcb39?from=singlemessage)\n",
    "\n",
    "- [`Convolutional Neural Network for Text Classification in Tensorflow`](https://github.com/dennybritz/cnn-text-classification-tf)\n",
    "\n",
    "- [`SVD Implement Recommendation systems`](https://github.com/songgc/TF-recomm)"
   ]
  },
  {
   "cell_type": "code",
   "execution_count": null,
   "metadata": {
    "collapsed": true
   },
   "outputs": [],
   "source": []
  }
 ],
 "metadata": {
  "kernelspec": {
   "display_name": "Python 3",
   "language": "python",
   "name": "python3"
  },
  "language_info": {
   "codemirror_mode": {
    "name": "ipython",
    "version": 3
   },
   "file_extension": ".py",
   "mimetype": "text/x-python",
   "name": "python",
   "nbconvert_exporter": "python",
   "pygments_lexer": "ipython3",
   "version": "3.5.4"
  }
 },
 "nbformat": 4,
 "nbformat_minor": 2
}
